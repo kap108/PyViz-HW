{
 "cells": [
  {
   "cell_type": "markdown",
   "metadata": {},
   "source": [
    "# San Francisco Rental Prices Dashboard\n",
    "\n",
    "In this notebook, you will compile the visualizations from the previous analysis into functions that can be used for a Panel dashboard."
   ]
  },
  {
   "cell_type": "code",
   "execution_count": 82,
   "metadata": {},
   "outputs": [],
   "source": [
    "# imports\n",
    "import panel as pn\n",
    "pn.extension('plotly')\n",
    "import plotly.express as px\n",
    "import pandas as pd\n",
    "import numpy as np\n",
    "import hvplot.pandas\n",
    "import matplotlib.pyplot as plt\n",
    "import os\n",
    "from pathlib import Path\n",
    "from dotenv import load_dotenv"
   ]
  },
  {
   "cell_type": "code",
   "execution_count": 83,
   "metadata": {},
   "outputs": [],
   "source": [
    "# Read the Mapbox API key\n",
    "load_dotenv()\n",
    "map_box_api = os.getenv(\"mapbox\")\n",
    "px.set_mapbox_access_token(map_box_api)"
   ]
  },
  {
   "cell_type": "markdown",
   "metadata": {},
   "source": [
    "# Import Data"
   ]
  },
  {
   "cell_type": "code",
   "execution_count": 84,
   "metadata": {},
   "outputs": [],
   "source": [
    "# Import the necessary CSVs to Pandas DataFrames\n",
    "file_path = Path(\"Data/sfo_neighborhoods_census_data.csv\")\n",
    "sfo_data = pd.read_csv(file_path, index_col=\"year\")\n",
    "\n",
    "file_path = Path(\"Data/neighborhoods_coordinates.csv\")\n",
    "df_neighborhood_locations = pd.read_csv(file_path)"
   ]
  },
  {
   "cell_type": "markdown",
   "metadata": {},
   "source": [
    "- - -"
   ]
  },
  {
   "cell_type": "markdown",
   "metadata": {},
   "source": [
    "## Panel Visualizations\n",
    "\n",
    "In this section, you will copy the code for each plot type from your analysis notebook and place it into separate functions that Panel can use to create panes for the dashboard. \n",
    "\n",
    "These functions will convert the plot object to a Panel pane.\n",
    "\n",
    "Be sure to include any DataFrame transformation/manipulation code required along with the plotting code.\n",
    "\n",
    "Return a Panel pane object from each function that can be used to build the dashboard.\n",
    "\n",
    "Note: Remove any `.show()` lines from the code. We want to return the plots instead of showing them. The Panel dashboard will then display the plots."
   ]
  },
  {
   "cell_type": "code",
   "execution_count": 214,
   "metadata": {},
   "outputs": [],
   "source": [
    "# DataFrame transformation/manipulation\n",
    "\n",
    "file_path = Path(\"Data/sfo_neighborhoods_census_data.csv\")\n",
    "sfo_data = pd.read_csv(file_path, index_col=\"year\")\n",
    "\n",
    "\n",
    "\n",
    "house_units = sfo_data.groupby('year').mean()\n",
    "min = house_units.min()['housing_units']\n",
    "max = house_units.max()['housing_units']\n",
    "\n",
    "sfo_data.groupby(by='year')['sale_price_sqr_foot', 'gross_rent'].mean()\n",
    "\n",
    "\n",
    "\n",
    "# Define Panel Visualization Functions\n",
    "\n",
    "def housing_units_per_year():\n",
    "    \"\"\"Housing Units Per Year.\"\"\"\n",
    "    housing_units_peryrfig = plt.figure() \n",
    "    house_units.plot.bar(ylim =(min-2000, max+2000),title=\"Housing Units in San Francisco from 2010-2016\", figsize=(12,8))\n",
    "    plt.close(housing_units_peryrfig)\n",
    "    return pn.pane.Matplotlib(housing_units_peryrfig)\n",
    "\n",
    "def average_gross_rent():\n",
    "    \"\"\"Average Gross Rent in San Francisco Per Year.\"\"\"\n",
    "    average_gross_rentfig = plt.figure()\n",
    "    avg_gross_rent = sfo_data.groupby(by='year')['gross_rent'].mean().plot(y='Average Gross Rent', title= \"Average Gross Rent in San Francisco\",figsize=(12,8), color='aqua')\n",
    "    plt.close(average_gross_rentfig)\n",
    "    return pn.pane.Matplotlib(average_gross_rentfig)\n",
    "\n",
    "def average_sales_price():\n",
    "    \"\"\"Average Sales Price Per Year.\"\"\"\n",
    "    average_sales_pricefig = plt.figure()    \n",
    "    avg_sqft= sfo_data.groupby(by='year')['sale_price_sqr_foot'].mean().plot(y='Average Sale Price',title=\"Average Price per SqFt by Year\",figsize=(12,8), color='yellow')\n",
    "    plt.close(average_sales_pricefig)\n",
    "    return pn.pane.Matplotlib(average_sales_pricefig)\n",
    "\n",
    "def average_price_by_neighborhood():\n",
    "    \"\"\"Average Prices by Neighborhood.\"\"\"\n",
    "    neighborhood_mean = sfo_data.groupby([sfo_data.index, \"neighborhood\"]).mean()\n",
    "    neighborhood_mean.reset_index(inplace=True)\n",
    "    \n",
    "    neighborhood_mean= neighborhood_mean.hvplot.line(\n",
    "    x=\"year\",\n",
    "    y=\"sale_price_sqr_foot\",\n",
    "    xlabel= \"Year\",\n",
    "    ylabel=\"Average Price per SqFt by Year\",\n",
    "    groupby=\"neighborhood\",\n",
    "    )   \n",
    "        \n",
    "    return (neighborhood_mean)\n",
    "\n",
    "def top_most_expensive_neighborhoods():\n",
    "    \"\"\"Top 10 Most Expensive Neighborhoods.\"\"\"\n",
    "\n",
    "    ten_most_expensive_neighborhoods = sfo_data.groupby(\"neighborhood\").mean()\n",
    "    ten_most_expensive_neighborhoods = ten_most_expensive_neighborhoods.sort_values(\"sale_price_sqr_foot\", ascending=False).head(10)\n",
    "    ten_most_expensive_neighborhoods = ten_most_expensive_neighborhoods.reset_index()\n",
    "\n",
    "    ten_most_expensive_neighborhoods= ten_most_expensive_neighborhoods.hvplot.bar(\n",
    "    x=\"neighborhood\",\n",
    "    y=\"sale_price_sqr_foot\",\n",
    "    title=\"Top 10 Most Expensive Neighborhoods\",\n",
    "    xlabel=\"Neighborhood\",\n",
    "    ylabel=\"Average Price per SqFt\",\n",
    "    height=500,\n",
    "    color=\"pink\",\n",
    "    rot=45\n",
    "    )\n",
    "\n",
    "    return (ten_most_expensive_neighborhoods)\n",
    "\n",
    "def most_expensive_neighborhoods_rent_sales():\n",
    "    \"\"\"Comparison of Rent and Sales Prices of Most Expensive Neighborhoods.\"\"\"   \n",
    "    \n",
    "    most_expensive_neighborhoods = sfo_data.groupby(\"neighborhood\").mean()\n",
    "    most_expensive_neighborhoods = most_expensive_neighborhoods.reset_index()\n",
    "\n",
    "\n",
    "    most_expensive_neighborhoods= most_expensive_neighborhoods.hvplot.bar(\n",
    "    x=\"neighborhood\",\n",
    "    y=[\"gross_rent\",\"sale_price_sqr_foot\"],\n",
    "    title=\"Most Expensive Neighborhoods\",\n",
    "    xlabel=\"Neighborhood\",\n",
    "    ylabel=\"Number of Houses\",\n",
    "    groupby= \"neighborhood\",\n",
    "    height=500,\n",
    "    color=\"pink\",\n",
    "    rot=45\n",
    "    )\n",
    "\n",
    "    return (most_expensive_neighborhoods)\n",
    "\n",
    "    \n",
    "    \n",
    "def parallel_coordinates():\n",
    "    \"\"\"Parallel Coordinates Plot.\"\"\"\n",
    "    neighborhood_mean = sfo_data.groupby(by= \"neighborhood\").mean()\n",
    "    neighborhood_mean = neighborhood_mean.sort_values(\"sale_price_sqr_foot\", ascending=False).head(10)\n",
    "    neighborhood_mean.reset_index(inplace=True)\n",
    "    df_expensive_neighborhoods=px.parallel_coordinates(\n",
    "    neighborhood_mean,\n",
    "    title= \"Parallel Coordinates Analysis\",\n",
    "    color='sale_price_sqr_foot')\n",
    "    return (df_expensive_neighborhoods)\n",
    "\n",
    "\n",
    "def parallel_categories():\n",
    "    \"\"\"Parallel Categories Plot.\"\"\"\n",
    "    \n",
    "    ten_most_expensive_neighborhoods = sfo_data.groupby(\"neighborhood\").mean()\n",
    "    ten_most_expensive_neighborhoods = ten_most_expensive_neighborhoods.sort_values(\"sale_price_sqr_foot\", ascending=False).head(10)\n",
    "    ten_most_expensive_neighborhoods = ten_most_expensive_neighborhoods.reset_index()\n",
    "    neighborhood_mean = sfo_data.groupby(by= \"neighborhood\").mean()\n",
    "    neighborhood_mean = neighborhood_mean.sort_values(\"sale_price_sqr_foot\", ascending=False).head(10)\n",
    "    neighborhood_mean.reset_index(inplace=True)\n",
    "    df_expensive_neighborhoods_per_year = neighborhood_mean[neighborhood_mean [\"neighborhood\"].isin(ten_most_expensive_neighborhoods[\"neighborhood\"])]\n",
    "    df_expensive_per_year= px.parallel_categories(\n",
    "    df_expensive_neighborhoods_per_year,\n",
    "    dimensions=['neighborhood','sale_price_sqr_foot', 'housing_units', 'gross_rent'],\n",
    "    title= \"Parallel Categories Analysis\",\n",
    "    color=\"sale_price_sqr_foot\"\n",
    "    )\n",
    "\n",
    "    return (df_expensive_per_year)\n",
    "    \n",
    "def neighborhood_map():\n",
    "    \"\"\"Neighborhood Map.\"\"\"\n",
    "    px.set_mapbox_access_token(map_box_api)\n",
    "    file_path = Path(\"Data/neighborhoods_coordinates.csv\")\n",
    "    neighborhood_locations = pd.read_csv(file_path)\n",
    "    neighborhood_mean = sfo_data.groupby(by= \"neighborhood\").mean()\n",
    "    neighborhood_mean.reset_index(inplace=True)\n",
    "    neighborhood_mean.rename(columns={\"neighborhood\": \"Neighborhood\"}, inplace=True)\n",
    "    neighborhood_mean\n",
    "    df_all_neighborhoods = pd.merge(\n",
    "        df_neighborhood_locations, neighborhood_mean, on=\"Neighborhood\"\n",
    "    )\n",
    "    neighborhood_map = px.scatter_mapbox(\n",
    "        df_all_neighborhoods,\n",
    "        lat=\"Lat\",\n",
    "        lon=\"Lon\",\n",
    "        size=\"sale_price_sqr_foot\",\n",
    "        color=\"gross_rent\",\n",
    "        color_continuous_scale=px.colors.cyclical.IceFire,\n",
    "        size_max=15,\n",
    "        zoom=11,\n",
    "        hover_name=\"Neighborhood\",\n",
    "        title=\"Average Sale Price Per Square Foot and Gross Rent in San Francisco\",\n",
    "    )\n",
    "    plotly_panel = pn.pane.Plotly(neighborhood_map)\n",
    "    plotly_panel._updates = True\n",
    "    return plotly_panel\n",
    "\n",
    "def sunburst():\n",
    "    \"\"\"Sunburst Plot.\"\"\"\n",
    "    sfo_data.reset_index(inplace=True)\n",
    "    ten_most_expensive_neighborhoods = sfo_data.groupby(\"neighborhood\").mean()\n",
    "    ten_most_expensive_neighborhoods = ten_most_expensive_neighborhoods.sort_values(\"sale_price_sqr_foot\", ascending=False).head(10)\n",
    "    ten_most_expensive_neighborhoods = ten_most_expensive_neighborhoods.reset_index()\n",
    "    neighborhood_mean = sfo_data.groupby(by= \"neighborhood\").mean()\n",
    "    neighborhood_mean = neighborhood_mean.sort_values(\"sale_price_sqr_foot\", ascending=False).head(10)\n",
    "    neighborhood_mean.reset_index(inplace=True)\n",
    "    neighborhood_mean.rename(columns={\"Neighborhood\": \"neighborhood\"}, inplace=True)\n",
    "    print (neighborhood_mean.columns)\n",
    "    print (ten_most_expensive_neighborhoods.columns)\n",
    "    df_expensive_neighborhoods_per_year = neighborhood_mean[neighborhood_mean[\"neighborhood\"].isin(ten_most_expensive_neighborhoods[\"neighborhood\"])]\n",
    "    sunburst = px.sunburst(df_expensive_neighborhoods_per_year, path=['year', 'neighborhood'],\n",
    "                  color='gross_rent',\n",
    "                  color_continuous_scale='rdbu',\n",
    "                  color_continuous_midpoint=np.average(df_expensive_neighborhoods_per_year['gross_rent']))\n",
    "    return (sunburst)"
   ]
  },
  {
   "cell_type": "markdown",
   "metadata": {},
   "source": [
    "## Panel Dashboard\n",
    "\n",
    "In this section, you will combine all of the plots into a single dashboard view using Panel. Be creative with your dashboard design!"
   ]
  },
  {
   "cell_type": "code",
   "execution_count": 179,
   "metadata": {},
   "outputs": [
    {
     "data": {
      "image/png": "[encoded data removed]",
      "text/plain": [
       "<Figure size 864x576 with 1 Axes>"
      ]
     },
     "metadata": {
      "needs_background": "light"
     },
     "output_type": "display_data"
    }
   ],
   "source": [
    "# Create a Title for the Dashboard\n",
    "title = pn.pane.Markdown(\n",
    "    \"\"\"\n",
    "    # San Francisco Housing Cost Analysis\n",
    "    \"\"\",\n",
    "    width=500,\n",
    ")\n",
    "\n",
    "\n",
    "welcome = pn.pane.Markdown(\n",
    "    \"\"\"\n",
    "    This dashboard displays visual analysis of historical sales and pricing data from 2010 to 2016 in the San Francisco market. \n",
    "    These graphs will help you assess the changes that have been made in the San Francisco market To gain an insight on the trends. \n",
    "    \"\"\"\n",
    ")\n",
    "\n",
    "# Create a tab layout for the dashboard\n",
    "\n",
    "tabs = pn.Tabs(\n",
    "    (\"Welcome\", pn.Column(welcome, neighborhood_map())),\n",
    "    (\"Yearly Real Estate Market Analysis\", pn.Row(housing_units_per_year(), average_gross_rent(), average_sales_price())),\n",
    "    (\"Neighborhood Analysis\", pn.Column(average_price_by_neighborhood(), top_most_expensive_neighborhoods())),\n",
    "    (\"Parallel Plots\", pn.Column(parallel_coordinates(), parallel_categories(), width=960),)\n",
    ")\n",
    "\n",
    "\n",
    "# Create the dashboard\n",
    "\n",
    "panel = pn.Column(pn.Row(title), tabs, width=500)"
   ]
  },
  {
   "cell_type": "markdown",
   "metadata": {},
   "source": [
    "## Serve the Panel Dashboard"
   ]
  },
  {
   "cell_type": "code",
   "execution_count": 180,
   "metadata": {},
   "outputs": [
    {
     "data": {},
     "metadata": {},
     "output_type": "display_data"
    },
    {
     "data": {},
     "metadata": {},
     "output_type": "display_data"
    },
    {
     "data": {
      "application/vnd.holoviews_exec.v0+json": "",
      "text/html": [
       "<div id='2412'>\n",
       "\n",
       "\n",
       "\n",
       "\n",
       "\n",
       "  <div class=\"bk-root\" id=\"ab30d23e-e286-4b0c-a3ff-1783e5b07275\" data-root-id=\"2412\"></div>\n",
       "</div>\n",
       "<script type=\"application/javascript\">(function(root) {\n",
       "  function embed_document(root) {\n",
       "    var docs_json = {\"26952ece-ed7b-4e64-a17e-2c1cf7ca7506\":{\"defs\":[{\"extends\":null,\"module\":null,\"name\":\"DataModel\",\"overrides\":[],\"properties\":[]}],\"roots\":{\"references\":[{\"attributes\":{},\"id\":\"2522\",\"type\":\"BasicTicker\"},{\"attributes\":{},\"id\":\"2445\",\"type\":\"BasicTicker\"},{\"attributes\":{\"child\":{\"id\":\"2426\"},\"name\":\"Column04458\",\"title\":\"Neighborhood Analysis\"},\"id\":\"2573\",\"type\":\"Panel\"},{\"attributes\":{\"height\":576,\"margin\":[5,5,5,5],\"name\":\"Matplotlib04339\",\"text\":\"&lt;img src=&quot;data:image/png;base64,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&quot; width=&quot;864px&quot; height=&quot;576px&quot; alt=&quot;&quot;&gt;&lt;/img&gt;\",\"width\":864},\"id\":\"2423\",\"type\":\"panel.models.markup.HTML\"},{\"attributes\":{\"axis\":{\"id\":\"2521\"},\"dimension\":1,\"grid_line_color\":null,\"ticker\":null},\"id\":\"2524\",\"type\":\"Grid\"},{\"attributes\":{\"axis\":{\"id\":\"2444\"},\"dimension\":1,\"grid_line_color\":null,\"ticker\":null},\"id\":\"2447\",\"type\":\"Grid\"},{\"attributes\":{\"data\":{\"hovertext\":[[\"Alamo Square\",\"Anza Vista\",\"Bayview\",\"Bayview Heights\",\"Buena Vista Park\",\"Central Richmond\",\"Central Sunset\",\"Clarendon Heights\",\"Corona Heights\",\"Cow Hollow\",\"Croker Amazon\",\"Diamond Heights\",\"Duboce Triangle\",\"Eureka Valley/Dolores Heights\",\"Excelsior\",\"Financial District North\",\"Financial District South\",\"Forest Knolls\",\"Glen Park\",\"Golden Gate Heights\",\"Haight Ashbury\",\"Hayes Valley\",\"Hunters Point\",\"Ingleside Heights\",\"Inner Mission\",\"Inner Parkside\",\"Inner Richmond\",\"Inner Sunset\",\"Jordan Park/Laurel Heights\",\"Lake --The Presidio\",\"Lone Mountain\",\"Lower Pacific Heights\",\"Marina\",\"Merced Heights\",\"Midtown Terrace\",\"Miraloma Park\",\"Mission Bay\",\"Mission Dolores\",\"Mission Terrace\",\"Nob Hill\",\"Noe Valley\",\"North Beach\",\"North Waterfront\",\"Oceanview\",\"Outer Mission\",\"Outer Parkside\",\"Outer Sunset\",\"Pacific Heights\",\"Park North\",\"Parkside\",\"Parnassus/Ashbury Heights\",\"Portola\",\"Potrero Hill\",\"Presidio Heights\",\"Russian Hill\",\"Silver Terrace\",\"South Beach\",\"South of Market\",\"Sunnyside\",\"Telegraph Hill\",\"Twin Peaks\",\"Union Square District\",\"Van Ness/ Civic Center\",\"Visitacion Valley\",\"West Portal\",\"Western Addition\",\"Westwood Highlands\",\"Westwood Park\",\"Yerba Buena\"]],\"lat\":[{\"__ndarray__\":\"LV+X4T/lQkB1AwXeyeNCQBmto6oJ3kJAvqQxWkfdQkA0DB8RU+JCQFbxRuaR40JAlWBxOPPfQkD430p2bOBCQHEDPj+M5EJA6DBfXoDlQkA/xty1hNxCQDZxcr9D3UJAw9hCkIPiQkDxaOOIteBCQL6kMVpH3UJAjGfQ0D/lQkCMZ9DQP+VCQAyOklfn4EJANnFyv0PdQkB7n6pCA+FCQMuhRbbz4UJAy6FFtvPhQkDidf2C3dxCQHiXi/hO3EJAxvmbUIjgQkCVYHE4899CQAd7E0Ny4kJAlWBxOPPfQkBxAz4/jORCQIOLFTWY5kJAXW3F/rLjQkDoMF9egOVCQIP6ljld5kJAY7SOqibcQkD430p2bOBCQOAtkKD43UJAf59x4UDkQkCO6QlLPOBCQDZxcr9D3UJA6DBfXoDlQkD430p2bOBCQApoImx45kJACmgibHjmQkBjtI6qJtxCQD/G3LWE3EJAnDOitDfgQkCVYHE4899CQOgwX16A5UJAvodLjjvdQkCVYHE4899CQC9uowG84UJAGa2jqgneQkB2/YLdsN1CQHEDPj+M5EJA6DBfXoDlQkAZraOqCd5CQH+fceFA5EJAjGfQ0D/lQkDgLZCg+N1CQApoImx45kJAyFuufmzgQkCMZ9DQP+VCQNVz0vvG40JAvqQxWkfdQkC7RPXWwN5CQOgwX16A5UJAgy9MpgreQkDgLZCg+N1CQOgwX16A5UJA\",\"dtype\":\"float64\",\"order\":\"little\",\"shape\":[69]}],\"lon\":[{\"__ndarray__\":\"L26jAbyZXsA5mE2AYZxewPfuj/eqmV7A2dMOf02aXsC1iZP7HZxewELKT6p9nF7AfVcE/1ufXsAtlbcjnJxewHe+nxovnV7AIHu9++ObXsBDxTh/E5xewIofY+5anF7A6Z/gYkWbXsADIVnABJxewNnTDn9Nml7AL26jAbyZXsAvbqMBvJlewCSvzjEgnV7Aih9j7lqcXsAnLPGAsp1ewE+XxcTmm17AT5fFxOabXsCkU1c+y5dewDY3picsn17AzOmymNiaXsB9VwT/W59ewEjdzr7ynl7AWoEhq1ufXsB3vp8aL51ewIjvxKwXnV7APz+MEB6dXsAge73745tewBU1mIbhnV7Aj+TyH9KdXsAtlbcjnJxewGmR7Xw/nV7AHcnlP6SZXsC6ZvLNNptewIofY+5anF7AIHu9++ObXsAtlbcjnJxewKuy74rgmV7Aq7LviuCZXsCP5PIf0p1ewEPFOH8TnF7ABoGVQ4ucXsB9VwT/W59ewCB7vfvjm17AxzNo6J+eXsB9VwT/W59ewOzAOSNKnV7A9+6P96qZXsA3oRABh5hewHe+nxovnV7AIHu9++ObXsD37o/3qplewB3J5T+kmV7AL26jAbyZXsBpke18P51ewKuy74rgmV7ARdeFH5ycXsAvbqMBvJlewAJIbeLkml7A2dMOf02aXsAvUb01sJ1ewCB7vfvjm17A/0KPGD2dXsBpke18P51ewFRcVfZdmV7A\",\"dtype\":\"float64\",\"order\":\"little\",\"shape\":[69]}],\"marker.color\":[{\"__ndarray__\":\"SZIkSZICpkCrqqqqqq+nQM3MzMzMHKJAAAAAAAA2rUCrqqqqqhWlQEmSJEmSAqZASZIkSZICpkAAAAAAAJWhQAAAAAAAUKNASZIkSZICpkCrqqqqqhWlQAAAAAAAgJ9AAAAAAIC4pUBJkiRJkgKmQKuqqqqqr6dASZIkSZICpkAAAAAAAFCjQAAAAAAA1ptAAAAAAACnpkDNzMzMzFKkQEmSJEmSAqZASZIkSZICpkAAAAAAAHKjQAAAAAAAIKdASZIkSZICpkAAAAAAADCpQEmSJEmSAqZASZIkSZICpkBJkiRJkgKmQFVVVVVV9qNAVVVVVVX2o0BJkiRJkgKmQEmSJEmSAqZAAAAAAACsqkAAAAAAAK+kQAAAAACA1qBAVVVVVVXPpEBVVVVVVfajQM3MzMzMyqhASZIkSZICpkBJkiRJkgKmQJqZmZmZXadAzczMzMwEpkAAAAAAAASjQAAAAACAZ6dASZIkSZICpkBJkiRJkgKmQEmSJEmSAqZASZIkSZICpkBVVVVVVfajQEmSJEmSAqZAzczMzMwcokBJkiRJkgKmQEmSJEmSAqZASZIkSZICpkAAAAAAAJCrQAAAAAAAZqBASZIkSZICpkAAAAAAAKemQEmSJEmSAqZASZIkSZICpkBVVVVVVfajQEmSJEmSAqZAAAAAAACSrEAAAAAAAKejQFVVVVVV9qNAAAAAAACVoUAAAAAAAO6uQFVVVVVV9qNA\",\"dtype\":\"float64\",\"order\":\"little\",\"shape\":[69]}],\"marker.size\":[{\"__ndarray__\":\"cJyd1VTgdkAk1Xd7HVZ3QMu7p//VkmlA/m3ou1d2gkDh3lCz40p8QJMjOSXCpnhA8UR6wAF7ekBgIJwN63N+QHYgjQJQXIJADVduW7bPhEAtmqsjEfByQA42LireL3tABPQiJJZpf0DNvwdH/RGEQIwgrDxBTHhATKx878x1eEBGXRUgYX18QOcoDRF0HXRAyf/3Apx+g0Br5HcBJvuDQEKNqFi3GHxAQJv/3Ow+dkAFP/VX/1NlQPmqSlDEDHhAfmgaicfaeECrA3m3FTuAQN85W0+CqXdAyXixJK7aeUCo3p7PEouAQBsbzgZFn3lA1YI2J6jjfUADLzpc59mAQOt1/4D+PYJAfSK5L8KmiEDjM3wxFTSBQFx/3pp8XohAcr9Bp4mxgUC9Hcljpi56QAabwse6W4BAhQqU+EOjfEAzwd8Vi/OAQA1GhppZunlANYyg6lAkf0A0VzbjjqF0QGONxdbeS25ATpTGpG5QfkBicP8ngaN4QBabFVByjIVAMlaax7lbd0AUODg4wwJ1QGCc43LsxYNAk1Rio9JxdECazArhG7CEQMvN+TvNGoVAb73/oN0Hg0DTKbSOXEllQMmt8u7+UIRAhuHC4SvSgUD/YX/xi4KAQL0KhXgNJIVAiyAuxmBWfUAlEBQx8j+MQEdUUCNnQnlAoAgieXXXckDK9HfV0Cd/QF1rdMb+OHNAQN/mqKGtgEBs0ERas3iFQIOO/MStBYJA\",\"dtype\":\"float64\",\"order\":\"little\",\"shape\":[69]}]},\"selected\":{\"id\":\"2582\"},\"selection_policy\":{\"id\":\"2581\"}},\"id\":\"2418\",\"type\":\"ColumnDataSource\"},{\"attributes\":{\"height\":288,\"margin\":[5,5,5,5],\"name\":\"Matplotlib04337\",\"text\":\"&lt;img src=&quot;data:image/png;base64,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&quot; width=&quot;432px&quot; height=&quot;288px&quot; alt=&quot;&quot;&gt;&lt;/img&gt;\",\"width\":432},\"id\":\"2422\",\"type\":\"panel.models.markup.HTML\"},{\"attributes\":{\"data_source\":{\"id\":\"2538\"},\"glyph\":{\"id\":\"2541\"},\"hover_glyph\":null,\"muted_glyph\":{\"id\":\"2543\"},\"nonselection_glyph\":{\"id\":\"2542\"},\"selection_glyph\":{\"id\":\"2546\"},\"view\":{\"id\":\"2545\"}},\"id\":\"2544\",\"type\":\"GlyphRenderer\"},{\"attributes\":{\"data\":[{\"dimensions\":[{\"label\":\"neighborhood\"},{\"label\":\"sale_price_sqr_foot\"},{\"label\":\"housing_units\"},{\"label\":\"gross_rent\"}],\"domain\":{\"x\":[0.0,1.0],\"y\":[0.0,1.0]},\"line\":{\"coloraxis\":\"coloraxis\"},\"name\":\"\",\"type\":\"parcats\"}],\"data_sources\":[{\"id\":\"2577\"}],\"layout\":{\"coloraxis\":{\"colorbar\":{\"title\":{\"text\":\"sale_price_sqr_foot\"}},\"colorscale\":[[0.0,\"#0d0887\"],[0.1111111111111111,\"#46039f\"],[0.2222222222222222,\"#7201a8\"],[0.3333333333333333,\"#9c179e\"],[0.4444444444444444,\"#bd3786\"],[0.5555555555555556,\"#d8576b\"],[0.6666666666666666,\"#ed7953\"],[0.7777777777777778,\"#fb9f3a\"],[0.8888888888888888,\"#fdca26\"],[1.0,\"#f0f921\"]]},\"legend\":{\"tracegroupgap\":0},\"template\":{\"data\":{\"bar\":[{\"error_x\":{\"color\":\"#2a3f5f\"},\"error_y\":{\"color\":\"#2a3f5f\"},\"marker\":{\"line\":{\"color\":\"#E5ECF6\",\"width\":0.5}},\"type\":\"bar\"}],\"barpolar\":[{\"marker\":{\"line\":{\"color\":\"#E5ECF6\",\"width\":0.5}},\"type\":\"barpolar\"}],\"carpet\":[{\"aaxis\":{\"endlinecolor\":\"#2a3f5f\",\"gridcolor\":\"white\",\"linecolor\":\"white\",\"minorgridcolor\":\"white\",\"startlinecolor\":\"#2a3f5f\"},\"baxis\":{\"endlinecolor\":\"#2a3f5f\",\"gridcolor\":\"white\",\"linecolor\":\"white\",\"minorgridcolor\":\"white\",\"startlinecolor\":\"#2a3f5f\"},\"type\":\"carpet\"}],\"choropleth\":[{\"colorbar\":{\"outlinewidth\":0,\"ticks\":\"\"},\"type\":\"choropleth\"}],\"contour\":[{\"colorbar\":{\"outlinewidth\":0,\"ticks\":\"\"},\"colorscale\":[[0.0,\"#0d0887\"],[0.1111111111111111,\"#46039f\"],[0.2222222222222222,\"#7201a8\"],[0.3333333333333333,\"#9c179e\"],[0.4444444444444444,\"#bd3786\"],[0.5555555555555556,\"#d8576b\"],[0.6666666666666666,\"#ed7953\"],[0.7777777777777778,\"#fb9f3a\"],[0.8888888888888888,\"#fdca26\"],[1.0,\"#f0f921\"]],\"type\":\"contour\"}],\"contourcarpet\":[{\"colorbar\":{\"outlinewidth\":0,\"ticks\":\"\"},\"type\":\"contourcarpet\"}],\"heatmap\":[{\"colorbar\":{\"outlinewidth\":0,\"ticks\":\"\"},\"colorscale\":[[0.0,\"#0d0887\"],[0.1111111111111111,\"#46039f\"],[0.2222222222222222,\"#7201a8\"],[0.3333333333333333,\"#9c179e\"],[0.4444444444444444,\"#bd3786\"],[0.5555555555555556,\"#d8576b\"],[0.6666666666666666,\"#ed7953\"],[0.7777777777777778,\"#fb9f3a\"],[0.8888888888888888,\"#fdca26\"],[1.0,\"#f0f921\"]],\"type\":\"heatmap\"}],\"heatmapgl\":[{\"colorbar\":{\"outlinewidth\":0,\"ticks\":\"\"},\"colorscale\":[[0.0,\"#0d0887\"],[0.1111111111111111,\"#46039f\"],[0.2222222222222222,\"#7201a8\"],[0.3333333333333333,\"#9c179e\"],[0.4444444444444444,\"#bd3786\"],[0.5555555555555556,\"#d8576b\"],[0.6666666666666666,\"#ed7953\"],[0.7777777777777778,\"#fb9f3a\"],[0.8888888888888888,\"#fdca26\"],[1.0,\"#f0f921\"]],\"type\":\"heatmapgl\"}],\"histogram\":[{\"marker\":{\"colorbar\":{\"outlinewidth\":0,\"ticks\":\"\"}},\"type\":\"histogram\"}],\"histogram2d\":[{\"colorbar\":{\"outlinewidth\":0,\"ticks\":\"\"},\"colorscale\":[[0.0,\"#0d0887\"],[0.1111111111111111,\"#46039f\"],[0.2222222222222222,\"#7201a8\"],[0.3333333333333333,\"#9c179e\"],[0.4444444444444444,\"#bd3786\"],[0.5555555555555556,\"#d8576b\"],[0.6666666666666666,\"#ed7953\"],[0.7777777777777778,\"#fb9f3a\"],[0.8888888888888888,\"#fdca26\"],[1.0,\"#f0f921\"]],\"type\":\"histogram2d\"}],\"histogram2dcontour\":[{\"colorbar\":{\"outlinewidth\":0,\"ticks\":\"\"},\"colorscale\":[[0.0,\"#0d0887\"],[0.1111111111111111,\"#46039f\"],[0.2222222222222222,\"#7201a8\"],[0.3333333333333333,\"#9c179e\"],[0.4444444444444444,\"#bd3786\"],[0.5555555555555556,\"#d8576b\"],[0.6666666666666666,\"#ed7953\"],[0.7777777777777778,\"#fb9f3a\"],[0.8888888888888888,\"#fdca26\"],[1.0,\"#f0f921\"]],\"type\":\"histogram2dcontour\"}],\"mesh3d\":[{\"colorbar\":{\"outlinewidth\":0,\"ticks\":\"\"},\"type\":\"mesh3d\"}],\"parcoords\":[{\"line\":{\"colorbar\":{\"outlinewidth\":0,\"ticks\":\"\"}},\"type\":\"parcoords\"}],\"pie\":[{\"automargin\":true,\"type\":\"pie\"}],\"scatter\":[{\"marker\":{\"colorbar\":{\"outlinewidth\":0,\"ticks\":\"\"}},\"type\":\"scatter\"}],\"scatter3d\":[{\"line\":{\"colorbar\":{\"outlinewidth\":0,\"ticks\":\"\"}},\"marker\":{\"colorbar\":{\"outlinewidth\":0,\"ticks\":\"\"}},\"type\":\"scatter3d\"}],\"scattercarpet\":[{\"marker\":{\"colorbar\":{\"outlinewidth\":0,\"ticks\":\"\"}},\"type\":\"scattercarpet\"}],\"scattergeo\":[{\"marker\":{\"colorbar\":{\"outlinewidth\":0,\"ticks\":\"\"}},\"type\":\"scattergeo\"}],\"scattergl\":[{\"marker\":{\"colorbar\":{\"outlinewidth\":0,\"ticks\":\"\"}},\"type\":\"scattergl\"}],\"scattermapbox\":[{\"marker\":{\"colorbar\":{\"outlinewidth\":0,\"ticks\":\"\"}},\"type\":\"scattermapbox\"}],\"scatterpolar\":[{\"marker\":{\"colorbar\":{\"outlinewidth\":0,\"ticks\":\"\"}},\"type\":\"scatterpolar\"}],\"scatterpolargl\":[{\"marker\":{\"colorbar\":{\"outlinewidth\":0,\"ticks\":\"\"}},\"type\":\"scatterpolargl\"}],\"scatterternary\":[{\"marker\":{\"colorbar\":{\"outlinewidth\":0,\"ticks\":\"\"}},\"type\":\"scatterternary\"}],\"surface\":[{\"colorbar\":{\"outlinewidth\":0,\"ticks\":\"\"},\"colorscale\":[[0.0,\"#0d0887\"],[0.1111111111111111,\"#46039f\"],[0.2222222222222222,\"#7201a8\"],[0.3333333333333333,\"#9c179e\"],[0.4444444444444444,\"#bd3786\"],[0.5555555555555556,\"#d8576b\"],[0.6666666666666666,\"#ed7953\"],[0.7777777777777778,\"#fb9f3a\"],[0.8888888888888888,\"#fdca26\"],[1.0,\"#f0f921\"]],\"type\":\"surface\"}],\"table\":[{\"cells\":{\"fill\":{\"color\":\"#EBF0F8\"},\"line\":{\"color\":\"white\"}},\"header\":{\"fill\":{\"color\":\"#C8D4E3\"},\"line\":{\"color\":\"white\"}},\"type\":\"table\"}]},\"layout\":{\"annotationdefaults\":{\"arrowcolor\":\"#2a3f5f\",\"arrowhead\":0,\"arrowwidth\":1},\"autotypenumbers\":\"strict\",\"coloraxis\":{\"colorbar\":{\"outlinewidth\":0,\"ticks\":\"\"}},\"colorscale\":{\"diverging\":[[0,\"#8e0152\"],[0.1,\"#c51b7d\"],[0.2,\"#de77ae\"],[0.3,\"#f1b6da\"],[0.4,\"#fde0ef\"],[0.5,\"#f7f7f7\"],[0.6,\"#e6f5d0\"],[0.7,\"#b8e186\"],[0.8,\"#7fbc41\"],[0.9,\"#4d9221\"],[1,\"#276419\"]],\"sequential\":[[0.0,\"#0d0887\"],[0.1111111111111111,\"#46039f\"],[0.2222222222222222,\"#7201a8\"],[0.3333333333333333,\"#9c179e\"],[0.4444444444444444,\"#bd3786\"],[0.5555555555555556,\"#d8576b\"],[0.6666666666666666,\"#ed7953\"],[0.7777777777777778,\"#fb9f3a\"],[0.8888888888888888,\"#fdca26\"],[1.0,\"#f0f921\"]],\"sequentialminus\":[[0.0,\"#0d0887\"],[0.1111111111111111,\"#46039f\"],[0.2222222222222222,\"#7201a8\"],[0.3333333333333333,\"#9c179e\"],[0.4444444444444444,\"#bd3786\"],[0.5555555555555556,\"#d8576b\"],[0.6666666666666666,\"#ed7953\"],[0.7777777777777778,\"#fb9f3a\"],[0.8888888888888888,\"#fdca26\"],[1.0,\"#f0f921\"]]},\"colorway\":[\"#636efa\",\"#EF553B\",\"#00cc96\",\"#ab63fa\",\"#FFA15A\",\"#19d3f3\",\"#FF6692\",\"#B6E880\",\"#FF97FF\",\"#FECB52\"],\"font\":{\"color\":\"#2a3f5f\"},\"geo\":{\"bgcolor\":\"white\",\"lakecolor\":\"white\",\"landcolor\":\"#E5ECF6\",\"showlakes\":true,\"showland\":true,\"subunitcolor\":\"white\"},\"hoverlabel\":{\"align\":\"left\"},\"hovermode\":\"closest\",\"mapbox\":{\"style\":\"light\"},\"paper_bgcolor\":\"white\",\"plot_bgcolor\":\"#E5ECF6\",\"polar\":{\"angularaxis\":{\"gridcolor\":\"white\",\"linecolor\":\"white\",\"ticks\":\"\"},\"bgcolor\":\"#E5ECF6\",\"radialaxis\":{\"gridcolor\":\"white\",\"linecolor\":\"white\",\"ticks\":\"\"}},\"scene\":{\"xaxis\":{\"backgroundcolor\":\"#E5ECF6\",\"gridcolor\":\"white\",\"gridwidth\":2,\"linecolor\":\"white\",\"showbackground\":true,\"ticks\":\"\",\"zerolinecolor\":\"white\"},\"yaxis\":{\"backgroundcolor\":\"#E5ECF6\",\"gridcolor\":\"white\",\"gridwidth\":2,\"linecolor\":\"white\",\"showbackground\":true,\"ticks\":\"\",\"zerolinecolor\":\"white\"},\"zaxis\":{\"backgroundcolor\":\"#E5ECF6\",\"gridcolor\":\"white\",\"gridwidth\":2,\"linecolor\":\"white\",\"showbackground\":true,\"ticks\":\"\",\"zerolinecolor\":\"white\"}},\"shapedefaults\":{\"line\":{\"color\":\"#2a3f5f\"}},\"ternary\":{\"aaxis\":{\"gridcolor\":\"white\",\"linecolor\":\"white\",\"ticks\":\"\"},\"baxis\":{\"gridcolor\":\"white\",\"linecolor\":\"white\",\"ticks\":\"\"},\"bgcolor\":\"#E5ECF6\",\"caxis\":{\"gridcolor\":\"white\",\"linecolor\":\"white\",\"ticks\":\"\"}},\"title\":{\"x\":0.05},\"xaxis\":{\"automargin\":true,\"gridcolor\":\"white\",\"linecolor\":\"white\",\"ticks\":\"\",\"title\":{\"standoff\":15},\"zerolinecolor\":\"white\",\"zerolinewidth\":2},\"yaxis\":{\"automargin\":true,\"gridcolor\":\"white\",\"linecolor\":\"white\",\"ticks\":\"\",\"title\":{\"standoff\":15},\"zerolinecolor\":\"white\",\"zerolinewidth\":2}}},\"title\":{\"text\":\"Parallel Categories Analysis\"}},\"margin\":[5,5,5,5],\"name\":\"Plotly04461\",\"viewport_update_throttle\":200},\"id\":\"2578\",\"type\":\"panel.models.plotly.PlotlyPlot\"},{\"attributes\":{\"text\":\"neighborhood: Alamo Square\",\"text_color\":\"black\",\"text_font_size\":\"12pt\"},\"id\":\"2432\",\"type\":\"Title\"},{\"attributes\":{},\"id\":\"2549\",\"type\":\"CategoricalTickFormatter\"},{\"attributes\":{},\"id\":\"2547\",\"type\":\"AllLabels\"},{\"attributes\":{\"child\":{\"id\":\"2416\"},\"name\":\"Column04336\",\"title\":\"Welcome\"},\"id\":\"2420\",\"type\":\"Panel\"},{\"attributes\":{\"children\":[{\"id\":\"2431\"},{\"id\":\"2502\"}],\"margin\":[0,0,0,0],\"name\":\"Row04445\"},\"id\":\"2427\",\"type\":\"Row\"},{\"attributes\":{},\"id\":\"2525\",\"type\":\"SaveTool\"},{\"attributes\":{},\"id\":\"2526\",\"type\":\"PanTool\"},{\"attributes\":{\"margin\":[0,0,0,0],\"tabs\":[{\"id\":\"2420\"},{\"id\":\"2425\"},{\"id\":\"2573\"},{\"id\":\"2579\"}]},\"id\":\"2415\",\"type\":\"Tabs\"},{\"attributes\":{},\"id\":\"2529\",\"type\":\"ResetTool\"},{\"attributes\":{},\"id\":\"2448\",\"type\":\"SaveTool\"},{\"attributes\":{},\"id\":\"2527\",\"type\":\"WheelZoomTool\"},{\"attributes\":{},\"id\":\"2449\",\"type\":\"PanTool\"},{\"attributes\":{},\"id\":\"2452\",\"type\":\"ResetTool\"},{\"attributes\":{\"data\":{\"dimensions.0.values\":[[\"Union Square District\",\"Merced Heights\",\"Miraloma Park\",\"Pacific Heights\",\"Westwood Park\",\"Telegraph Hill\",\"Presidio Heights\",\"Cow Hollow\",\"Potrero Hill\",\"South Beach\"]],\"dimensions.1.values\":[{\"__ndarray__\":\"JRAUMfI/jEB9IrkvwqaIQFx/3pp8XohAFpsVUHKMhUBs0ERas3iFQL0KhXgNJIVAy835O80ahUANV25bts+EQJrMCuEbsIRAya3y7v5QhEA=\",\"dtype\":\"float64\",\"order\":\"little\",\"shape\":[10]}],\"dimensions.2.values\":[{\"__ndarray__\":\"AAAAAE4JF0EAAAAA8DYXQQAAAAB98hZBAAAAAIQYF0EAAAAAXFUXQQAAAACEGBdBAAAAAIQYF0EAAAAAhBgXQQAAAACEGBdBAAAAAPTvFkE=\",\"dtype\":\"float64\",\"order\":\"little\",\"shape\":[10]}],\"dimensions.3.values\":[{\"__ndarray__\":\"VVVVVVX2o0AAAAAAAKyqQAAAAACA1qBASZIkSZICpkAAAAAAAO6uQEmSJEmSAqZASZIkSZICpkBJkiRJkgKmQEmSJEmSAqZAAAAAAABmoEA=\",\"dtype\":\"float64\",\"order\":\"little\",\"shape\":[10]}],\"line.color\":[{\"__ndarray__\":\"JRAUMfI/jEB9IrkvwqaIQFx/3pp8XohAFpsVUHKMhUBs0ERas3iFQL0KhXgNJIVAy835O80ahUANV25bts+EQJrMCuEbsIRAya3y7v5QhEA=\",\"dtype\":\"float64\",\"order\":\"little\",\"shape\":[10]}]},\"selected\":{\"id\":\"2593\"},\"selection_policy\":{\"id\":\"2592\"}},\"id\":\"2577\",\"type\":\"ColumnDataSource\"},{\"attributes\":{\"css_classes\":[\"markdown\"],\"margin\":[5,5,5,5],\"name\":\"Markdown04330\",\"text\":\"&lt;h1&gt;San Francisco Housing Cost Analysis&lt;/h1&gt;\",\"width\":500},\"id\":\"2414\",\"type\":\"panel.models.markup.HTML\"},{\"attributes\":{\"overlay\":{\"id\":\"2530\"}},\"id\":\"2528\",\"type\":\"BoxZoomTool\"},{\"attributes\":{},\"id\":\"2450\",\"type\":\"WheelZoomTool\"},{\"attributes\":{},\"id\":\"2473\",\"type\":\"AllLabels\"},{\"attributes\":{\"children\":[{\"id\":\"2413\"},{\"id\":\"2415\"}],\"margin\":[0,0,0,0],\"min_width\":500,\"name\":\"Column04466\",\"width\":500},\"id\":\"2412\",\"type\":\"Column\"},{\"attributes\":{\"overlay\":{\"id\":\"2453\"}},\"id\":\"2451\",\"type\":\"BoxZoomTool\"},{\"attributes\":{\"line_color\":\"#30a2da\",\"line_width\":2,\"x\":{\"field\":\"year\"},\"y\":{\"field\":\"sale_price_sqr_foot\"}},\"id\":\"2469\",\"type\":\"Line\"},{\"attributes\":{},\"id\":\"2592\",\"type\":\"UnionRenderers\"},{\"attributes\":{\"children\":[{\"id\":\"2422\"},{\"id\":\"2423\"},{\"id\":\"2424\"}],\"margin\":[0,0,0,0],\"name\":\"Row04343\"},\"id\":\"2421\",\"type\":\"Row\"},{\"attributes\":{\"margin\":[5,5,5,5],\"name\":\"VSpacer04451\",\"sizing_mode\":\"stretch_height\"},\"id\":\"2505\",\"type\":\"Spacer\"},{\"attributes\":{\"end\":929.3801355198136,\"reset_end\":644.0175329447045,\"reset_start\":141.1976609302527,\"start\":0.0,\"tags\":[[[\"sale_price_sqr_foot\",\"sale_price_sqr_foot\",null]]]},\"id\":\"2429\",\"type\":\"Range1d\"},{\"attributes\":{\"child\":{\"id\":\"2574\"},\"name\":\"Column04463\",\"title\":\"Parallel Plots\"},\"id\":\"2579\",\"type\":\"Panel\"},{\"attributes\":{\"children\":[{\"id\":\"2427\"},{\"id\":\"2509\"}],\"margin\":[0,0,0,0],\"name\":\"Column04458\"},\"id\":\"2426\",\"type\":\"Column\"},{\"attributes\":{},\"id\":\"2462\",\"type\":\"Selection\"},{\"attributes\":{\"callback\":null,\"renderers\":[{\"id\":\"2544\"}],\"tags\":[\"hv_created\"],\"tooltips\":[[\"neighborhood\",\"@{neighborhood}\"],[\"sale_price_sqr_foot\",\"@{sale_price_sqr_foot}\"]]},\"id\":\"2508\",\"type\":\"HoverTool\"},{\"attributes\":{\"height\":576,\"margin\":[5,5,5,5],\"name\":\"Matplotlib04341\",\"text\":\"&lt;img src=&quot;data:image/png;base64,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&quot; width=&quot;864px&quot; height=&quot;576px&quot; alt=&quot;&quot;&gt;&lt;/img&gt;\",\"width\":864},\"id\":\"2424\",\"type\":\"panel.models.markup.HTML\"},{\"attributes\":{\"data\":{\"sale_price_sqr_foot\":{\"__ndarray__\":\"Dkc7WO0yckCafszcbwhxQIGRs5ot42ZAJzog0LQ8eEAWMinKGEd+QI0V5FDt0IJAVCHcmLVPdUA=\",\"dtype\":\"float64\",\"order\":\"little\",\"shape\":[7]},\"year\":[2010,2011,2012,2013,2014,2015,2016]},\"selected\":{\"id\":\"2462\"},\"selection_policy\":{\"id\":\"2489\"}},\"id\":\"2461\",\"type\":\"ColumnDataSource\"},{\"attributes\":{},\"id\":\"2470\",\"type\":\"AllLabels\"},{\"attributes\":{\"children\":[{\"id\":\"2417\"},{\"id\":\"2419\"}],\"margin\":[0,0,0,0],\"name\":\"Column04336\"},\"id\":\"2416\",\"type\":\"Column\"},{\"attributes\":{\"children\":[{\"id\":\"2576\"},{\"id\":\"2578\"}],\"margin\":[0,0,0,0],\"min_width\":960,\"name\":\"Column04463\",\"width\":960},\"id\":\"2574\",\"type\":\"Column\"},{\"attributes\":{\"active_multi\":null,\"tools\":[{\"id\":\"2508\"},{\"id\":\"2525\"},{\"id\":\"2526\"},{\"id\":\"2527\"},{\"id\":\"2528\"},{\"id\":\"2529\"}]},\"id\":\"2531\",\"type\":\"Toolbar\"},{\"attributes\":{\"line_alpha\":0.1,\"line_color\":\"#30a2da\",\"line_width\":2,\"x\":{\"field\":\"year\"},\"y\":{\"field\":\"sale_price_sqr_foot\"}},\"id\":\"2465\",\"type\":\"Line\"},{\"attributes\":{},\"id\":\"2475\",\"type\":\"BasicTickFormatter\"},{\"attributes\":{},\"id\":\"2593\",\"type\":\"Selection\"},{\"attributes\":{\"callback\":null,\"renderers\":[{\"id\":\"2467\"}],\"tags\":[\"hv_created\"],\"tooltips\":[[\"year\",\"@{year}\"],[\"sale_price_sqr_foot\",\"@{sale_price_sqr_foot}\"]]},\"id\":\"2430\",\"type\":\"HoverTool\"},{\"attributes\":{\"data\":[{\"hovertemplate\":\"<b>%{hovertext}</b><br><br>sale_price_sqr_foot=%{marker.size}<br>Lat=%{lat}<br>Lon=%{lon}<br>gross_rent=%{marker.color}<extra></extra>\",\"legendgroup\":\"\",\"marker\":{\"coloraxis\":\"coloraxis\",\"sizemode\":\"area\",\"sizeref\":4.017747811875842},\"mode\":\"markers\",\"name\":\"\",\"showlegend\":false,\"subplot\":\"mapbox\",\"type\":\"scattermapbox\"}],\"data_sources\":[{\"id\":\"2418\"}],\"layout\":{\"coloraxis\":{\"colorbar\":{\"title\":{\"text\":\"gross_rent\"}},\"colorscale\":[[0.0,\"#000000\"],[0.0625,\"#001f4d\"],[0.125,\"#003786\"],[0.1875,\"#0e58a8\"],[0.25,\"#217eb8\"],[0.3125,\"#30a4ca\"],[0.375,\"#54c8df\"],[0.4375,\"#9be4ef\"],[0.5,\"#e1e9d1\"],[0.5625,\"#f3d573\"],[0.625,\"#e7b000\"],[0.6875,\"#da8200\"],[0.75,\"#c65400\"],[0.8125,\"#ac2301\"],[0.875,\"#820000\"],[0.9375,\"#4c0000\"],[1.0,\"#000000\"]]},\"legend\":{\"itemsizing\":\"constant\",\"tracegroupgap\":0},\"mapbox\":{\"center\":{\"lat\":37.76064079710145,\"lon\":-122.43826449275363},\"domain\":{\"x\":[0.0,1.0],\"y\":[0.0,1.0]},\"zoom\":11},\"template\":{\"data\":{\"bar\":[{\"error_x\":{\"color\":\"#2a3f5f\"},\"error_y\":{\"color\":\"#2a3f5f\"},\"marker\":{\"line\":{\"color\":\"#E5ECF6\",\"width\":0.5}},\"type\":\"bar\"}],\"barpolar\":[{\"marker\":{\"line\":{\"color\":\"#E5ECF6\",\"width\":0.5}},\"type\":\"barpolar\"}],\"carpet\":[{\"aaxis\":{\"endlinecolor\":\"#2a3f5f\",\"gridcolor\":\"white\",\"linecolor\":\"white\",\"minorgridcolor\":\"white\",\"startlinecolor\":\"#2a3f5f\"},\"baxis\":{\"endlinecolor\":\"#2a3f5f\",\"gridcolor\":\"white\",\"linecolor\":\"white\",\"minorgridcolor\":\"white\",\"startlinecolor\":\"#2a3f5f\"},\"type\":\"carpet\"}],\"choropleth\":[{\"colorbar\":{\"outlinewidth\":0,\"ticks\":\"\"},\"type\":\"choropleth\"}],\"contour\":[{\"colorbar\":{\"outlinewidth\":0,\"ticks\":\"\"},\"colorscale\":[[0.0,\"#0d0887\"],[0.1111111111111111,\"#46039f\"],[0.2222222222222222,\"#7201a8\"],[0.3333333333333333,\"#9c179e\"],[0.4444444444444444,\"#bd3786\"],[0.5555555555555556,\"#d8576b\"],[0.6666666666666666,\"#ed7953\"],[0.7777777777777778,\"#fb9f3a\"],[0.8888888888888888,\"#fdca26\"],[1.0,\"#f0f921\"]],\"type\":\"contour\"}],\"contourcarpet\":[{\"colorbar\":{\"outlinewidth\":0,\"ticks\":\"\"},\"type\":\"contourcarpet\"}],\"heatmap\":[{\"colorbar\":{\"outlinewidth\":0,\"ticks\":\"\"},\"colorscale\":[[0.0,\"#0d0887\"],[0.1111111111111111,\"#46039f\"],[0.2222222222222222,\"#7201a8\"],[0.3333333333333333,\"#9c179e\"],[0.4444444444444444,\"#bd3786\"],[0.5555555555555556,\"#d8576b\"],[0.6666666666666666,\"#ed7953\"],[0.7777777777777778,\"#fb9f3a\"],[0.8888888888888888,\"#fdca26\"],[1.0,\"#f0f921\"]],\"type\":\"heatmap\"}],\"heatmapgl\":[{\"colorbar\":{\"outlinewidth\":0,\"ticks\":\"\"},\"colorscale\":[[0.0,\"#0d0887\"],[0.1111111111111111,\"#46039f\"],[0.2222222222222222,\"#7201a8\"],[0.3333333333333333,\"#9c179e\"],[0.4444444444444444,\"#bd3786\"],[0.5555555555555556,\"#d8576b\"],[0.6666666666666666,\"#ed7953\"],[0.7777777777777778,\"#fb9f3a\"],[0.8888888888888888,\"#fdca26\"],[1.0,\"#f0f921\"]],\"type\":\"heatmapgl\"}],\"histogram\":[{\"marker\":{\"colorbar\":{\"outlinewidth\":0,\"ticks\":\"\"}},\"type\":\"histogram\"}],\"histogram2d\":[{\"colorbar\":{\"outlinewidth\":0,\"ticks\":\"\"},\"colorscale\":[[0.0,\"#0d0887\"],[0.1111111111111111,\"#46039f\"],[0.2222222222222222,\"#7201a8\"],[0.3333333333333333,\"#9c179e\"],[0.4444444444444444,\"#bd3786\"],[0.5555555555555556,\"#d8576b\"],[0.6666666666666666,\"#ed7953\"],[0.7777777777777778,\"#fb9f3a\"],[0.8888888888888888,\"#fdca26\"],[1.0,\"#f0f921\"]],\"type\":\"histogram2d\"}],\"histogram2dcontour\":[{\"colorbar\":{\"outlinewidth\":0,\"ticks\":\"\"},\"colorscale\":[[0.0,\"#0d0887\"],[0.1111111111111111,\"#46039f\"],[0.2222222222222222,\"#7201a8\"],[0.3333333333333333,\"#9c179e\"],[0.4444444444444444,\"#bd3786\"],[0.5555555555555556,\"#d8576b\"],[0.6666666666666666,\"#ed7953\"],[0.7777777777777778,\"#fb9f3a\"],[0.8888888888888888,\"#fdca26\"],[1.0,\"#f0f921\"]],\"type\":\"histogram2dcontour\"}],\"mesh3d\":[{\"colorbar\":{\"outlinewidth\":0,\"ticks\":\"\"},\"type\":\"mesh3d\"}],\"parcoords\":[{\"line\":{\"colorbar\":{\"outlinewidth\":0,\"ticks\":\"\"}},\"type\":\"parcoords\"}],\"pie\":[{\"automargin\":true,\"type\":\"pie\"}],\"scatter\":[{\"marker\":{\"colorbar\":{\"outlinewidth\":0,\"ticks\":\"\"}},\"type\":\"scatter\"}],\"scatter3d\":[{\"line\":{\"colorbar\":{\"outlinewidth\":0,\"ticks\":\"\"}},\"marker\":{\"colorbar\":{\"outlinewidth\":0,\"ticks\":\"\"}},\"type\":\"scatter3d\"}],\"scattercarpet\":[{\"marker\":{\"colorbar\":{\"outlinewidth\":0,\"ticks\":\"\"}},\"type\":\"scattercarpet\"}],\"scattergeo\":[{\"marker\":{\"colorbar\":{\"outlinewidth\":0,\"ticks\":\"\"}},\"type\":\"scattergeo\"}],\"scattergl\":[{\"marker\":{\"colorbar\":{\"outlinewidth\":0,\"ticks\":\"\"}},\"type\":\"scattergl\"}],\"scattermapbox\":[{\"marker\":{\"colorbar\":{\"outlinewidth\":0,\"ticks\":\"\"}},\"type\":\"scattermapbox\"}],\"scatterpolar\":[{\"marker\":{\"colorbar\":{\"outlinewidth\":0,\"ticks\":\"\"}},\"type\":\"scatterpolar\"}],\"scatterpolargl\":[{\"marker\":{\"colorbar\":{\"outlinewidth\":0,\"ticks\":\"\"}},\"type\":\"scatterpolargl\"}],\"scatterternary\":[{\"marker\":{\"colorbar\":{\"outlinewidth\":0,\"ticks\":\"\"}},\"type\":\"scatterternary\"}],\"surface\":[{\"colorbar\":{\"outlinewidth\":0,\"ticks\":\"\"},\"colorscale\":[[0.0,\"#0d0887\"],[0.1111111111111111,\"#46039f\"],[0.2222222222222222,\"#7201a8\"],[0.3333333333333333,\"#9c179e\"],[0.4444444444444444,\"#bd3786\"],[0.5555555555555556,\"#d8576b\"],[0.6666666666666666,\"#ed7953\"],[0.7777777777777778,\"#fb9f3a\"],[0.8888888888888888,\"#fdca26\"],[1.0,\"#f0f921\"]],\"type\":\"surface\"}],\"table\":[{\"cells\":{\"fill\":{\"color\":\"#EBF0F8\"},\"line\":{\"color\":\"white\"}},\"header\":{\"fill\":{\"color\":\"#C8D4E3\"},\"line\":{\"color\":\"white\"}},\"type\":\"table\"}]},\"layout\":{\"annotationdefaults\":{\"arrowcolor\":\"#2a3f5f\",\"arrowhead\":0,\"arrowwidth\":1},\"autotypenumbers\":\"strict\",\"coloraxis\":{\"colorbar\":{\"outlinewidth\":0,\"ticks\":\"\"}},\"colorscale\":{\"diverging\":[[0,\"#8e0152\"],[0.1,\"#c51b7d\"],[0.2,\"#de77ae\"],[0.3,\"#f1b6da\"],[0.4,\"#fde0ef\"],[0.5,\"#f7f7f7\"],[0.6,\"#e6f5d0\"],[0.7,\"#b8e186\"],[0.8,\"#7fbc41\"],[0.9,\"#4d9221\"],[1,\"#276419\"]],\"sequential\":[[0.0,\"#0d0887\"],[0.1111111111111111,\"#46039f\"],[0.2222222222222222,\"#7201a8\"],[0.3333333333333333,\"#9c179e\"],[0.4444444444444444,\"#bd3786\"],[0.5555555555555556,\"#d8576b\"],[0.6666666666666666,\"#ed7953\"],[0.7777777777777778,\"#fb9f3a\"],[0.8888888888888888,\"#fdca26\"],[1.0,\"#f0f921\"]],\"sequentialminus\":[[0.0,\"#0d0887\"],[0.1111111111111111,\"#46039f\"],[0.2222222222222222,\"#7201a8\"],[0.3333333333333333,\"#9c179e\"],[0.4444444444444444,\"#bd3786\"],[0.5555555555555556,\"#d8576b\"],[0.6666666666666666,\"#ed7953\"],[0.7777777777777778,\"#fb9f3a\"],[0.8888888888888888,\"#fdca26\"],[1.0,\"#f0f921\"]]},\"colorway\":[\"#636efa\",\"#EF553B\",\"#00cc96\",\"#ab63fa\",\"#FFA15A\",\"#19d3f3\",\"#FF6692\",\"#B6E880\",\"#FF97FF\",\"#FECB52\"],\"font\":{\"color\":\"#2a3f5f\"},\"geo\":{\"bgcolor\":\"white\",\"lakecolor\":\"white\",\"landcolor\":\"#E5ECF6\",\"showlakes\":true,\"showland\":true,\"subunitcolor\":\"white\"},\"hoverlabel\":{\"align\":\"left\"},\"hovermode\":\"closest\",\"mapbox\":{\"style\":\"light\"},\"paper_bgcolor\":\"white\",\"plot_bgcolor\":\"#E5ECF6\",\"polar\":{\"angularaxis\":{\"gridcolor\":\"white\",\"linecolor\":\"white\",\"ticks\":\"\"},\"bgcolor\":\"#E5ECF6\",\"radialaxis\":{\"gridcolor\":\"white\",\"linecolor\":\"white\",\"ticks\":\"\"}},\"scene\":{\"xaxis\":{\"backgroundcolor\":\"#E5ECF6\",\"gridcolor\":\"white\",\"gridwidth\":2,\"linecolor\":\"white\",\"showbackground\":true,\"ticks\":\"\",\"zerolinecolor\":\"white\"},\"yaxis\":{\"backgroundcolor\":\"#E5ECF6\",\"gridcolor\":\"white\",\"gridwidth\":2,\"linecolor\":\"white\",\"showbackground\":true,\"ticks\":\"\",\"zerolinecolor\":\"white\"},\"zaxis\":{\"backgroundcolor\":\"#E5ECF6\",\"gridcolor\":\"white\",\"gridwidth\":2,\"linecolor\":\"white\",\"showbackground\":true,\"ticks\":\"\",\"zerolinecolor\":\"white\"}},\"shapedefaults\":{\"line\":{\"color\":\"#2a3f5f\"}},\"ternary\":{\"aaxis\":{\"gridcolor\":\"white\",\"linecolor\":\"white\",\"ticks\":\"\"},\"baxis\":{\"gridcolor\":\"white\",\"linecolor\":\"white\",\"ticks\":\"\"},\"bgcolor\":\"#E5ECF6\",\"caxis\":{\"gridcolor\":\"white\",\"linecolor\":\"white\",\"ticks\":\"\"}},\"title\":{\"x\":0.05},\"xaxis\":{\"automargin\":true,\"gridcolor\":\"white\",\"linecolor\":\"white\",\"ticks\":\"\",\"title\":{\"standoff\":15},\"zerolinecolor\":\"white\",\"zerolinewidth\":2},\"yaxis\":{\"automargin\":true,\"gridcolor\":\"white\",\"linecolor\":\"white\",\"ticks\":\"\",\"title\":{\"standoff\":15},\"zerolinecolor\":\"white\",\"zerolinewidth\":2}}},\"title\":{\"text\":\"Average Sale Price Per Square Foot and Gross Rent in San Francisco\"}},\"margin\":[5,5,5,5],\"name\":\"Plotly04334\",\"viewport_update_throttle\":200},\"id\":\"2419\",\"type\":\"panel.models.plotly.PlotlyPlot\"},{\"attributes\":{\"bottom_units\":\"screen\",\"fill_alpha\":0.5,\"fill_color\":\"lightgrey\",\"left_units\":\"screen\",\"level\":\"overlay\",\"line_alpha\":1.0,\"line_color\":\"black\",\"line_dash\":[4,4],\"line_width\":2,\"right_units\":\"screen\",\"syncable\":false,\"top_units\":\"screen\"},\"id\":\"2530\",\"type\":\"BoxAnnotation\"},{\"attributes\":{},\"id\":\"2582\",\"type\":\"Selection\"},{\"attributes\":{\"css_classes\":[\"markdown\"],\"margin\":[5,5,5,5],\"name\":\"Markdown04332\",\"text\":\"&lt;p&gt;This dashboard displays visual analysis of historical sales and pricing data from 2010 to 2016 in the San Francisco market. \\nThese graphs will help you assess the changes that have been made in the San Francisco market To gain an insight on the trends. &lt;/p&gt;\"},\"id\":\"2417\",\"type\":\"panel.models.markup.HTML\"},{\"attributes\":{\"data\":[{\"dimensions\":[{\"label\":\"sale_price_sqr_foot\"},{\"label\":\"housing_units\"},{\"label\":\"gross_rent\"}],\"domain\":{\"x\":[0.0,1.0],\"y\":[0.0,1.0]},\"line\":{\"coloraxis\":\"coloraxis\"},\"name\":\"\",\"type\":\"parcoords\"}],\"data_sources\":[{\"id\":\"2575\"}],\"layout\":{\"coloraxis\":{\"colorbar\":{\"title\":{\"text\":\"sale_price_sqr_foot\"}},\"colorscale\":[[0.0,\"#0d0887\"],[0.1111111111111111,\"#46039f\"],[0.2222222222222222,\"#7201a8\"],[0.3333333333333333,\"#9c179e\"],[0.4444444444444444,\"#bd3786\"],[0.5555555555555556,\"#d8576b\"],[0.6666666666666666,\"#ed7953\"],[0.7777777777777778,\"#fb9f3a\"],[0.8888888888888888,\"#fdca26\"],[1.0,\"#f0f921\"]]},\"legend\":{\"tracegroupgap\":0},\"template\":{\"data\":{\"bar\":[{\"error_x\":{\"color\":\"#2a3f5f\"},\"error_y\":{\"color\":\"#2a3f5f\"},\"marker\":{\"line\":{\"color\":\"#E5ECF6\",\"width\":0.5}},\"type\":\"bar\"}],\"barpolar\":[{\"marker\":{\"line\":{\"color\":\"#E5ECF6\",\"width\":0.5}},\"type\":\"barpolar\"}],\"carpet\":[{\"aaxis\":{\"endlinecolor\":\"#2a3f5f\",\"gridcolor\":\"white\",\"linecolor\":\"white\",\"minorgridcolor\":\"white\",\"startlinecolor\":\"#2a3f5f\"},\"baxis\":{\"endlinecolor\":\"#2a3f5f\",\"gridcolor\":\"white\",\"linecolor\":\"white\",\"minorgridcolor\":\"white\",\"startlinecolor\":\"#2a3f5f\"},\"type\":\"carpet\"}],\"choropleth\":[{\"colorbar\":{\"outlinewidth\":0,\"ticks\":\"\"},\"type\":\"choropleth\"}],\"contour\":[{\"colorbar\":{\"outlinewidth\":0,\"ticks\":\"\"},\"colorscale\":[[0.0,\"#0d0887\"],[0.1111111111111111,\"#46039f\"],[0.2222222222222222,\"#7201a8\"],[0.3333333333333333,\"#9c179e\"],[0.4444444444444444,\"#bd3786\"],[0.5555555555555556,\"#d8576b\"],[0.6666666666666666,\"#ed7953\"],[0.7777777777777778,\"#fb9f3a\"],[0.8888888888888888,\"#fdca26\"],[1.0,\"#f0f921\"]],\"type\":\"contour\"}],\"contourcarpet\":[{\"colorbar\":{\"outlinewidth\":0,\"ticks\":\"\"},\"type\":\"contourcarpet\"}],\"heatmap\":[{\"colorbar\":{\"outlinewidth\":0,\"ticks\":\"\"},\"colorscale\":[[0.0,\"#0d0887\"],[0.1111111111111111,\"#46039f\"],[0.2222222222222222,\"#7201a8\"],[0.3333333333333333,\"#9c179e\"],[0.4444444444444444,\"#bd3786\"],[0.5555555555555556,\"#d8576b\"],[0.6666666666666666,\"#ed7953\"],[0.7777777777777778,\"#fb9f3a\"],[0.8888888888888888,\"#fdca26\"],[1.0,\"#f0f921\"]],\"type\":\"heatmap\"}],\"heatmapgl\":[{\"colorbar\":{\"outlinewidth\":0,\"ticks\":\"\"},\"colorscale\":[[0.0,\"#0d0887\"],[0.1111111111111111,\"#46039f\"],[0.2222222222222222,\"#7201a8\"],[0.3333333333333333,\"#9c179e\"],[0.4444444444444444,\"#bd3786\"],[0.5555555555555556,\"#d8576b\"],[0.6666666666666666,\"#ed7953\"],[0.7777777777777778,\"#fb9f3a\"],[0.8888888888888888,\"#fdca26\"],[1.0,\"#f0f921\"]],\"type\":\"heatmapgl\"}],\"histogram\":[{\"marker\":{\"colorbar\":{\"outlinewidth\":0,\"ticks\":\"\"}},\"type\":\"histogram\"}],\"histogram2d\":[{\"colorbar\":{\"outlinewidth\":0,\"ticks\":\"\"},\"colorscale\":[[0.0,\"#0d0887\"],[0.1111111111111111,\"#46039f\"],[0.2222222222222222,\"#7201a8\"],[0.3333333333333333,\"#9c179e\"],[0.4444444444444444,\"#bd3786\"],[0.5555555555555556,\"#d8576b\"],[0.6666666666666666,\"#ed7953\"],[0.7777777777777778,\"#fb9f3a\"],[0.8888888888888888,\"#fdca26\"],[1.0,\"#f0f921\"]],\"type\":\"histogram2d\"}],\"histogram2dcontour\":[{\"colorbar\":{\"outlinewidth\":0,\"ticks\":\"\"},\"colorscale\":[[0.0,\"#0d0887\"],[0.1111111111111111,\"#46039f\"],[0.2222222222222222,\"#7201a8\"],[0.3333333333333333,\"#9c179e\"],[0.4444444444444444,\"#bd3786\"],[0.5555555555555556,\"#d8576b\"],[0.6666666666666666,\"#ed7953\"],[0.7777777777777778,\"#fb9f3a\"],[0.8888888888888888,\"#fdca26\"],[1.0,\"#f0f921\"]],\"type\":\"histogram2dcontour\"}],\"mesh3d\":[{\"colorbar\":{\"outlinewidth\":0,\"ticks\":\"\"},\"type\":\"mesh3d\"}],\"parcoords\":[{\"line\":{\"colorbar\":{\"outlinewidth\":0,\"ticks\":\"\"}},\"type\":\"parcoords\"}],\"pie\":[{\"automargin\":true,\"type\":\"pie\"}],\"scatter\":[{\"marker\":{\"colorbar\":{\"outlinewidth\":0,\"ticks\":\"\"}},\"type\":\"scatter\"}],\"scatter3d\":[{\"line\":{\"colorbar\":{\"outlinewidth\":0,\"ticks\":\"\"}},\"marker\":{\"colorbar\":{\"outlinewidth\":0,\"ticks\":\"\"}},\"type\":\"scatter3d\"}],\"scattercarpet\":[{\"marker\":{\"colorbar\":{\"outlinewidth\":0,\"ticks\":\"\"}},\"type\":\"scattercarpet\"}],\"scattergeo\":[{\"marker\":{\"colorbar\":{\"outlinewidth\":0,\"ticks\":\"\"}},\"type\":\"scattergeo\"}],\"scattergl\":[{\"marker\":{\"colorbar\":{\"outlinewidth\":0,\"ticks\":\"\"}},\"type\":\"scattergl\"}],\"scattermapbox\":[{\"marker\":{\"colorbar\":{\"outlinewidth\":0,\"ticks\":\"\"}},\"type\":\"scattermapbox\"}],\"scatterpolar\":[{\"marker\":{\"colorbar\":{\"outlinewidth\":0,\"ticks\":\"\"}},\"type\":\"scatterpolar\"}],\"scatterpolargl\":[{\"marker\":{\"colorbar\":{\"outlinewidth\":0,\"ticks\":\"\"}},\"type\":\"scatterpolargl\"}],\"scatterternary\":[{\"marker\":{\"colorbar\":{\"outlinewidth\":0,\"ticks\":\"\"}},\"type\":\"scatterternary\"}],\"surface\":[{\"colorbar\":{\"outlinewidth\":0,\"ticks\":\"\"},\"colorscale\":[[0.0,\"#0d0887\"],[0.1111111111111111,\"#46039f\"],[0.2222222222222222,\"#7201a8\"],[0.3333333333333333,\"#9c179e\"],[0.4444444444444444,\"#bd3786\"],[0.5555555555555556,\"#d8576b\"],[0.6666666666666666,\"#ed7953\"],[0.7777777777777778,\"#fb9f3a\"],[0.8888888888888888,\"#fdca26\"],[1.0,\"#f0f921\"]],\"type\":\"surface\"}],\"table\":[{\"cells\":{\"fill\":{\"color\":\"#EBF0F8\"},\"line\":{\"color\":\"white\"}},\"header\":{\"fill\":{\"color\":\"#C8D4E3\"},\"line\":{\"color\":\"white\"}},\"type\":\"table\"}]},\"layout\":{\"annotationdefaults\":{\"arrowcolor\":\"#2a3f5f\",\"arrowhead\":0,\"arrowwidth\":1},\"autotypenumbers\":\"strict\",\"coloraxis\":{\"colorbar\":{\"outlinewidth\":0,\"ticks\":\"\"}},\"colorscale\":{\"diverging\":[[0,\"#8e0152\"],[0.1,\"#c51b7d\"],[0.2,\"#de77ae\"],[0.3,\"#f1b6da\"],[0.4,\"#fde0ef\"],[0.5,\"#f7f7f7\"],[0.6,\"#e6f5d0\"],[0.7,\"#b8e186\"],[0.8,\"#7fbc41\"],[0.9,\"#4d9221\"],[1,\"#276419\"]],\"sequential\":[[0.0,\"#0d0887\"],[0.1111111111111111,\"#46039f\"],[0.2222222222222222,\"#7201a8\"],[0.3333333333333333,\"#9c179e\"],[0.4444444444444444,\"#bd3786\"],[0.5555555555555556,\"#d8576b\"],[0.6666666666666666,\"#ed7953\"],[0.7777777777777778,\"#fb9f3a\"],[0.8888888888888888,\"#fdca26\"],[1.0,\"#f0f921\"]],\"sequentialminus\":[[0.0,\"#0d0887\"],[0.1111111111111111,\"#46039f\"],[0.2222222222222222,\"#7201a8\"],[0.3333333333333333,\"#9c179e\"],[0.4444444444444444,\"#bd3786\"],[0.5555555555555556,\"#d8576b\"],[0.6666666666666666,\"#ed7953\"],[0.7777777777777778,\"#fb9f3a\"],[0.8888888888888888,\"#fdca26\"],[1.0,\"#f0f921\"]]},\"colorway\":[\"#636efa\",\"#EF553B\",\"#00cc96\",\"#ab63fa\",\"#FFA15A\",\"#19d3f3\",\"#FF6692\",\"#B6E880\",\"#FF97FF\",\"#FECB52\"],\"font\":{\"color\":\"#2a3f5f\"},\"geo\":{\"bgcolor\":\"white\",\"lakecolor\":\"white\",\"landcolor\":\"#E5ECF6\",\"showlakes\":true,\"showland\":true,\"subunitcolor\":\"white\"},\"hoverlabel\":{\"align\":\"left\"},\"hovermode\":\"closest\",\"mapbox\":{\"style\":\"light\"},\"paper_bgcolor\":\"white\",\"plot_bgcolor\":\"#E5ECF6\",\"polar\":{\"angularaxis\":{\"gridcolor\":\"white\",\"linecolor\":\"white\",\"ticks\":\"\"},\"bgcolor\":\"#E5ECF6\",\"radialaxis\":{\"gridcolor\":\"white\",\"linecolor\":\"white\",\"ticks\":\"\"}},\"scene\":{\"xaxis\":{\"backgroundcolor\":\"#E5ECF6\",\"gridcolor\":\"white\",\"gridwidth\":2,\"linecolor\":\"white\",\"showbackground\":true,\"ticks\":\"\",\"zerolinecolor\":\"white\"},\"yaxis\":{\"backgroundcolor\":\"#E5ECF6\",\"gridcolor\":\"white\",\"gridwidth\":2,\"linecolor\":\"white\",\"showbackground\":true,\"ticks\":\"\",\"zerolinecolor\":\"white\"},\"zaxis\":{\"backgroundcolor\":\"#E5ECF6\",\"gridcolor\":\"white\",\"gridwidth\":2,\"linecolor\":\"white\",\"showbackground\":true,\"ticks\":\"\",\"zerolinecolor\":\"white\"}},\"shapedefaults\":{\"line\":{\"color\":\"#2a3f5f\"}},\"ternary\":{\"aaxis\":{\"gridcolor\":\"white\",\"linecolor\":\"white\",\"ticks\":\"\"},\"baxis\":{\"gridcolor\":\"white\",\"linecolor\":\"white\",\"ticks\":\"\"},\"bgcolor\":\"#E5ECF6\",\"caxis\":{\"gridcolor\":\"white\",\"linecolor\":\"white\",\"ticks\":\"\"}},\"title\":{\"x\":0.05},\"xaxis\":{\"automargin\":true,\"gridcolor\":\"white\",\"linecolor\":\"white\",\"ticks\":\"\",\"title\":{\"standoff\":15},\"zerolinecolor\":\"white\",\"zerolinewidth\":2},\"yaxis\":{\"automargin\":true,\"gridcolor\":\"white\",\"linecolor\":\"white\",\"ticks\":\"\",\"title\":{\"standoff\":15},\"zerolinecolor\":\"white\",\"zerolinewidth\":2}}},\"title\":{\"text\":\"Parallel Coordinates Analysis\"}},\"margin\":[5,5,5,5],\"name\":\"Plotly04459\",\"viewport_update_throttle\":200},\"id\":\"2576\",\"type\":\"panel.models.plotly.PlotlyPlot\"},{\"attributes\":{\"source\":{\"id\":\"2538\"}},\"id\":\"2545\",\"type\":\"CDSView\"},{\"attributes\":{\"client_comm_id\":\"95ea6ed9988a46468f6df6f422c22cda\",\"comm_id\":\"4cd17ae7e65c41dabc4a7411f68496a2\",\"plot_id\":\"2412\"},\"id\":\"2658\",\"type\":\"panel.models.comm_manager.CommManager\"},{\"attributes\":{\"data_source\":{\"id\":\"2461\"},\"glyph\":{\"id\":\"2464\"},\"hover_glyph\":null,\"muted_glyph\":{\"id\":\"2466\"},\"nonselection_glyph\":{\"id\":\"2465\"},\"selection_glyph\":{\"id\":\"2469\"},\"view\":{\"id\":\"2468\"}},\"id\":\"2467\",\"type\":\"GlyphRenderer\"},{\"attributes\":{\"data\":{\"neighborhood\":[\"Union Square District\",\"Merced Heights\",\"Miraloma Park\",\"Pacific Heights\",\"Westwood Park\",\"Telegraph Hill\",\"Presidio Heights\",\"Cow Hollow\",\"Potrero Hill\",\"South Beach\"],\"sale_price_sqr_foot\":{\"__ndarray__\":\"JRAUMfI/jEB9IrkvwqaIQFx/3pp8XohAFpsVUHKMhUBs0ERas3iFQL0KhXgNJIVAy835O80ahUANV25bts+EQJrMCuEbsIRAya3y7v5QhEA=\",\"dtype\":\"float64\",\"order\":\"little\",\"shape\":[10]}},\"selected\":{\"id\":\"2539\"},\"selection_policy\":{\"id\":\"2560\"}},\"id\":\"2538\",\"type\":\"ColumnDataSource\"},{\"attributes\":{},\"id\":\"2590\",\"type\":\"UnionRenderers\"},{\"attributes\":{\"below\":[{\"id\":\"2440\"}],\"center\":[{\"id\":\"2443\"},{\"id\":\"2447\"}],\"height\":300,\"left\":[{\"id\":\"2444\"}],\"margin\":[5,5,5,5],\"min_border_bottom\":10,\"min_border_left\":10,\"min_border_right\":10,\"min_border_top\":10,\"renderers\":[{\"id\":\"2467\"}],\"sizing_mode\":\"fixed\",\"title\":{\"id\":\"2432\"},\"toolbar\":{\"id\":\"2454\"},\"width\":700,\"x_range\":{\"id\":\"2428\"},\"x_scale\":{\"id\":\"2436\"},\"y_range\":{\"id\":\"2429\"},\"y_scale\":{\"id\":\"2438\"}},\"id\":\"2431\",\"subtype\":\"Figure\",\"type\":\"Plot\"},{\"attributes\":{},\"id\":\"2591\",\"type\":\"Selection\"},{\"attributes\":{\"data\":{\"dimensions.0.values\":[{\"__ndarray__\":\"JRAUMfI/jEB9IrkvwqaIQFx/3pp8XohAFpsVUHKMhUBs0ERas3iFQL0KhXgNJIVAy835O80ahUANV25bts+EQJrMCuEbsIRAya3y7v5QhEA=\",\"dtype\":\"float64\",\"order\":\"little\",\"shape\":[10]}],\"dimensions.1.values\":[{\"__ndarray__\":\"AAAAAE4JF0EAAAAA8DYXQQAAAAB98hZBAAAAAIQYF0EAAAAAXFUXQQAAAACEGBdBAAAAAIQYF0EAAAAAhBgXQQAAAACEGBdBAAAAAPTvFkE=\",\"dtype\":\"float64\",\"order\":\"little\",\"shape\":[10]}],\"dimensions.2.values\":[{\"__ndarray__\":\"VVVVVVX2o0AAAAAAAKyqQAAAAACA1qBASZIkSZICpkAAAAAAAO6uQEmSJEmSAqZASZIkSZICpkBJkiRJkgKmQEmSJEmSAqZAAAAAAABmoEA=\",\"dtype\":\"float64\",\"order\":\"little\",\"shape\":[10]}],\"line.color\":[{\"__ndarray__\":\"JRAUMfI/jEB9IrkvwqaIQFx/3pp8XohAFpsVUHKMhUBs0ERas3iFQL0KhXgNJIVAy835O80ahUANV25bts+EQJrMCuEbsIRAya3y7v5QhEA=\",\"dtype\":\"float64\",\"order\":\"little\",\"shape\":[10]}]},\"selected\":{\"id\":\"2591\"},\"selection_policy\":{\"id\":\"2590\"}},\"id\":\"2575\",\"type\":\"ColumnDataSource\"},{\"attributes\":{\"fill_alpha\":{\"value\":0.1},\"fill_color\":{\"value\":\"pink\"},\"line_alpha\":{\"value\":0.1},\"top\":{\"field\":\"sale_price_sqr_foot\"},\"width\":{\"value\":0.8},\"x\":{\"field\":\"neighborhood\"}},\"id\":\"2542\",\"type\":\"VBar\"},{\"attributes\":{\"line_color\":\"#30a2da\",\"line_width\":2,\"x\":{\"field\":\"year\"},\"y\":{\"field\":\"sale_price_sqr_foot\"}},\"id\":\"2464\",\"type\":\"Line\"},{\"attributes\":{\"below\":[{\"id\":\"2518\"}],\"center\":[{\"id\":\"2520\"},{\"id\":\"2524\"}],\"height\":500,\"left\":[{\"id\":\"2521\"}],\"margin\":[5,5,5,5],\"min_border_bottom\":10,\"min_border_left\":10,\"min_border_right\":10,\"min_border_top\":10,\"renderers\":[{\"id\":\"2544\"}],\"sizing_mode\":\"fixed\",\"title\":{\"id\":\"2510\"},\"toolbar\":{\"id\":\"2531\"},\"width\":700,\"x_range\":{\"id\":\"2506\"},\"x_scale\":{\"id\":\"2514\"},\"y_range\":{\"id\":\"2429\"},\"y_scale\":{\"id\":\"2516\"}},\"id\":\"2509\",\"subtype\":\"Figure\",\"type\":\"Plot\"},{\"attributes\":{\"line_alpha\":0.2,\"line_color\":\"#30a2da\",\"line_width\":2,\"x\":{\"field\":\"year\"},\"y\":{\"field\":\"sale_price_sqr_foot\"}},\"id\":\"2466\",\"type\":\"Line\"},{\"attributes\":{},\"id\":\"2552\",\"type\":\"BasicTickFormatter\"},{\"attributes\":{},\"id\":\"2472\",\"type\":\"BasicTickFormatter\"},{\"attributes\":{\"text\":\"Top 10 Most Expensive Neighborhoods\",\"text_color\":\"black\",\"text_font_size\":\"12pt\"},\"id\":\"2510\",\"type\":\"Title\"},{\"attributes\":{},\"id\":\"2539\",\"type\":\"Selection\"},{\"attributes\":{\"children\":[{\"id\":\"2504\"}],\"css_classes\":[\"panel-widget-box\"],\"margin\":[5,5,5,5],\"name\":\"WidgetBox04446\"},\"id\":\"2503\",\"type\":\"Column\"},{\"attributes\":{},\"id\":\"2550\",\"type\":\"AllLabels\"},{\"attributes\":{},\"id\":\"2581\",\"type\":\"UnionRenderers\"},{\"attributes\":{\"fill_alpha\":{\"value\":0.2},\"fill_color\":{\"value\":\"pink\"},\"line_alpha\":{\"value\":0.2},\"top\":{\"field\":\"sale_price_sqr_foot\"},\"width\":{\"value\":0.8},\"x\":{\"field\":\"neighborhood\"}},\"id\":\"2543\",\"type\":\"VBar\"},{\"attributes\":{},\"id\":\"2560\",\"type\":\"UnionRenderers\"},{\"attributes\":{\"active_multi\":null,\"tools\":[{\"id\":\"2430\"},{\"id\":\"2448\"},{\"id\":\"2449\"},{\"id\":\"2450\"},{\"id\":\"2451\"},{\"id\":\"2452\"}]},\"id\":\"2454\",\"type\":\"Toolbar\"},{\"attributes\":{\"end\":2016.0,\"reset_end\":2016.0,\"reset_start\":2010.0,\"start\":2010.0,\"tags\":[[[\"year\",\"year\",null]]]},\"id\":\"2428\",\"type\":\"Range1d\"},{\"attributes\":{\"source\":{\"id\":\"2461\"}},\"id\":\"2468\",\"type\":\"CDSView\"},{\"attributes\":{\"axis\":{\"id\":\"2518\"},\"grid_line_color\":null,\"ticker\":null},\"id\":\"2520\",\"type\":\"Grid\"},{\"attributes\":{\"axis\":{\"id\":\"2440\"},\"grid_line_color\":null,\"ticker\":null},\"id\":\"2443\",\"type\":\"Grid\"},{\"attributes\":{\"bottom_units\":\"screen\",\"fill_alpha\":0.5,\"fill_color\":\"lightgrey\",\"left_units\":\"screen\",\"level\":\"overlay\",\"line_alpha\":1.0,\"line_color\":\"black\",\"line_dash\":[4,4],\"line_width\":2,\"right_units\":\"screen\",\"syncable\":false,\"top_units\":\"screen\"},\"id\":\"2453\",\"type\":\"BoxAnnotation\"},{\"attributes\":{},\"id\":\"2441\",\"type\":\"BasicTicker\"},{\"attributes\":{\"axis_label\":\"Neighborhood\",\"formatter\":{\"id\":\"2549\"},\"major_label_orientation\":0.7853981633974483,\"major_label_policy\":{\"id\":\"2547\"},\"ticker\":{\"id\":\"2519\"}},\"id\":\"2518\",\"type\":\"CategoricalAxis\"},{\"attributes\":{},\"id\":\"2436\",\"type\":\"LinearScale\"},{\"attributes\":{},\"id\":\"2489\",\"type\":\"UnionRenderers\"},{\"attributes\":{},\"id\":\"2514\",\"type\":\"CategoricalScale\"},{\"attributes\":{\"children\":[{\"id\":\"2414\"}],\"margin\":[0,0,0,0],\"name\":\"Row04465\"},\"id\":\"2413\",\"type\":\"Row\"},{\"attributes\":{\"children\":[{\"id\":\"2503\"},{\"id\":\"2505\"}],\"margin\":[0,0,0,0],\"name\":\"Column04452\"},\"id\":\"2502\",\"type\":\"Column\"},{\"attributes\":{\"bottom\":{\"value\":0},\"fill_alpha\":{\"value\":1.0},\"fill_color\":{\"value\":\"pink\"},\"hatch_alpha\":{\"value\":1.0},\"hatch_color\":{\"value\":\"black\"},\"hatch_scale\":{\"value\":12.0},\"hatch_weight\":{\"value\":1.0},\"line_alpha\":{\"value\":1.0},\"line_cap\":{\"value\":\"butt\"},\"line_color\":{\"value\":\"black\"},\"line_dash\":{\"value\":[]},\"line_dash_offset\":{\"value\":0},\"line_join\":{\"value\":\"bevel\"},\"line_width\":{\"value\":1},\"top\":{\"field\":\"sale_price_sqr_foot\"},\"width\":{\"value\":0.8},\"x\":{\"field\":\"neighborhood\"}},\"id\":\"2546\",\"type\":\"VBar\"},{\"attributes\":{},\"id\":\"2438\",\"type\":\"LinearScale\"},{\"attributes\":{\"fill_color\":{\"value\":\"pink\"},\"top\":{\"field\":\"sale_price_sqr_foot\"},\"width\":{\"value\":0.8},\"x\":{\"field\":\"neighborhood\"}},\"id\":\"2541\",\"type\":\"VBar\"},{\"attributes\":{},\"id\":\"2516\",\"type\":\"LinearScale\"},{\"attributes\":{\"axis_label\":\"Average Price per SqFt by Year\",\"formatter\":{\"id\":\"2475\"},\"major_label_policy\":{\"id\":\"2473\"},\"ticker\":{\"id\":\"2445\"}},\"id\":\"2444\",\"type\":\"LinearAxis\"},{\"attributes\":{\"axis_label\":\"Year\",\"formatter\":{\"id\":\"2472\"},\"major_label_policy\":{\"id\":\"2470\"},\"ticker\":{\"id\":\"2441\"}},\"id\":\"2440\",\"type\":\"LinearAxis\"},{\"attributes\":{\"child\":{\"id\":\"2421\"},\"name\":\"Row04343\",\"title\":\"Yearly Real Estate Market Analysis\"},\"id\":\"2425\",\"type\":\"Panel\"},{\"attributes\":{\"margin\":[20,20,20,20],\"min_width\":250,\"options\":[\"Alamo Square\",\"Anza Vista\",\"Bayview\",\"Buena Vista Park\",\"Central Richmond\",\"Central Sunset\",\"Corona Heights\",\"Cow Hollow\",\"Croker Amazon\",\"Diamond Heights\",\"Downtown \",\"Eureka Valley/Dolores Heights\",\"Excelsior\",\"Financial District North\",\"Financial District South\",\"Forest Knolls\",\"Glen Park\",\"Golden Gate Heights\",\"Haight Ashbury\",\"Hayes Valley\",\"Hunters Point\",\"Ingleside \",\"Inner Mission\",\"Inner Parkside\",\"Inner Richmond\",\"Inner Sunset\",\"Jordan Park/Laurel Heights\",\"Lake --The Presidio\",\"Lone Mountain\",\"Lower Pacific Heights\",\"Marina\",\"Miraloma Park\",\"Mission Bay\",\"Mission Dolores\",\"Mission Terrace\",\"Nob Hill\",\"Noe Valley\",\"Oceanview\",\"Outer Parkside\",\"Outer Richmond \",\"Outer Sunset\",\"Pacific Heights\",\"Park North\",\"Parkside\",\"Parnassus/Ashbury Heights\",\"Portola\",\"Potrero Hill\",\"Presidio Heights\",\"Russian Hill\",\"South Beach\",\"South of Market\",\"Sunnyside\",\"Telegraph Hill\",\"Twin Peaks\",\"Union Square District\",\"Van Ness/ Civic Center\",\"West Portal\",\"Western Addition\",\"Yerba Buena\",\"Bernal Heights \",\"Clarendon Heights\",\"Duboce Triangle\",\"Ingleside Heights\",\"North Beach\",\"North Waterfront\",\"Outer Mission\",\"Westwood Highlands\",\"Merced Heights\",\"Midtown Terrace\",\"Visitacion Valley\",\"Silver Terrace\",\"Westwood Park\",\"Bayview Heights\"],\"title\":\"neighborhood\",\"value\":\"Alamo Square\",\"width\":250},\"id\":\"2504\",\"type\":\"Select\"},{\"attributes\":{\"factors\":[\"Union Square District\",\"Merced Heights\",\"Miraloma Park\",\"Pacific Heights\",\"Westwood Park\",\"Telegraph Hill\",\"Presidio Heights\",\"Cow Hollow\",\"Potrero Hill\",\"South Beach\"],\"tags\":[[[\"neighborhood\",\"neighborhood\",null]]]},\"id\":\"2506\",\"type\":\"FactorRange\"},{\"attributes\":{},\"id\":\"2519\",\"type\":\"CategoricalTicker\"},{\"attributes\":{\"axis_label\":\"Average Price per SqFt\",\"formatter\":{\"id\":\"2552\"},\"major_label_policy\":{\"id\":\"2550\"},\"ticker\":{\"id\":\"2522\"}},\"id\":\"2521\",\"type\":\"LinearAxis\"}],\"root_ids\":[\"2412\",\"2658\"]},\"title\":\"Bokeh Application\",\"version\":\"2.3.0\"}};\n",
       "    var render_items = [{\"docid\":\"26952ece-ed7b-4e64-a17e-2c1cf7ca7506\",\"root_ids\":[\"2412\"],\"roots\":{\"2412\":\"ab30d23e-e286-4b0c-a3ff-1783e5b07275\"}}];\n",
       "    root.Bokeh.embed.embed_items_notebook(docs_json, render_items);\n",
       "  }\n",
       "  if (root.Bokeh !== undefined && root.Bokeh.Panel !== undefined && root['Plotly'] !== undefined ) {\n",
       "    embed_document(root);\n",
       "  } else {\n",
       "    var attempts = 0;\n",
       "    var timer = setInterval(function(root) {\n",
       "      if (root.Bokeh !== undefined && root.Bokeh.Panel !== undefined && root['Plotly'] !== undefined) {\n",
       "        clearInterval(timer);\n",
       "        embed_document(root);\n",
       "      } else if (document.readyState == \"complete\") {\n",
       "        attempts++;\n",
       "        if (attempts > 100) {\n",
       "          clearInterval(timer);\n",
       "          console.log(\"Bokeh: ERROR: Unable to run BokehJS code because BokehJS library is missing\");\n",
       "        }\n",
       "      }\n",
       "    }, 10, root)\n",
       "  }\n",
       "})(window);</script>"
      ],
      "text/plain": [
       "Column(width=500)\n",
       "    [0] Row\n",
       "        [0] Markdown(str, width=500)\n",
       "    [1] Tabs\n",
       "        [0] Column\n",
       "            [0] Markdown(str)\n",
       "            [1] Plotly(Figure)\n",
       "        [1] Row\n",
       "            [0] Matplotlib(Figure)\n",
       "            [1] Matplotlib(Figure)\n",
       "            [2] Matplotlib(Figure)\n",
       "        [2] Column\n",
       "            [0] Row\n",
       "                [0] HoloViews(DynamicMap)\n",
       "                [1] Column\n",
       "                    [0] WidgetBox\n",
       "                        [0] Select(margin=(20, 20, 20, 20), name='neighborhood', options=['Alamo Square', ...], value='Alamo Square', width=250)\n",
       "                    [1] VSpacer()\n",
       "            [1] HoloViews(Bars)\n",
       "        [3] Column(width=960)\n",
       "            [0] Plotly(Figure)\n",
       "            [1] Plotly(Figure)"
      ]
     },
     "execution_count": 180,
     "metadata": {
      "application/vnd.holoviews_exec.v0+json": {
       "id": "2412"
      }
     },
     "output_type": "execute_result"
    }
   ],
   "source": [
    "# Serve the# dashboard\n",
    "panel.servable()"
   ]
  },
  {
   "cell_type": "markdown",
   "metadata": {},
   "source": [
    "# Debugging\n",
    "\n",
    "Note: Some of the Plotly express plots may not render in the notebook through the panel functions.\n",
    "\n",
    "However, you can test each plot by uncommenting the following code"
   ]
  },
  {
   "cell_type": "code",
   "execution_count": 137,
   "metadata": {},
   "outputs": [
    {
     "data": {},
     "metadata": {},
     "output_type": "display_data"
    },
    {
     "data": {
      "application/vnd.holoviews_exec.v0+json": "",
      "text/html": [
       "<div id='1941'>\n",
       "\n",
       "\n",
       "\n",
       "\n",
       "\n",
       "  <div class=\"bk-root\" id=\"64e8c5ca-a9b8-4c40-9c35-289dc812758d\" data-root-id=\"1941\"></div>\n",
       "</div>\n",
       "<script type=\"application/javascript\">(function(root) {\n",
       "  function embed_document(root) {\n",
       "    var docs_json = {\"2184161f-8450-4429-9e09-58e4bc7ec7a5\":{\"defs\":[{\"extends\":null,\"module\":null,\"name\":\"DataModel\",\"overrides\":[],\"properties\":[]}],\"roots\":{\"references\":[{\"attributes\":{\"height\":288,\"margin\":[5,5,5,5],\"name\":\"Matplotlib03362\",\"text\":\"&lt;img src=&quot;data:image/png;base64,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&quot; width=&quot;432px&quot; height=&quot;288px&quot; alt=&quot;&quot;&gt;&lt;/img&gt;\",\"width\":432},\"id\":\"1941\",\"type\":\"panel.models.markup.HTML\"},{\"attributes\":{\"client_comm_id\":\"cbfcce6f7c60459fa040797cb8c7559f\",\"comm_id\":\"0d3dd3d8f3224cf981b466f3b84d5902\",\"plot_id\":\"1941\"},\"id\":\"1942\",\"type\":\"panel.models.comm_manager.CommManager\"}],\"root_ids\":[\"1941\",\"1942\"]},\"title\":\"Bokeh Application\",\"version\":\"2.3.0\"}};\n",
       "    var render_items = [{\"docid\":\"2184161f-8450-4429-9e09-58e4bc7ec7a5\",\"root_ids\":[\"1941\"],\"roots\":{\"1941\":\"64e8c5ca-a9b8-4c40-9c35-289dc812758d\"}}];\n",
       "    root.Bokeh.embed.embed_items_notebook(docs_json, render_items);\n",
       "  }\n",
       "  if (root.Bokeh !== undefined && root.Bokeh.Panel !== undefined && root['Plotly'] !== undefined ) {\n",
       "    embed_document(root);\n",
       "  } else {\n",
       "    var attempts = 0;\n",
       "    var timer = setInterval(function(root) {\n",
       "      if (root.Bokeh !== undefined && root.Bokeh.Panel !== undefined && root['Plotly'] !== undefined) {\n",
       "        clearInterval(timer);\n",
       "        embed_document(root);\n",
       "      } else if (document.readyState == \"complete\") {\n",
       "        attempts++;\n",
       "        if (attempts > 100) {\n",
       "          clearInterval(timer);\n",
       "          console.log(\"Bokeh: ERROR: Unable to run BokehJS code because BokehJS library is missing\");\n",
       "        }\n",
       "      }\n",
       "    }, 10, root)\n",
       "  }\n",
       "})(window);</script>"
      ],
      "text/plain": [
       "Matplotlib(Figure)"
      ]
     },
     "execution_count": 137,
     "metadata": {
      "application/vnd.holoviews_exec.v0+json": {
       "id": "1941"
      }
     },
     "output_type": "execute_result"
    },
    {
     "data": {
      "image/png": "[encoded data removed]",
      "text/plain": [
       "<Figure size 864x576 with 1 Axes>"
      ]
     },
     "metadata": {
      "needs_background": "light"
     },
     "output_type": "display_data"
    }
   ],
   "source": [
    "housing_units_per_year()"
   ]
  },
  {
   "cell_type": "code",
   "execution_count": 138,
   "metadata": {},
   "outputs": [
    {
     "data": {},
     "metadata": {},
     "output_type": "display_data"
    },
    {
     "data": {
      "application/vnd.holoviews_exec.v0+json": "",
      "text/html": [
       "<div id='1943'>\n",
       "\n",
       "\n",
       "\n",
       "\n",
       "\n",
       "  <div class=\"bk-root\" id=\"b6b95583-7d48-47be-9e87-81e3b70cc1d2\" data-root-id=\"1943\"></div>\n",
       "</div>\n",
       "<script type=\"application/javascript\">(function(root) {\n",
       "  function embed_document(root) {\n",
       "    var docs_json = {\"a6ad5d75-532a-40a9-b55a-65381eb532a6\":{\"defs\":[{\"extends\":null,\"module\":null,\"name\":\"DataModel\",\"overrides\":[],\"properties\":[]}],\"roots\":{\"references\":[{\"attributes\":{\"client_comm_id\":\"3493c005c1db4593ba926b9a862730f1\",\"comm_id\":\"bc9de5ab2db049d58632705c5927622f\",\"plot_id\":\"1943\"},\"id\":\"1944\",\"type\":\"panel.models.comm_manager.CommManager\"},{\"attributes\":{\"height\":576,\"margin\":[5,5,5,5],\"name\":\"Matplotlib03366\",\"text\":\"&lt;img src=&quot;data:image/png;base64,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&quot; width=&quot;864px&quot; height=&quot;576px&quot; alt=&quot;&quot;&gt;&lt;/img&gt;\",\"width\":864},\"id\":\"1943\",\"type\":\"panel.models.markup.HTML\"}],\"root_ids\":[\"1943\",\"1944\"]},\"title\":\"Bokeh Application\",\"version\":\"2.3.0\"}};\n",
       "    var render_items = [{\"docid\":\"a6ad5d75-532a-40a9-b55a-65381eb532a6\",\"root_ids\":[\"1943\"],\"roots\":{\"1943\":\"b6b95583-7d48-47be-9e87-81e3b70cc1d2\"}}];\n",
       "    root.Bokeh.embed.embed_items_notebook(docs_json, render_items);\n",
       "  }\n",
       "  if (root.Bokeh !== undefined && root.Bokeh.Panel !== undefined && root['Plotly'] !== undefined ) {\n",
       "    embed_document(root);\n",
       "  } else {\n",
       "    var attempts = 0;\n",
       "    var timer = setInterval(function(root) {\n",
       "      if (root.Bokeh !== undefined && root.Bokeh.Panel !== undefined && root['Plotly'] !== undefined) {\n",
       "        clearInterval(timer);\n",
       "        embed_document(root);\n",
       "      } else if (document.readyState == \"complete\") {\n",
       "        attempts++;\n",
       "        if (attempts > 100) {\n",
       "          clearInterval(timer);\n",
       "          console.log(\"Bokeh: ERROR: Unable to run BokehJS code because BokehJS library is missing\");\n",
       "        }\n",
       "      }\n",
       "    }, 10, root)\n",
       "  }\n",
       "})(window);</script>"
      ],
      "text/plain": [
       "Matplotlib(Figure)"
      ]
     },
     "execution_count": 138,
     "metadata": {
      "application/vnd.holoviews_exec.v0+json": {
       "id": "1943"
      }
     },
     "output_type": "execute_result"
    }
   ],
   "source": [
    "average_gross_rent()"
   ]
  },
  {
   "cell_type": "code",
   "execution_count": 139,
   "metadata": {},
   "outputs": [
    {
     "data": {},
     "metadata": {},
     "output_type": "display_data"
    },
    {
     "data": {
      "application/vnd.holoviews_exec.v0+json": "",
      "text/html": [
       "<div id='1945'>\n",
       "\n",
       "\n",
       "\n",
       "\n",
       "\n",
       "  <div class=\"bk-root\" id=\"1ee38301-5f34-4158-9171-cbab427bd333\" data-root-id=\"1945\"></div>\n",
       "</div>\n",
       "<script type=\"application/javascript\">(function(root) {\n",
       "  function embed_document(root) {\n",
       "    var docs_json = {\"ef790edf-da10-45a8-97dc-665f75654029\":{\"defs\":[{\"extends\":null,\"module\":null,\"name\":\"DataModel\",\"overrides\":[],\"properties\":[]}],\"roots\":{\"references\":[{\"attributes\":{\"height\":576,\"margin\":[5,5,5,5],\"name\":\"Matplotlib03370\",\"text\":\"&lt;img src=&quot;data:image/png;base64,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&quot; width=&quot;864px&quot; height=&quot;576px&quot; alt=&quot;&quot;&gt;&lt;/img&gt;\",\"width\":864},\"id\":\"1945\",\"type\":\"panel.models.markup.HTML\"},{\"attributes\":{\"client_comm_id\":\"40c036dcd1ba426faab3f91d88c5a593\",\"comm_id\":\"542cf77ad96f43f197e976c7771b0dac\",\"plot_id\":\"1945\"},\"id\":\"1946\",\"type\":\"panel.models.comm_manager.CommManager\"}],\"root_ids\":[\"1945\",\"1946\"]},\"title\":\"Bokeh Application\",\"version\":\"2.3.0\"}};\n",
       "    var render_items = [{\"docid\":\"ef790edf-da10-45a8-97dc-665f75654029\",\"root_ids\":[\"1945\"],\"roots\":{\"1945\":\"1ee38301-5f34-4158-9171-cbab427bd333\"}}];\n",
       "    root.Bokeh.embed.embed_items_notebook(docs_json, render_items);\n",
       "  }\n",
       "  if (root.Bokeh !== undefined && root.Bokeh.Panel !== undefined && root['Plotly'] !== undefined ) {\n",
       "    embed_document(root);\n",
       "  } else {\n",
       "    var attempts = 0;\n",
       "    var timer = setInterval(function(root) {\n",
       "      if (root.Bokeh !== undefined && root.Bokeh.Panel !== undefined && root['Plotly'] !== undefined) {\n",
       "        clearInterval(timer);\n",
       "        embed_document(root);\n",
       "      } else if (document.readyState == \"complete\") {\n",
       "        attempts++;\n",
       "        if (attempts > 100) {\n",
       "          clearInterval(timer);\n",
       "          console.log(\"Bokeh: ERROR: Unable to run BokehJS code because BokehJS library is missing\");\n",
       "        }\n",
       "      }\n",
       "    }, 10, root)\n",
       "  }\n",
       "})(window);</script>"
      ],
      "text/plain": [
       "Matplotlib(Figure)"
      ]
     },
     "execution_count": 139,
     "metadata": {
      "application/vnd.holoviews_exec.v0+json": {
       "id": "1945"
      }
     },
     "output_type": "execute_result"
    }
   ],
   "source": [
    "average_sales_price()"
   ]
  },
  {
   "cell_type": "code",
   "execution_count": 140,
   "metadata": {},
   "outputs": [
    {
     "data": {},
     "metadata": {},
     "output_type": "display_data"
    },
    {
     "data": {
      "application/vnd.holoviews_exec.v0+json": "",
      "text/html": [
       "<div id='1947'>\n",
       "\n",
       "\n",
       "\n",
       "\n",
       "\n",
       "  <div class=\"bk-root\" id=\"03bce5c9-0038-4b1d-b170-719ff5d33091\" data-root-id=\"1947\"></div>\n",
       "</div>\n",
       "<script type=\"application/javascript\">(function(root) {\n",
       "  function embed_document(root) {\n",
       "    var docs_json = {\"6e0add8c-252e-49df-8b03-7dcd9871d0e8\":{\"defs\":[{\"extends\":null,\"module\":null,\"name\":\"DataModel\",\"overrides\":[],\"properties\":[]}],\"roots\":{\"references\":[{\"attributes\":{\"text\":\"neighborhood: Alamo Square\",\"text_color\":\"black\",\"text_font_size\":\"12pt\"},\"id\":\"1953\",\"type\":\"Title\"},{\"attributes\":{\"line_color\":\"#30a2da\",\"line_width\":2,\"x\":{\"field\":\"year\"},\"y\":{\"field\":\"sale_price_sqr_foot\"}},\"id\":\"1985\",\"type\":\"Line\"},{\"attributes\":{\"children\":[{\"id\":\"1948\"},{\"id\":\"1952\"},{\"id\":\"2023\"},{\"id\":\"2024\"}],\"margin\":[0,0,0,0],\"name\":\"Row03399\"},\"id\":\"1947\",\"type\":\"Row\"},{\"attributes\":{},\"id\":\"1973\",\"type\":\"ResetTool\"},{\"attributes\":{\"line_color\":\"#30a2da\",\"line_width\":2,\"x\":{\"field\":\"year\"},\"y\":{\"field\":\"sale_price_sqr_foot\"}},\"id\":\"1990\",\"type\":\"Line\"},{\"attributes\":{\"data_source\":{\"id\":\"1982\"},\"glyph\":{\"id\":\"1985\"},\"hover_glyph\":null,\"muted_glyph\":{\"id\":\"1987\"},\"nonselection_glyph\":{\"id\":\"1986\"},\"selection_glyph\":{\"id\":\"1990\"},\"view\":{\"id\":\"1989\"}},\"id\":\"1988\",\"type\":\"GlyphRenderer\"},{\"attributes\":{},\"id\":\"2010\",\"type\":\"UnionRenderers\"},{\"attributes\":{\"overlay\":{\"id\":\"1974\"}},\"id\":\"1972\",\"type\":\"BoxZoomTool\"},{\"attributes\":{\"source\":{\"id\":\"1982\"}},\"id\":\"1989\",\"type\":\"CDSView\"},{\"attributes\":{\"axis_label\":\"Average Price per SqFt by Year\",\"formatter\":{\"id\":\"1996\"},\"major_label_policy\":{\"id\":\"1994\"},\"ticker\":{\"id\":\"1966\"}},\"id\":\"1965\",\"type\":\"LinearAxis\"},{\"attributes\":{\"callback\":null,\"renderers\":[{\"id\":\"1988\"}],\"tags\":[\"hv_created\"],\"tooltips\":[[\"year\",\"@{year}\"],[\"sale_price_sqr_foot\",\"@{sale_price_sqr_foot}\"]]},\"id\":\"1951\",\"type\":\"HoverTool\"},{\"attributes\":{},\"id\":\"1994\",\"type\":\"AllLabels\"},{\"attributes\":{},\"id\":\"1962\",\"type\":\"BasicTicker\"},{\"attributes\":{},\"id\":\"1966\",\"type\":\"BasicTicker\"},{\"attributes\":{},\"id\":\"1993\",\"type\":\"BasicTickFormatter\"},{\"attributes\":{\"children\":[{\"id\":\"2027\"}],\"css_classes\":[\"panel-widget-box\"],\"margin\":[5,5,5,5],\"name\":\"WidgetBox03400\"},\"id\":\"2026\",\"type\":\"Column\"},{\"attributes\":{},\"id\":\"1991\",\"type\":\"AllLabels\"},{\"attributes\":{\"bottom_units\":\"screen\",\"fill_alpha\":0.5,\"fill_color\":\"lightgrey\",\"left_units\":\"screen\",\"level\":\"overlay\",\"line_alpha\":1.0,\"line_color\":\"black\",\"line_dash\":[4,4],\"line_width\":2,\"right_units\":\"screen\",\"syncable\":false,\"top_units\":\"screen\"},\"id\":\"1974\",\"type\":\"BoxAnnotation\"},{\"attributes\":{},\"id\":\"1983\",\"type\":\"Selection\"},{\"attributes\":{\"axis_label\":\"Year\",\"formatter\":{\"id\":\"1993\"},\"major_label_policy\":{\"id\":\"1991\"},\"ticker\":{\"id\":\"1962\"}},\"id\":\"1961\",\"type\":\"LinearAxis\"},{\"attributes\":{\"end\":644.0175329447045,\"reset_end\":644.0175329447045,\"reset_start\":141.1976609302527,\"start\":141.1976609302527,\"tags\":[[[\"sale_price_sqr_foot\",\"sale_price_sqr_foot\",null]]]},\"id\":\"1950\",\"type\":\"Range1d\"},{\"attributes\":{\"margin\":[20,20,20,20],\"min_width\":250,\"options\":[\"Alamo Square\",\"Anza Vista\",\"Bayview\",\"Buena Vista Park\",\"Central Richmond\",\"Central Sunset\",\"Corona Heights\",\"Cow Hollow\",\"Croker Amazon\",\"Diamond Heights\",\"Downtown \",\"Eureka Valley/Dolores Heights\",\"Excelsior\",\"Financial District North\",\"Financial District South\",\"Forest Knolls\",\"Glen Park\",\"Golden Gate Heights\",\"Haight Ashbury\",\"Hayes Valley\",\"Hunters Point\",\"Ingleside \",\"Inner Mission\",\"Inner Parkside\",\"Inner Richmond\",\"Inner Sunset\",\"Jordan Park/Laurel Heights\",\"Lake --The Presidio\",\"Lone Mountain\",\"Lower Pacific Heights\",\"Marina\",\"Miraloma Park\",\"Mission Bay\",\"Mission Dolores\",\"Mission Terrace\",\"Nob Hill\",\"Noe Valley\",\"Oceanview\",\"Outer Parkside\",\"Outer Richmond \",\"Outer Sunset\",\"Pacific Heights\",\"Park North\",\"Parkside\",\"Parnassus/Ashbury Heights\",\"Portola\",\"Potrero Hill\",\"Presidio Heights\",\"Russian Hill\",\"South Beach\",\"South of Market\",\"Sunnyside\",\"Telegraph Hill\",\"Twin Peaks\",\"Union Square District\",\"Van Ness/ Civic Center\",\"West Portal\",\"Western Addition\",\"Yerba Buena\",\"Bernal Heights \",\"Clarendon Heights\",\"Duboce Triangle\",\"Ingleside Heights\",\"North Beach\",\"North Waterfront\",\"Outer Mission\",\"Westwood Highlands\",\"Merced Heights\",\"Midtown Terrace\",\"Visitacion Valley\",\"Silver Terrace\",\"Westwood Park\",\"Bayview Heights\"],\"title\":\"neighborhood\",\"value\":\"Alamo Square\",\"width\":250},\"id\":\"2027\",\"type\":\"Select\"},{\"attributes\":{\"axis\":{\"id\":\"1965\"},\"dimension\":1,\"grid_line_color\":null,\"ticker\":null},\"id\":\"1968\",\"type\":\"Grid\"},{\"attributes\":{\"children\":[{\"id\":\"2025\"},{\"id\":\"2026\"},{\"id\":\"2028\"}],\"margin\":[0,0,0,0],\"name\":\"Column03407\"},\"id\":\"2024\",\"type\":\"Column\"},{\"attributes\":{\"margin\":[5,5,5,5],\"name\":\"HSpacer03408\",\"sizing_mode\":\"stretch_width\"},\"id\":\"1948\",\"type\":\"Spacer\"},{\"attributes\":{},\"id\":\"1959\",\"type\":\"LinearScale\"},{\"attributes\":{},\"id\":\"1970\",\"type\":\"PanTool\"},{\"attributes\":{},\"id\":\"1971\",\"type\":\"WheelZoomTool\"},{\"attributes\":{\"margin\":[5,5,5,5],\"name\":\"HSpacer03409\",\"sizing_mode\":\"stretch_width\"},\"id\":\"2023\",\"type\":\"Spacer\"},{\"attributes\":{\"margin\":[5,5,5,5],\"name\":\"VSpacer03406\",\"sizing_mode\":\"stretch_height\"},\"id\":\"2028\",\"type\":\"Spacer\"},{\"attributes\":{\"data\":{\"sale_price_sqr_foot\":{\"__ndarray__\":\"Dkc7WO0yckCafszcbwhxQIGRs5ot42ZAJzog0LQ8eEAWMinKGEd+QI0V5FDt0IJAVCHcmLVPdUA=\",\"dtype\":\"float64\",\"order\":\"little\",\"shape\":[7]},\"year\":[2010,2011,2012,2013,2014,2015,2016]},\"selected\":{\"id\":\"1983\"},\"selection_policy\":{\"id\":\"2010\"}},\"id\":\"1982\",\"type\":\"ColumnDataSource\"},{\"attributes\":{},\"id\":\"1957\",\"type\":\"LinearScale\"},{\"attributes\":{},\"id\":\"1969\",\"type\":\"SaveTool\"},{\"attributes\":{},\"id\":\"1996\",\"type\":\"BasicTickFormatter\"},{\"attributes\":{\"active_multi\":null,\"tools\":[{\"id\":\"1951\"},{\"id\":\"1969\"},{\"id\":\"1970\"},{\"id\":\"1971\"},{\"id\":\"1972\"},{\"id\":\"1973\"}]},\"id\":\"1975\",\"type\":\"Toolbar\"},{\"attributes\":{\"margin\":[5,5,5,5],\"name\":\"VSpacer03405\",\"sizing_mode\":\"stretch_height\"},\"id\":\"2025\",\"type\":\"Spacer\"},{\"attributes\":{\"end\":2016.0,\"reset_end\":2016.0,\"reset_start\":2010.0,\"start\":2010.0,\"tags\":[[[\"year\",\"year\",null]]]},\"id\":\"1949\",\"type\":\"Range1d\"},{\"attributes\":{\"below\":[{\"id\":\"1961\"}],\"center\":[{\"id\":\"1964\"},{\"id\":\"1968\"}],\"height\":300,\"left\":[{\"id\":\"1965\"}],\"margin\":[5,5,5,5],\"min_border_bottom\":10,\"min_border_left\":10,\"min_border_right\":10,\"min_border_top\":10,\"renderers\":[{\"id\":\"1988\"}],\"sizing_mode\":\"fixed\",\"title\":{\"id\":\"1953\"},\"toolbar\":{\"id\":\"1975\"},\"width\":700,\"x_range\":{\"id\":\"1949\"},\"x_scale\":{\"id\":\"1957\"},\"y_range\":{\"id\":\"1950\"},\"y_scale\":{\"id\":\"1959\"}},\"id\":\"1952\",\"subtype\":\"Figure\",\"type\":\"Plot\"},{\"attributes\":{\"line_alpha\":0.2,\"line_color\":\"#30a2da\",\"line_width\":2,\"x\":{\"field\":\"year\"},\"y\":{\"field\":\"sale_price_sqr_foot\"}},\"id\":\"1987\",\"type\":\"Line\"},{\"attributes\":{\"client_comm_id\":\"f46cc3aa408847398d2fae505940c50d\",\"comm_id\":\"429034ffe33d462d9c8b42c3c3ceb049\",\"plot_id\":\"1947\"},\"id\":\"2059\",\"type\":\"panel.models.comm_manager.CommManager\"},{\"attributes\":{\"line_alpha\":0.1,\"line_color\":\"#30a2da\",\"line_width\":2,\"x\":{\"field\":\"year\"},\"y\":{\"field\":\"sale_price_sqr_foot\"}},\"id\":\"1986\",\"type\":\"Line\"},{\"attributes\":{\"axis\":{\"id\":\"1961\"},\"grid_line_color\":null,\"ticker\":null},\"id\":\"1964\",\"type\":\"Grid\"}],\"root_ids\":[\"1947\",\"2059\"]},\"title\":\"Bokeh Application\",\"version\":\"2.3.0\"}};\n",
       "    var render_items = [{\"docid\":\"6e0add8c-252e-49df-8b03-7dcd9871d0e8\",\"root_ids\":[\"1947\"],\"roots\":{\"1947\":\"03bce5c9-0038-4b1d-b170-719ff5d33091\"}}];\n",
       "    root.Bokeh.embed.embed_items_notebook(docs_json, render_items);\n",
       "  }\n",
       "  if (root.Bokeh !== undefined && root.Bokeh.Panel !== undefined && root['Plotly'] !== undefined ) {\n",
       "    embed_document(root);\n",
       "  } else {\n",
       "    var attempts = 0;\n",
       "    var timer = setInterval(function(root) {\n",
       "      if (root.Bokeh !== undefined && root.Bokeh.Panel !== undefined && root['Plotly'] !== undefined) {\n",
       "        clearInterval(timer);\n",
       "        embed_document(root);\n",
       "      } else if (document.readyState == \"complete\") {\n",
       "        attempts++;\n",
       "        if (attempts > 100) {\n",
       "          clearInterval(timer);\n",
       "          console.log(\"Bokeh: ERROR: Unable to run BokehJS code because BokehJS library is missing\");\n",
       "        }\n",
       "      }\n",
       "    }, 10, root)\n",
       "  }\n",
       "})(window);</script>"
      ],
      "text/plain": [
       ":DynamicMap   [neighborhood]\n",
       "   :Curve   [year]   (sale_price_sqr_foot)"
      ]
     },
     "execution_count": 140,
     "metadata": {
      "application/vnd.holoviews_exec.v0+json": {
       "id": "1947"
      }
     },
     "output_type": "execute_result"
    }
   ],
   "source": [
    "average_price_by_neighborhood()"
   ]
  },
  {
   "cell_type": "code",
   "execution_count": 141,
   "metadata": {},
   "outputs": [
    {
     "data": {},
     "metadata": {},
     "output_type": "display_data"
    },
    {
     "data": {
      "application/vnd.holoviews_exec.v0+json": "",
      "text/html": [
       "<div id='2110'>\n",
       "\n",
       "\n",
       "\n",
       "\n",
       "\n",
       "  <div class=\"bk-root\" id=\"e860b2d1-d505-4e39-b98e-34f59b79f15d\" data-root-id=\"2110\"></div>\n",
       "</div>\n",
       "<script type=\"application/javascript\">(function(root) {\n",
       "  function embed_document(root) {\n",
       "    var docs_json = {\"c3210191-2920-4cf9-bbb5-aca1d1b202ea\":{\"defs\":[{\"extends\":null,\"module\":null,\"name\":\"DataModel\",\"overrides\":[],\"properties\":[]}],\"roots\":{\"references\":[{\"attributes\":{\"margin\":[5,5,5,5],\"name\":\"HSpacer03713\",\"sizing_mode\":\"stretch_width\"},\"id\":\"2179\",\"type\":\"Spacer\"},{\"attributes\":{},\"id\":\"2155\",\"type\":\"CategoricalTickFormatter\"},{\"attributes\":{\"below\":[{\"id\":\"2124\"}],\"center\":[{\"id\":\"2126\"},{\"id\":\"2130\"}],\"height\":500,\"left\":[{\"id\":\"2127\"}],\"margin\":[5,5,5,5],\"min_border_bottom\":10,\"min_border_left\":10,\"min_border_right\":10,\"min_border_top\":10,\"renderers\":[{\"id\":\"2150\"}],\"sizing_mode\":\"fixed\",\"title\":{\"id\":\"2116\"},\"toolbar\":{\"id\":\"2137\"},\"width\":700,\"x_range\":{\"id\":\"2112\"},\"x_scale\":{\"id\":\"2120\"},\"y_range\":{\"id\":\"2113\"},\"y_scale\":{\"id\":\"2122\"}},\"id\":\"2115\",\"subtype\":\"Figure\",\"type\":\"Plot\"},{\"attributes\":{},\"id\":\"2156\",\"type\":\"AllLabels\"},{\"attributes\":{},\"id\":\"2166\",\"type\":\"UnionRenderers\"},{\"attributes\":{\"axis_label\":\"Neighborhood\",\"formatter\":{\"id\":\"2155\"},\"major_label_orientation\":0.7853981633974483,\"major_label_policy\":{\"id\":\"2153\"},\"ticker\":{\"id\":\"2125\"}},\"id\":\"2124\",\"type\":\"CategoricalAxis\"},{\"attributes\":{\"data\":{\"neighborhood\":[\"Union Square District\",\"Merced Heights\",\"Miraloma Park\",\"Pacific Heights\",\"Westwood Park\",\"Telegraph Hill\",\"Presidio Heights\",\"Cow Hollow\",\"Potrero Hill\",\"South Beach\"],\"sale_price_sqr_foot\":{\"__ndarray__\":\"JRAUMfI/jEB9IrkvwqaIQFx/3pp8XohAFpsVUHKMhUBs0ERas3iFQL0KhXgNJIVAy835O80ahUANV25bts+EQJrMCuEbsIRAya3y7v5QhEA=\",\"dtype\":\"float64\",\"order\":\"little\",\"shape\":[10]}},\"selected\":{\"id\":\"2145\"},\"selection_policy\":{\"id\":\"2166\"}},\"id\":\"2144\",\"type\":\"ColumnDataSource\"},{\"attributes\":{},\"id\":\"2133\",\"type\":\"WheelZoomTool\"},{\"attributes\":{\"callback\":null,\"renderers\":[{\"id\":\"2150\"}],\"tags\":[\"hv_created\"],\"tooltips\":[[\"neighborhood\",\"@{neighborhood}\"],[\"sale_price_sqr_foot\",\"@{sale_price_sqr_foot}\"]]},\"id\":\"2114\",\"type\":\"HoverTool\"},{\"attributes\":{},\"id\":\"2131\",\"type\":\"SaveTool\"},{\"attributes\":{\"children\":[{\"id\":\"2111\"},{\"id\":\"2115\"},{\"id\":\"2179\"}],\"margin\":[0,0,0,0],\"name\":\"Row03708\",\"tags\":[\"embedded\"]},\"id\":\"2110\",\"type\":\"Row\"},{\"attributes\":{},\"id\":\"2158\",\"type\":\"BasicTickFormatter\"},{\"attributes\":{},\"id\":\"2132\",\"type\":\"PanTool\"},{\"attributes\":{\"factors\":[\"Union Square District\",\"Merced Heights\",\"Miraloma Park\",\"Pacific Heights\",\"Westwood Park\",\"Telegraph Hill\",\"Presidio Heights\",\"Cow Hollow\",\"Potrero Hill\",\"South Beach\"],\"tags\":[[[\"neighborhood\",\"neighborhood\",null]]]},\"id\":\"2112\",\"type\":\"FactorRange\"},{\"attributes\":{\"fill_alpha\":{\"value\":0.1},\"fill_color\":{\"value\":\"pink\"},\"line_alpha\":{\"value\":0.1},\"top\":{\"field\":\"sale_price_sqr_foot\"},\"width\":{\"value\":0.8},\"x\":{\"field\":\"neighborhood\"}},\"id\":\"2148\",\"type\":\"VBar\"},{\"attributes\":{\"margin\":[5,5,5,5],\"name\":\"HSpacer03712\",\"sizing_mode\":\"stretch_width\"},\"id\":\"2111\",\"type\":\"Spacer\"},{\"attributes\":{\"overlay\":{\"id\":\"2136\"}},\"id\":\"2134\",\"type\":\"BoxZoomTool\"},{\"attributes\":{},\"id\":\"2153\",\"type\":\"AllLabels\"},{\"attributes\":{\"text\":\"Top 10 Most Expensive Neighborhoods\",\"text_color\":\"black\",\"text_font_size\":\"12pt\"},\"id\":\"2116\",\"type\":\"Title\"},{\"attributes\":{\"fill_color\":{\"value\":\"pink\"},\"top\":{\"field\":\"sale_price_sqr_foot\"},\"width\":{\"value\":0.8},\"x\":{\"field\":\"neighborhood\"}},\"id\":\"2147\",\"type\":\"VBar\"},{\"attributes\":{},\"id\":\"2135\",\"type\":\"ResetTool\"},{\"attributes\":{\"data_source\":{\"id\":\"2144\"},\"glyph\":{\"id\":\"2147\"},\"hover_glyph\":null,\"muted_glyph\":{\"id\":\"2149\"},\"nonselection_glyph\":{\"id\":\"2148\"},\"selection_glyph\":{\"id\":\"2152\"},\"view\":{\"id\":\"2151\"}},\"id\":\"2150\",\"type\":\"GlyphRenderer\"},{\"attributes\":{\"source\":{\"id\":\"2144\"}},\"id\":\"2151\",\"type\":\"CDSView\"},{\"attributes\":{\"bottom\":{\"value\":0},\"fill_alpha\":{\"value\":1.0},\"fill_color\":{\"value\":\"pink\"},\"hatch_alpha\":{\"value\":1.0},\"hatch_color\":{\"value\":\"black\"},\"hatch_scale\":{\"value\":12.0},\"hatch_weight\":{\"value\":1.0},\"line_alpha\":{\"value\":1.0},\"line_cap\":{\"value\":\"butt\"},\"line_color\":{\"value\":\"black\"},\"line_dash\":{\"value\":[]},\"line_dash_offset\":{\"value\":0},\"line_join\":{\"value\":\"bevel\"},\"line_width\":{\"value\":1},\"top\":{\"field\":\"sale_price_sqr_foot\"},\"width\":{\"value\":0.8},\"x\":{\"field\":\"neighborhood\"}},\"id\":\"2152\",\"type\":\"VBar\"},{\"attributes\":{},\"id\":\"2122\",\"type\":\"LinearScale\"},{\"attributes\":{\"axis_label\":\"Average Price per SqFt\",\"formatter\":{\"id\":\"2158\"},\"major_label_policy\":{\"id\":\"2156\"},\"ticker\":{\"id\":\"2128\"}},\"id\":\"2127\",\"type\":\"LinearAxis\"},{\"attributes\":{},\"id\":\"2128\",\"type\":\"BasicTicker\"},{\"attributes\":{},\"id\":\"2120\",\"type\":\"CategoricalScale\"},{\"attributes\":{\"end\":929.3801355198136,\"reset_end\":929.3801355198136,\"reset_start\":0.0,\"tags\":[[[\"sale_price_sqr_foot\",\"sale_price_sqr_foot\",null]]]},\"id\":\"2113\",\"type\":\"Range1d\"},{\"attributes\":{\"bottom_units\":\"screen\",\"fill_alpha\":0.5,\"fill_color\":\"lightgrey\",\"left_units\":\"screen\",\"level\":\"overlay\",\"line_alpha\":1.0,\"line_color\":\"black\",\"line_dash\":[4,4],\"line_width\":2,\"right_units\":\"screen\",\"syncable\":false,\"top_units\":\"screen\"},\"id\":\"2136\",\"type\":\"BoxAnnotation\"},{\"attributes\":{},\"id\":\"2125\",\"type\":\"CategoricalTicker\"},{\"attributes\":{},\"id\":\"2145\",\"type\":\"Selection\"},{\"attributes\":{\"axis\":{\"id\":\"2127\"},\"dimension\":1,\"grid_line_color\":null,\"ticker\":null},\"id\":\"2130\",\"type\":\"Grid\"},{\"attributes\":{\"fill_alpha\":{\"value\":0.2},\"fill_color\":{\"value\":\"pink\"},\"line_alpha\":{\"value\":0.2},\"top\":{\"field\":\"sale_price_sqr_foot\"},\"width\":{\"value\":0.8},\"x\":{\"field\":\"neighborhood\"}},\"id\":\"2149\",\"type\":\"VBar\"},{\"attributes\":{\"axis\":{\"id\":\"2124\"},\"grid_line_color\":null,\"ticker\":null},\"id\":\"2126\",\"type\":\"Grid\"},{\"attributes\":{\"active_multi\":null,\"tools\":[{\"id\":\"2114\"},{\"id\":\"2131\"},{\"id\":\"2132\"},{\"id\":\"2133\"},{\"id\":\"2134\"},{\"id\":\"2135\"}]},\"id\":\"2137\",\"type\":\"Toolbar\"}],\"root_ids\":[\"2110\"]},\"title\":\"Bokeh Application\",\"version\":\"2.3.0\"}};\n",
       "    var render_items = [{\"docid\":\"c3210191-2920-4cf9-bbb5-aca1d1b202ea\",\"root_ids\":[\"2110\"],\"roots\":{\"2110\":\"e860b2d1-d505-4e39-b98e-34f59b79f15d\"}}];\n",
       "    root.Bokeh.embed.embed_items_notebook(docs_json, render_items);\n",
       "  }\n",
       "  if (root.Bokeh !== undefined && root.Bokeh.Panel !== undefined && root['Plotly'] !== undefined ) {\n",
       "    embed_document(root);\n",
       "  } else {\n",
       "    var attempts = 0;\n",
       "    var timer = setInterval(function(root) {\n",
       "      if (root.Bokeh !== undefined && root.Bokeh.Panel !== undefined && root['Plotly'] !== undefined) {\n",
       "        clearInterval(timer);\n",
       "        embed_document(root);\n",
       "      } else if (document.readyState == \"complete\") {\n",
       "        attempts++;\n",
       "        if (attempts > 100) {\n",
       "          clearInterval(timer);\n",
       "          console.log(\"Bokeh: ERROR: Unable to run BokehJS code because BokehJS library is missing\");\n",
       "        }\n",
       "      }\n",
       "    }, 10, root)\n",
       "  }\n",
       "})(window);</script>"
      ],
      "text/plain": [
       ":Bars   [neighborhood]   (sale_price_sqr_foot)"
      ]
     },
     "execution_count": 141,
     "metadata": {
      "application/vnd.holoviews_exec.v0+json": {
       "id": "2110"
      }
     },
     "output_type": "execute_result"
    }
   ],
   "source": [
    "top_most_expensive_neighborhoods()"
   ]
  },
  {
   "cell_type": "code",
   "execution_count": 142,
   "metadata": {},
   "outputs": [
    {
     "data": {},
     "metadata": {},
     "output_type": "display_data"
    },
    {
     "data": {
      "application/vnd.holoviews_exec.v0+json": "",
      "text/html": [
       "<div id='2231'>\n",
       "\n",
       "\n",
       "\n",
       "\n",
       "\n",
       "  <div class=\"bk-root\" id=\"bb57fb0a-8e4d-4f1a-a8d8-b2063d7267da\" data-root-id=\"2231\"></div>\n",
       "</div>\n",
       "<script type=\"application/javascript\">(function(root) {\n",
       "  function embed_document(root) {\n",
       "    var docs_json = {\"298738f4-86a2-412f-a028-789df389ee54\":{\"defs\":[{\"extends\":null,\"module\":null,\"name\":\"DataModel\",\"overrides\":[],\"properties\":[]}],\"roots\":{\"references\":[{\"attributes\":{\"margin\":[5,5,5,5],\"name\":\"HSpacer03817\",\"sizing_mode\":\"stretch_width\"},\"id\":\"2307\",\"type\":\"Spacer\"},{\"attributes\":{\"axis_label\":\"Neighborhood\",\"formatter\":{\"id\":\"2277\"},\"major_label_orientation\":0.7853981633974483,\"major_label_policy\":{\"id\":\"2275\"},\"ticker\":{\"id\":\"2246\"}},\"id\":\"2245\",\"type\":\"CategoricalAxis\"},{\"attributes\":{},\"id\":\"2275\",\"type\":\"AllLabels\"},{\"attributes\":{\"axis\":{\"id\":\"2245\"},\"grid_line_color\":null,\"ticker\":null},\"id\":\"2247\",\"type\":\"Grid\"},{\"attributes\":{\"factors\":[[\"Alamo Square\",\"gross_rent\"],[\"Alamo Square\",\"sale_price_sqr_foot\"]],\"tags\":[[[\"neighborhood\",\"neighborhood\",null],[\"Variable\",\"Variable\",null]]]},\"id\":\"2233\",\"type\":\"FactorRange\"},{\"attributes\":{\"end\":3062.412214561058,\"reset_end\":3062.412214561058,\"reset_start\":0.0,\"tags\":[[[\"value\",\"value\",null]]]},\"id\":\"2234\",\"type\":\"Range1d\"},{\"attributes\":{\"factors\":[\"gross_rent\",\"sale_price_sqr_foot\"],\"palette\":[\"pink\",\"pink\"]},\"id\":\"2265\",\"type\":\"CategoricalColorMapper\"},{\"attributes\":{\"bottom\":{\"value\":0},\"fill_alpha\":{\"value\":1.0},\"fill_color\":{\"field\":\"Variable\",\"transform\":{\"id\":\"2265\"}},\"hatch_alpha\":{\"value\":1.0},\"hatch_color\":{\"value\":\"black\"},\"hatch_scale\":{\"value\":12.0},\"hatch_weight\":{\"value\":1.0},\"line_alpha\":{\"value\":1.0},\"line_cap\":{\"value\":\"butt\"},\"line_color\":{\"value\":\"black\"},\"line_dash\":{\"value\":[]},\"line_dash_offset\":{\"value\":0},\"line_join\":{\"value\":\"bevel\"},\"line_width\":{\"value\":1},\"top\":{\"field\":\"value\"},\"width\":{\"value\":0.8},\"x\":{\"field\":\"xoffsets\"}},\"id\":\"2274\",\"type\":\"VBar\"},{\"attributes\":{\"data\":{\"Variable\":[\"gross_rent\",\"sale_price_sqr_foot\"],\"neighborhood\":[\"Alamo Square\",\"Alamo Square\"],\"value\":{\"__ndarray__\":\"SZIkSZICpkBwnJ3VVOB2QA==\",\"dtype\":\"float64\",\"order\":\"little\",\"shape\":[2]},\"xoffsets\":[[\"Alamo Square\",\"gross_rent\"],[\"Alamo Square\",\"sale_price_sqr_foot\"]]},\"selected\":{\"id\":\"2267\"},\"selection_policy\":{\"id\":\"2294\"}},\"id\":\"2266\",\"type\":\"ColumnDataSource\"},{\"attributes\":{},\"id\":\"2246\",\"type\":\"CategoricalTicker\"},{\"attributes\":{},\"id\":\"2277\",\"type\":\"CategoricalTickFormatter\"},{\"attributes\":{},\"id\":\"2280\",\"type\":\"BasicTickFormatter\"},{\"attributes\":{\"axis\":{\"id\":\"2248\"},\"dimension\":1,\"grid_line_color\":null,\"ticker\":null},\"id\":\"2251\",\"type\":\"Grid\"},{\"attributes\":{\"children\":[{\"id\":\"2232\"},{\"id\":\"2236\"},{\"id\":\"2307\"},{\"id\":\"2308\"}],\"margin\":[0,0,0,0],\"name\":\"Row03807\"},\"id\":\"2231\",\"type\":\"Row\"},{\"attributes\":{\"data_source\":{\"id\":\"2266\"},\"glyph\":{\"id\":\"2269\"},\"hover_glyph\":null,\"muted_glyph\":{\"id\":\"2271\"},\"nonselection_glyph\":{\"id\":\"2270\"},\"selection_glyph\":{\"id\":\"2274\"},\"view\":{\"id\":\"2273\"}},\"id\":\"2272\",\"type\":\"GlyphRenderer\"},{\"attributes\":{\"active_multi\":null,\"tools\":[{\"id\":\"2235\"},{\"id\":\"2252\"},{\"id\":\"2253\"},{\"id\":\"2254\"},{\"id\":\"2255\"},{\"id\":\"2256\"}]},\"id\":\"2258\",\"type\":\"Toolbar\"},{\"attributes\":{\"callback\":null,\"renderers\":[{\"id\":\"2272\"}],\"tags\":[\"hv_created\"],\"tooltips\":[[\"neighborhood\",\"@{neighborhood}\"],[\"Variable\",\"@{Variable}\"],[\"value\",\"@{value}\"]]},\"id\":\"2235\",\"type\":\"HoverTool\"},{\"attributes\":{},\"id\":\"2249\",\"type\":\"BasicTicker\"},{\"attributes\":{\"axis_label\":\"Number of Houses\",\"formatter\":{\"id\":\"2280\"},\"major_label_policy\":{\"id\":\"2278\"},\"ticker\":{\"id\":\"2249\"}},\"id\":\"2248\",\"type\":\"LinearAxis\"},{\"attributes\":{},\"id\":\"2278\",\"type\":\"AllLabels\"},{\"attributes\":{\"bottom_units\":\"screen\",\"fill_alpha\":0.5,\"fill_color\":\"lightgrey\",\"left_units\":\"screen\",\"level\":\"overlay\",\"line_alpha\":1.0,\"line_color\":\"black\",\"line_dash\":[4,4],\"line_width\":2,\"right_units\":\"screen\",\"syncable\":false,\"top_units\":\"screen\"},\"id\":\"2257\",\"type\":\"BoxAnnotation\"},{\"attributes\":{\"margin\":[5,5,5,5],\"name\":\"VSpacer03813\",\"sizing_mode\":\"stretch_height\"},\"id\":\"2309\",\"type\":\"Spacer\"},{\"attributes\":{\"margin\":[5,5,5,5],\"name\":\"HSpacer03816\",\"sizing_mode\":\"stretch_width\"},\"id\":\"2232\",\"type\":\"Spacer\"},{\"attributes\":{\"margin\":[5,5,5,5],\"name\":\"VSpacer03814\",\"sizing_mode\":\"stretch_height\"},\"id\":\"2312\",\"type\":\"Spacer\"},{\"attributes\":{},\"id\":\"2294\",\"type\":\"UnionRenderers\"},{\"attributes\":{\"fill_color\":{\"field\":\"Variable\",\"transform\":{\"id\":\"2265\"}},\"top\":{\"field\":\"value\"},\"width\":{\"value\":0.8},\"x\":{\"field\":\"xoffsets\"}},\"id\":\"2269\",\"type\":\"VBar\"},{\"attributes\":{},\"id\":\"2267\",\"type\":\"Selection\"},{\"attributes\":{\"client_comm_id\":\"0cb28f9320cb42af869379a878410893\",\"comm_id\":\"7c9d955abdbe4f338bf7a998d13655b2\",\"plot_id\":\"2231\"},\"id\":\"2343\",\"type\":\"panel.models.comm_manager.CommManager\"},{\"attributes\":{\"text\":\"Most Expensive Neighborhoods\",\"text_color\":\"black\",\"text_font_size\":\"12pt\"},\"id\":\"2237\",\"type\":\"Title\"},{\"attributes\":{\"children\":[{\"id\":\"2311\"}],\"css_classes\":[\"panel-widget-box\"],\"margin\":[5,5,5,5],\"name\":\"WidgetBox03808\"},\"id\":\"2310\",\"type\":\"Column\"},{\"attributes\":{\"fill_alpha\":{\"value\":0.1},\"fill_color\":{\"field\":\"Variable\",\"transform\":{\"id\":\"2265\"}},\"line_alpha\":{\"value\":0.1},\"top\":{\"field\":\"value\"},\"width\":{\"value\":0.8},\"x\":{\"field\":\"xoffsets\"}},\"id\":\"2270\",\"type\":\"VBar\"},{\"attributes\":{\"below\":[{\"id\":\"2245\"}],\"center\":[{\"id\":\"2247\"},{\"id\":\"2251\"}],\"height\":500,\"left\":[{\"id\":\"2248\"}],\"margin\":[5,5,5,5],\"min_border_bottom\":10,\"min_border_left\":10,\"min_border_right\":10,\"min_border_top\":10,\"renderers\":[{\"id\":\"2272\"}],\"sizing_mode\":\"fixed\",\"title\":{\"id\":\"2237\"},\"toolbar\":{\"id\":\"2258\"},\"width\":700,\"x_range\":{\"id\":\"2233\"},\"x_scale\":{\"id\":\"2241\"},\"y_range\":{\"id\":\"2234\"},\"y_scale\":{\"id\":\"2243\"}},\"id\":\"2236\",\"subtype\":\"Figure\",\"type\":\"Plot\"},{\"attributes\":{},\"id\":\"2252\",\"type\":\"SaveTool\"},{\"attributes\":{},\"id\":\"2253\",\"type\":\"PanTool\"},{\"attributes\":{},\"id\":\"2256\",\"type\":\"ResetTool\"},{\"attributes\":{\"source\":{\"id\":\"2266\"}},\"id\":\"2273\",\"type\":\"CDSView\"},{\"attributes\":{},\"id\":\"2254\",\"type\":\"WheelZoomTool\"},{\"attributes\":{\"margin\":[20,20,20,20],\"min_width\":250,\"options\":[\"Alamo Square\",\"Anza Vista\",\"Bayview\",\"Bayview Heights\",\"Bernal Heights \",\"Buena Vista Park\",\"Central Richmond\",\"Central Sunset\",\"Clarendon Heights\",\"Corona Heights\",\"Cow Hollow\",\"Croker Amazon\",\"Diamond Heights\",\"Downtown \",\"Duboce Triangle\",\"Eureka Valley/Dolores Heights\",\"Excelsior\",\"Financial District North\",\"Financial District South\",\"Forest Knolls\",\"Glen Park\",\"Golden Gate Heights\",\"Haight Ashbury\",\"Hayes Valley\",\"Hunters Point\",\"Ingleside \",\"Ingleside Heights\",\"Inner Mission\",\"Inner Parkside\",\"Inner Richmond\",\"Inner Sunset\",\"Jordan Park/Laurel Heights\",\"Lake --The Presidio\",\"Lone Mountain\",\"Lower Pacific Heights\",\"Marina\",\"Merced Heights\",\"Midtown Terrace\",\"Miraloma Park\",\"Mission Bay\",\"Mission Dolores\",\"Mission Terrace\",\"Nob Hill\",\"Noe Valley\",\"North Beach\",\"North Waterfront\",\"Oceanview\",\"Outer Mission\",\"Outer Parkside\",\"Outer Richmond \",\"Outer Sunset\",\"Pacific Heights\",\"Park North\",\"Parkside\",\"Parnassus/Ashbury Heights\",\"Portola\",\"Potrero Hill\",\"Presidio Heights\",\"Russian Hill\",\"Silver Terrace\",\"South Beach\",\"South of Market\",\"Sunnyside\",\"Telegraph Hill\",\"Twin Peaks\",\"Union Square District\",\"Van Ness/ Civic Center\",\"Visitacion Valley\",\"West Portal\",\"Western Addition\",\"Westwood Highlands\",\"Westwood Park\",\"Yerba Buena\"],\"title\":\"neighborhood\",\"value\":\"Alamo Square\",\"width\":250},\"id\":\"2311\",\"type\":\"Select\"},{\"attributes\":{},\"id\":\"2241\",\"type\":\"CategoricalScale\"},{\"attributes\":{\"overlay\":{\"id\":\"2257\"}},\"id\":\"2255\",\"type\":\"BoxZoomTool\"},{\"attributes\":{\"children\":[{\"id\":\"2309\"},{\"id\":\"2310\"},{\"id\":\"2312\"}],\"margin\":[0,0,0,0],\"name\":\"Column03815\"},\"id\":\"2308\",\"type\":\"Column\"},{\"attributes\":{},\"id\":\"2243\",\"type\":\"LinearScale\"},{\"attributes\":{\"fill_alpha\":{\"value\":0.2},\"fill_color\":{\"field\":\"Variable\",\"transform\":{\"id\":\"2265\"}},\"line_alpha\":{\"value\":0.2},\"top\":{\"field\":\"value\"},\"width\":{\"value\":0.8},\"x\":{\"field\":\"xoffsets\"}},\"id\":\"2271\",\"type\":\"VBar\"}],\"root_ids\":[\"2231\",\"2343\"]},\"title\":\"Bokeh Application\",\"version\":\"2.3.0\"}};\n",
       "    var render_items = [{\"docid\":\"298738f4-86a2-412f-a028-789df389ee54\",\"root_ids\":[\"2231\"],\"roots\":{\"2231\":\"bb57fb0a-8e4d-4f1a-a8d8-b2063d7267da\"}}];\n",
       "    root.Bokeh.embed.embed_items_notebook(docs_json, render_items);\n",
       "  }\n",
       "  if (root.Bokeh !== undefined && root.Bokeh.Panel !== undefined && root['Plotly'] !== undefined ) {\n",
       "    embed_document(root);\n",
       "  } else {\n",
       "    var attempts = 0;\n",
       "    var timer = setInterval(function(root) {\n",
       "      if (root.Bokeh !== undefined && root.Bokeh.Panel !== undefined && root['Plotly'] !== undefined) {\n",
       "        clearInterval(timer);\n",
       "        embed_document(root);\n",
       "      } else if (document.readyState == \"complete\") {\n",
       "        attempts++;\n",
       "        if (attempts > 100) {\n",
       "          clearInterval(timer);\n",
       "          console.log(\"Bokeh: ERROR: Unable to run BokehJS code because BokehJS library is missing\");\n",
       "        }\n",
       "      }\n",
       "    }, 10, root)\n",
       "  }\n",
       "})(window);</script>"
      ],
      "text/plain": [
       ":DynamicMap   [neighborhood]\n",
       "   :Bars   [neighborhood,Variable]   (value)"
      ]
     },
     "execution_count": 142,
     "metadata": {
      "application/vnd.holoviews_exec.v0+json": {
       "id": "2231"
      }
     },
     "output_type": "execute_result"
    }
   ],
   "source": [
    "most_expensive_neighborhoods_rent_sales()"
   ]
  },
  {
   "cell_type": "code",
   "execution_count": 143,
   "metadata": {},
   "outputs": [
    {
     "name": "stdout",
     "output_type": "stream",
     "text": [
      "Launching server at http://localhost:53374\n"
     ]
    },
    {
     "data": {
      "text/plain": [
       "<bokeh.server.server.Server at 0x2145f7dc048>"
      ]
     },
     "execution_count": 143,
     "metadata": {},
     "output_type": "execute_result"
    }
   ],
   "source": [
    "neighborhood_map().show()"
   ]
  },
  {
   "cell_type": "code",
   "execution_count": 173,
   "metadata": {},
   "outputs": [
    {
     "data": {
      "application/vnd.plotly.v1+json": {
       "config": {
        "plotlyServerURL": "https://plot.ly"
       },
       "data": [
        {
         "dimensions": [
          {
           "label": "neighborhood",
           "values": [
            "Union Square District",
            "Merced Heights",
            "Miraloma Park",
            "Pacific Heights",
            "Westwood Park",
            "Telegraph Hill",
            "Presidio Heights",
            "Cow Hollow",
            "Potrero Hill",
            "South Beach"
           ]
          },
          {
           "label": "sale_price_sqr_foot",
           "values": [
            903.9932576720645,
            788.8448175872469,
            779.810842264425,
            689.5558168113664,
            687.0875745178323,
            676.5065775293257,
            675.3502120510033,
            665.964041578323,
            662.0136128276529,
            650.1244791945729
           ]
          },
          {
           "label": "housing_units",
           "values": [
            377427.5,
            380348,
            375967.25,
            378401,
            382295,
            378401,
            378401,
            378401,
            378401,
            375805
           ]
          },
          {
           "label": "gross_rent",
           "values": [
            2555.1666666666665,
            3414,
            2155.25,
            2817.285714285714,
            3959,
            2817.285714285714,
            2817.285714285714,
            2817.285714285714,
            2817.285714285714,
            2099
           ]
          }
         ],
         "domain": {
          "x": [
           0,
           1
          ],
          "y": [
           0,
           1
          ]
         },
         "line": {
          "color": [
           903.9932576720645,
           788.8448175872469,
           779.810842264425,
           689.5558168113664,
           687.0875745178323,
           676.5065775293257,
           675.3502120510033,
           665.964041578323,
           662.0136128276529,
           650.1244791945729
          ],
          "coloraxis": "coloraxis"
         },
         "name": "",
         "type": "parcats"
        }
       ],
       "layout": {
        "autosize": true,
        "coloraxis": {
         "colorbar": {
          "title": {
           "text": "sale_price_sqr_foot"
          }
         },
         "colorscale": [
          [
           0,
           "#0d0887"
          ],
          [
           0.1111111111111111,
           "#46039f"
          ],
          [
           0.2222222222222222,
           "#7201a8"
          ],
          [
           0.3333333333333333,
           "#9c179e"
          ],
          [
           0.4444444444444444,
           "#bd3786"
          ],
          [
           0.5555555555555556,
           "#d8576b"
          ],
          [
           0.6666666666666666,
           "#ed7953"
          ],
          [
           0.7777777777777778,
           "#fb9f3a"
          ],
          [
           0.8888888888888888,
           "#fdca26"
          ],
          [
           1,
           "#f0f921"
          ]
         ]
        },
        "legend": {
         "tracegroupgap": 0
        },
        "template": {
         "data": {
          "bar": [
           {
            "error_x": {
             "color": "#2a3f5f"
            },
            "error_y": {
             "color": "#2a3f5f"
            },
            "marker": {
             "line": {
              "color": "#E5ECF6",
              "width": 0.5
             }
            },
            "type": "bar"
           }
          ],
          "barpolar": [
           {
            "marker": {
             "line": {
              "color": "#E5ECF6",
              "width": 0.5
             }
            },
            "type": "barpolar"
           }
          ],
          "carpet": [
           {
            "aaxis": {
             "endlinecolor": "#2a3f5f",
             "gridcolor": "white",
             "linecolor": "white",
             "minorgridcolor": "white",
             "startlinecolor": "#2a3f5f"
            },
            "baxis": {
             "endlinecolor": "#2a3f5f",
             "gridcolor": "white",
             "linecolor": "white",
             "minorgridcolor": "white",
             "startlinecolor": "#2a3f5f"
            },
            "type": "carpet"
           }
          ],
          "choropleth": [
           {
            "colorbar": {
             "outlinewidth": 0,
             "ticks": ""
            },
            "type": "choropleth"
           }
          ],
          "contour": [
           {
            "colorbar": {
             "outlinewidth": 0,
             "ticks": ""
            },
            "colorscale": [
             [
              0,
              "#0d0887"
             ],
             [
              0.1111111111111111,
              "#46039f"
             ],
             [
              0.2222222222222222,
              "#7201a8"
             ],
             [
              0.3333333333333333,
              "#9c179e"
             ],
             [
              0.4444444444444444,
              "#bd3786"
             ],
             [
              0.5555555555555556,
              "#d8576b"
             ],
             [
              0.6666666666666666,
              "#ed7953"
             ],
             [
              0.7777777777777778,
              "#fb9f3a"
             ],
             [
              0.8888888888888888,
              "#fdca26"
             ],
             [
              1,
              "#f0f921"
             ]
            ],
            "type": "contour"
           }
          ],
          "contourcarpet": [
           {
            "colorbar": {
             "outlinewidth": 0,
             "ticks": ""
            },
            "type": "contourcarpet"
           }
          ],
          "heatmap": [
           {
            "colorbar": {
             "outlinewidth": 0,
             "ticks": ""
            },
            "colorscale": [
             [
              0,
              "#0d0887"
             ],
             [
              0.1111111111111111,
              "#46039f"
             ],
             [
              0.2222222222222222,
              "#7201a8"
             ],
             [
              0.3333333333333333,
              "#9c179e"
             ],
             [
              0.4444444444444444,
              "#bd3786"
             ],
             [
              0.5555555555555556,
              "#d8576b"
             ],
             [
              0.6666666666666666,
              "#ed7953"
             ],
             [
              0.7777777777777778,
              "#fb9f3a"
             ],
             [
              0.8888888888888888,
              "#fdca26"
             ],
             [
              1,
              "#f0f921"
             ]
            ],
            "type": "heatmap"
           }
          ],
          "heatmapgl": [
           {
            "colorbar": {
             "outlinewidth": 0,
             "ticks": ""
            },
            "colorscale": [
             [
              0,
              "#0d0887"
             ],
             [
              0.1111111111111111,
              "#46039f"
             ],
             [
              0.2222222222222222,
              "#7201a8"
             ],
             [
              0.3333333333333333,
              "#9c179e"
             ],
             [
              0.4444444444444444,
              "#bd3786"
             ],
             [
              0.5555555555555556,
              "#d8576b"
             ],
             [
              0.6666666666666666,
              "#ed7953"
             ],
             [
              0.7777777777777778,
              "#fb9f3a"
             ],
             [
              0.8888888888888888,
              "#fdca26"
             ],
             [
              1,
              "#f0f921"
             ]
            ],
            "type": "heatmapgl"
           }
          ],
          "histogram": [
           {
            "marker": {
             "colorbar": {
              "outlinewidth": 0,
              "ticks": ""
             }
            },
            "type": "histogram"
           }
          ],
          "histogram2d": [
           {
            "colorbar": {
             "outlinewidth": 0,
             "ticks": ""
            },
            "colorscale": [
             [
              0,
              "#0d0887"
             ],
             [
              0.1111111111111111,
              "#46039f"
             ],
             [
              0.2222222222222222,
              "#7201a8"
             ],
             [
              0.3333333333333333,
              "#9c179e"
             ],
             [
              0.4444444444444444,
              "#bd3786"
             ],
             [
              0.5555555555555556,
              "#d8576b"
             ],
             [
              0.6666666666666666,
              "#ed7953"
             ],
             [
              0.7777777777777778,
              "#fb9f3a"
             ],
             [
              0.8888888888888888,
              "#fdca26"
             ],
             [
              1,
              "#f0f921"
             ]
            ],
            "type": "histogram2d"
           }
          ],
          "histogram2dcontour": [
           {
            "colorbar": {
             "outlinewidth": 0,
             "ticks": ""
            },
            "colorscale": [
             [
              0,
              "#0d0887"
             ],
             [
              0.1111111111111111,
              "#46039f"
             ],
             [
              0.2222222222222222,
              "#7201a8"
             ],
             [
              0.3333333333333333,
              "#9c179e"
             ],
             [
              0.4444444444444444,
              "#bd3786"
             ],
             [
              0.5555555555555556,
              "#d8576b"
             ],
             [
              0.6666666666666666,
              "#ed7953"
             ],
             [
              0.7777777777777778,
              "#fb9f3a"
             ],
             [
              0.8888888888888888,
              "#fdca26"
             ],
             [
              1,
              "#f0f921"
             ]
            ],
            "type": "histogram2dcontour"
           }
          ],
          "mesh3d": [
           {
            "colorbar": {
             "outlinewidth": 0,
             "ticks": ""
            },
            "type": "mesh3d"
           }
          ],
          "parcoords": [
           {
            "line": {
             "colorbar": {
              "outlinewidth": 0,
              "ticks": ""
             }
            },
            "type": "parcoords"
           }
          ],
          "pie": [
           {
            "automargin": true,
            "type": "pie"
           }
          ],
          "scatter": [
           {
            "marker": {
             "colorbar": {
              "outlinewidth": 0,
              "ticks": ""
             }
            },
            "type": "scatter"
           }
          ],
          "scatter3d": [
           {
            "line": {
             "colorbar": {
              "outlinewidth": 0,
              "ticks": ""
             }
            },
            "marker": {
             "colorbar": {
              "outlinewidth": 0,
              "ticks": ""
             }
            },
            "type": "scatter3d"
           }
          ],
          "scattercarpet": [
           {
            "marker": {
             "colorbar": {
              "outlinewidth": 0,
              "ticks": ""
             }
            },
            "type": "scattercarpet"
           }
          ],
          "scattergeo": [
           {
            "marker": {
             "colorbar": {
              "outlinewidth": 0,
              "ticks": ""
             }
            },
            "type": "scattergeo"
           }
          ],
          "scattergl": [
           {
            "marker": {
             "colorbar": {
              "outlinewidth": 0,
              "ticks": ""
             }
            },
            "type": "scattergl"
           }
          ],
          "scattermapbox": [
           {
            "marker": {
             "colorbar": {
              "outlinewidth": 0,
              "ticks": ""
             }
            },
            "type": "scattermapbox"
           }
          ],
          "scatterpolar": [
           {
            "marker": {
             "colorbar": {
              "outlinewidth": 0,
              "ticks": ""
             }
            },
            "type": "scatterpolar"
           }
          ],
          "scatterpolargl": [
           {
            "marker": {
             "colorbar": {
              "outlinewidth": 0,
              "ticks": ""
             }
            },
            "type": "scatterpolargl"
           }
          ],
          "scatterternary": [
           {
            "marker": {
             "colorbar": {
              "outlinewidth": 0,
              "ticks": ""
             }
            },
            "type": "scatterternary"
           }
          ],
          "surface": [
           {
            "colorbar": {
             "outlinewidth": 0,
             "ticks": ""
            },
            "colorscale": [
             [
              0,
              "#0d0887"
             ],
             [
              0.1111111111111111,
              "#46039f"
             ],
             [
              0.2222222222222222,
              "#7201a8"
             ],
             [
              0.3333333333333333,
              "#9c179e"
             ],
             [
              0.4444444444444444,
              "#bd3786"
             ],
             [
              0.5555555555555556,
              "#d8576b"
             ],
             [
              0.6666666666666666,
              "#ed7953"
             ],
             [
              0.7777777777777778,
              "#fb9f3a"
             ],
             [
              0.8888888888888888,
              "#fdca26"
             ],
             [
              1,
              "#f0f921"
             ]
            ],
            "type": "surface"
           }
          ],
          "table": [
           {
            "cells": {
             "fill": {
              "color": "#EBF0F8"
             },
             "line": {
              "color": "white"
             }
            },
            "header": {
             "fill": {
              "color": "#C8D4E3"
             },
             "line": {
              "color": "white"
             }
            },
            "type": "table"
           }
          ]
         },
         "layout": {
          "annotationdefaults": {
           "arrowcolor": "#2a3f5f",
           "arrowhead": 0,
           "arrowwidth": 1
          },
          "autotypenumbers": "strict",
          "coloraxis": {
           "colorbar": {
            "outlinewidth": 0,
            "ticks": ""
           }
          },
          "colorscale": {
           "diverging": [
            [
             0,
             "#8e0152"
            ],
            [
             0.1,
             "#c51b7d"
            ],
            [
             0.2,
             "#de77ae"
            ],
            [
             0.3,
             "#f1b6da"
            ],
            [
             0.4,
             "#fde0ef"
            ],
            [
             0.5,
             "#f7f7f7"
            ],
            [
             0.6,
             "#e6f5d0"
            ],
            [
             0.7,
             "#b8e186"
            ],
            [
             0.8,
             "#7fbc41"
            ],
            [
             0.9,
             "#4d9221"
            ],
            [
             1,
             "#276419"
            ]
           ],
           "sequential": [
            [
             0,
             "#0d0887"
            ],
            [
             0.1111111111111111,
             "#46039f"
            ],
            [
             0.2222222222222222,
             "#7201a8"
            ],
            [
             0.3333333333333333,
             "#9c179e"
            ],
            [
             0.4444444444444444,
             "#bd3786"
            ],
            [
             0.5555555555555556,
             "#d8576b"
            ],
            [
             0.6666666666666666,
             "#ed7953"
            ],
            [
             0.7777777777777778,
             "#fb9f3a"
            ],
            [
             0.8888888888888888,
             "#fdca26"
            ],
            [
             1,
             "#f0f921"
            ]
           ],
           "sequentialminus": [
            [
             0,
             "#0d0887"
            ],
            [
             0.1111111111111111,
             "#46039f"
            ],
            [
             0.2222222222222222,
             "#7201a8"
            ],
            [
             0.3333333333333333,
             "#9c179e"
            ],
            [
             0.4444444444444444,
             "#bd3786"
            ],
            [
             0.5555555555555556,
             "#d8576b"
            ],
            [
             0.6666666666666666,
             "#ed7953"
            ],
            [
             0.7777777777777778,
             "#fb9f3a"
            ],
            [
             0.8888888888888888,
             "#fdca26"
            ],
            [
             1,
             "#f0f921"
            ]
           ]
          },
          "colorway": [
           "#636efa",
           "#EF553B",
           "#00cc96",
           "#ab63fa",
           "#FFA15A",
           "#19d3f3",
           "#FF6692",
           "#B6E880",
           "#FF97FF",
           "#FECB52"
          ],
          "font": {
           "color": "#2a3f5f"
          },
          "geo": {
           "bgcolor": "white",
           "lakecolor": "white",
           "landcolor": "#E5ECF6",
           "showlakes": true,
           "showland": true,
           "subunitcolor": "white"
          },
          "hoverlabel": {
           "align": "left"
          },
          "hovermode": "closest",
          "mapbox": {
           "style": "light"
          },
          "paper_bgcolor": "white",
          "plot_bgcolor": "#E5ECF6",
          "polar": {
           "angularaxis": {
            "gridcolor": "white",
            "linecolor": "white",
            "ticks": ""
           },
           "bgcolor": "#E5ECF6",
           "radialaxis": {
            "gridcolor": "white",
            "linecolor": "white",
            "ticks": ""
           }
          },
          "scene": {
           "xaxis": {
            "backgroundcolor": "#E5ECF6",
            "gridcolor": "white",
            "gridwidth": 2,
            "linecolor": "white",
            "showbackground": true,
            "ticks": "",
            "zerolinecolor": "white"
           },
           "yaxis": {
            "backgroundcolor": "#E5ECF6",
            "gridcolor": "white",
            "gridwidth": 2,
            "linecolor": "white",
            "showbackground": true,
            "ticks": "",
            "zerolinecolor": "white"
           },
           "zaxis": {
            "backgroundcolor": "#E5ECF6",
            "gridcolor": "white",
            "gridwidth": 2,
            "linecolor": "white",
            "showbackground": true,
            "ticks": "",
            "zerolinecolor": "white"
           }
          },
          "shapedefaults": {
           "line": {
            "color": "#2a3f5f"
           }
          },
          "ternary": {
           "aaxis": {
            "gridcolor": "white",
            "linecolor": "white",
            "ticks": ""
           },
           "baxis": {
            "gridcolor": "white",
            "linecolor": "white",
            "ticks": ""
           },
           "bgcolor": "#E5ECF6",
           "caxis": {
            "gridcolor": "white",
            "linecolor": "white",
            "ticks": ""
           }
          },
          "title": {
           "x": 0.05
          },
          "xaxis": {
           "automargin": true,
           "gridcolor": "white",
           "linecolor": "white",
           "ticks": "",
           "title": {
            "standoff": 15
           },
           "zerolinecolor": "white",
           "zerolinewidth": 2
          },
          "yaxis": {
           "automargin": true,
           "gridcolor": "white",
           "linecolor": "white",
           "ticks": "",
           "title": {
            "standoff": 15
           },
           "zerolinecolor": "white",
           "zerolinewidth": 2
          }
         }
        },
        "title": {
         "text": "Parallel Categories Analysis"
        }
       }
      },
      "image/png": "[encoded data removed]",
      "text/html": [
       "<div>                            <div id=\"2ddca271-9471-45dd-bf8c-d1ac37f13960\" class=\"plotly-graph-div\" style=\"height:525px; width:100%;\"></div>            <script type=\"text/javascript\">                require([\"plotly\"], function(Plotly) {                    window.PLOTLYENV=window.PLOTLYENV || {};                                    if (document.getElementById(\"2ddca271-9471-45dd-bf8c-d1ac37f13960\")) {                    Plotly.newPlot(                        \"2ddca271-9471-45dd-bf8c-d1ac37f13960\",                        [{\"dimensions\": [{\"label\": \"neighborhood\", \"values\": [\"Union Square District\", \"Merced Heights\", \"Miraloma Park\", \"Pacific Heights\", \"Westwood Park\", \"Telegraph Hill\", \"Presidio Heights\", \"Cow Hollow\", \"Potrero Hill\", \"South Beach\"]}, {\"label\": \"sale_price_sqr_foot\", \"values\": [903.9932576720645, 788.8448175872469, 779.810842264425, 689.5558168113664, 687.0875745178323, 676.5065775293257, 675.3502120510033, 665.964041578323, 662.0136128276529, 650.1244791945729]}, {\"label\": \"housing_units\", \"values\": [377427.5, 380348.0, 375967.25, 378401.0, 382295.0, 378401.0, 378401.0, 378401.0, 378401.0, 375805.0]}, {\"label\": \"gross_rent\", \"values\": [2555.1666666666665, 3414.0, 2155.25, 2817.285714285714, 3959.0, 2817.285714285714, 2817.285714285714, 2817.285714285714, 2817.285714285714, 2099.0]}], \"domain\": {\"x\": [0.0, 1.0], \"y\": [0.0, 1.0]}, \"line\": {\"color\": [903.9932576720645, 788.8448175872469, 779.810842264425, 689.5558168113664, 687.0875745178323, 676.5065775293257, 675.3502120510033, 665.964041578323, 662.0136128276529, 650.1244791945729], \"coloraxis\": \"coloraxis\"}, \"name\": \"\", \"type\": \"parcats\"}],                        {\"coloraxis\": {\"colorbar\": {\"title\": {\"text\": \"sale_price_sqr_foot\"}}, \"colorscale\": [[0.0, \"#0d0887\"], [0.1111111111111111, \"#46039f\"], [0.2222222222222222, \"#7201a8\"], [0.3333333333333333, \"#9c179e\"], [0.4444444444444444, \"#bd3786\"], [0.5555555555555556, \"#d8576b\"], [0.6666666666666666, \"#ed7953\"], [0.7777777777777778, \"#fb9f3a\"], [0.8888888888888888, \"#fdca26\"], [1.0, \"#f0f921\"]]}, \"legend\": {\"tracegroupgap\": 0}, \"template\": {\"data\": {\"bar\": [{\"error_x\": {\"color\": \"#2a3f5f\"}, \"error_y\": {\"color\": \"#2a3f5f\"}, \"marker\": {\"line\": {\"color\": \"#E5ECF6\", \"width\": 0.5}}, \"type\": \"bar\"}], \"barpolar\": [{\"marker\": {\"line\": {\"color\": \"#E5ECF6\", \"width\": 0.5}}, \"type\": \"barpolar\"}], \"carpet\": [{\"aaxis\": {\"endlinecolor\": \"#2a3f5f\", \"gridcolor\": \"white\", \"linecolor\": \"white\", \"minorgridcolor\": \"white\", \"startlinecolor\": \"#2a3f5f\"}, \"baxis\": {\"endlinecolor\": \"#2a3f5f\", \"gridcolor\": \"white\", \"linecolor\": \"white\", \"minorgridcolor\": \"white\", \"startlinecolor\": \"#2a3f5f\"}, \"type\": \"carpet\"}], \"choropleth\": [{\"colorbar\": {\"outlinewidth\": 0, \"ticks\": \"\"}, \"type\": \"choropleth\"}], \"contour\": [{\"colorbar\": {\"outlinewidth\": 0, \"ticks\": \"\"}, \"colorscale\": [[0.0, \"#0d0887\"], [0.1111111111111111, \"#46039f\"], [0.2222222222222222, \"#7201a8\"], [0.3333333333333333, \"#9c179e\"], [0.4444444444444444, \"#bd3786\"], [0.5555555555555556, \"#d8576b\"], [0.6666666666666666, \"#ed7953\"], [0.7777777777777778, \"#fb9f3a\"], [0.8888888888888888, \"#fdca26\"], [1.0, \"#f0f921\"]], \"type\": \"contour\"}], \"contourcarpet\": [{\"colorbar\": {\"outlinewidth\": 0, \"ticks\": \"\"}, \"type\": \"contourcarpet\"}], \"heatmap\": [{\"colorbar\": {\"outlinewidth\": 0, \"ticks\": \"\"}, \"colorscale\": [[0.0, \"#0d0887\"], [0.1111111111111111, \"#46039f\"], [0.2222222222222222, \"#7201a8\"], [0.3333333333333333, \"#9c179e\"], [0.4444444444444444, \"#bd3786\"], [0.5555555555555556, \"#d8576b\"], [0.6666666666666666, \"#ed7953\"], [0.7777777777777778, \"#fb9f3a\"], [0.8888888888888888, \"#fdca26\"], [1.0, \"#f0f921\"]], \"type\": \"heatmap\"}], \"heatmapgl\": [{\"colorbar\": {\"outlinewidth\": 0, \"ticks\": \"\"}, \"colorscale\": [[0.0, \"#0d0887\"], [0.1111111111111111, \"#46039f\"], [0.2222222222222222, \"#7201a8\"], [0.3333333333333333, \"#9c179e\"], [0.4444444444444444, \"#bd3786\"], [0.5555555555555556, \"#d8576b\"], [0.6666666666666666, \"#ed7953\"], [0.7777777777777778, \"#fb9f3a\"], [0.8888888888888888, \"#fdca26\"], [1.0, \"#f0f921\"]], \"type\": \"heatmapgl\"}], \"histogram\": [{\"marker\": {\"colorbar\": {\"outlinewidth\": 0, \"ticks\": \"\"}}, \"type\": \"histogram\"}], \"histogram2d\": [{\"colorbar\": {\"outlinewidth\": 0, \"ticks\": \"\"}, \"colorscale\": [[0.0, \"#0d0887\"], [0.1111111111111111, \"#46039f\"], [0.2222222222222222, \"#7201a8\"], [0.3333333333333333, \"#9c179e\"], [0.4444444444444444, \"#bd3786\"], [0.5555555555555556, \"#d8576b\"], [0.6666666666666666, \"#ed7953\"], [0.7777777777777778, \"#fb9f3a\"], [0.8888888888888888, \"#fdca26\"], [1.0, \"#f0f921\"]], \"type\": \"histogram2d\"}], \"histogram2dcontour\": [{\"colorbar\": {\"outlinewidth\": 0, \"ticks\": \"\"}, \"colorscale\": [[0.0, \"#0d0887\"], [0.1111111111111111, \"#46039f\"], [0.2222222222222222, \"#7201a8\"], [0.3333333333333333, \"#9c179e\"], [0.4444444444444444, \"#bd3786\"], [0.5555555555555556, \"#d8576b\"], [0.6666666666666666, \"#ed7953\"], [0.7777777777777778, \"#fb9f3a\"], [0.8888888888888888, \"#fdca26\"], [1.0, \"#f0f921\"]], \"type\": \"histogram2dcontour\"}], \"mesh3d\": [{\"colorbar\": {\"outlinewidth\": 0, \"ticks\": \"\"}, \"type\": \"mesh3d\"}], \"parcoords\": [{\"line\": {\"colorbar\": {\"outlinewidth\": 0, \"ticks\": \"\"}}, \"type\": \"parcoords\"}], \"pie\": [{\"automargin\": true, \"type\": \"pie\"}], \"scatter\": [{\"marker\": {\"colorbar\": {\"outlinewidth\": 0, \"ticks\": \"\"}}, \"type\": \"scatter\"}], \"scatter3d\": [{\"line\": {\"colorbar\": {\"outlinewidth\": 0, \"ticks\": \"\"}}, \"marker\": {\"colorbar\": {\"outlinewidth\": 0, \"ticks\": \"\"}}, \"type\": \"scatter3d\"}], \"scattercarpet\": [{\"marker\": {\"colorbar\": {\"outlinewidth\": 0, \"ticks\": \"\"}}, \"type\": \"scattercarpet\"}], \"scattergeo\": [{\"marker\": {\"colorbar\": {\"outlinewidth\": 0, \"ticks\": \"\"}}, \"type\": \"scattergeo\"}], \"scattergl\": [{\"marker\": {\"colorbar\": {\"outlinewidth\": 0, \"ticks\": \"\"}}, \"type\": \"scattergl\"}], \"scattermapbox\": [{\"marker\": {\"colorbar\": {\"outlinewidth\": 0, \"ticks\": \"\"}}, \"type\": \"scattermapbox\"}], \"scatterpolar\": [{\"marker\": {\"colorbar\": {\"outlinewidth\": 0, \"ticks\": \"\"}}, \"type\": \"scatterpolar\"}], \"scatterpolargl\": [{\"marker\": {\"colorbar\": {\"outlinewidth\": 0, \"ticks\": \"\"}}, \"type\": \"scatterpolargl\"}], \"scatterternary\": [{\"marker\": {\"colorbar\": {\"outlinewidth\": 0, \"ticks\": \"\"}}, \"type\": \"scatterternary\"}], \"surface\": [{\"colorbar\": {\"outlinewidth\": 0, \"ticks\": \"\"}, \"colorscale\": [[0.0, \"#0d0887\"], [0.1111111111111111, \"#46039f\"], [0.2222222222222222, \"#7201a8\"], [0.3333333333333333, \"#9c179e\"], [0.4444444444444444, \"#bd3786\"], [0.5555555555555556, \"#d8576b\"], [0.6666666666666666, \"#ed7953\"], [0.7777777777777778, \"#fb9f3a\"], [0.8888888888888888, \"#fdca26\"], [1.0, \"#f0f921\"]], \"type\": \"surface\"}], \"table\": [{\"cells\": {\"fill\": {\"color\": \"#EBF0F8\"}, \"line\": {\"color\": \"white\"}}, \"header\": {\"fill\": {\"color\": \"#C8D4E3\"}, \"line\": {\"color\": \"white\"}}, \"type\": \"table\"}]}, \"layout\": {\"annotationdefaults\": {\"arrowcolor\": \"#2a3f5f\", \"arrowhead\": 0, \"arrowwidth\": 1}, \"autotypenumbers\": \"strict\", \"coloraxis\": {\"colorbar\": {\"outlinewidth\": 0, \"ticks\": \"\"}}, \"colorscale\": {\"diverging\": [[0, \"#8e0152\"], [0.1, \"#c51b7d\"], [0.2, \"#de77ae\"], [0.3, \"#f1b6da\"], [0.4, \"#fde0ef\"], [0.5, \"#f7f7f7\"], [0.6, \"#e6f5d0\"], [0.7, \"#b8e186\"], [0.8, \"#7fbc41\"], [0.9, \"#4d9221\"], [1, \"#276419\"]], \"sequential\": [[0.0, \"#0d0887\"], [0.1111111111111111, \"#46039f\"], [0.2222222222222222, \"#7201a8\"], [0.3333333333333333, \"#9c179e\"], [0.4444444444444444, \"#bd3786\"], [0.5555555555555556, \"#d8576b\"], [0.6666666666666666, \"#ed7953\"], [0.7777777777777778, \"#fb9f3a\"], [0.8888888888888888, \"#fdca26\"], [1.0, \"#f0f921\"]], \"sequentialminus\": [[0.0, \"#0d0887\"], [0.1111111111111111, \"#46039f\"], [0.2222222222222222, \"#7201a8\"], [0.3333333333333333, \"#9c179e\"], [0.4444444444444444, \"#bd3786\"], [0.5555555555555556, \"#d8576b\"], [0.6666666666666666, \"#ed7953\"], [0.7777777777777778, \"#fb9f3a\"], [0.8888888888888888, \"#fdca26\"], [1.0, \"#f0f921\"]]}, \"colorway\": [\"#636efa\", \"#EF553B\", \"#00cc96\", \"#ab63fa\", \"#FFA15A\", \"#19d3f3\", \"#FF6692\", \"#B6E880\", \"#FF97FF\", \"#FECB52\"], \"font\": {\"color\": \"#2a3f5f\"}, \"geo\": {\"bgcolor\": \"white\", \"lakecolor\": \"white\", \"landcolor\": \"#E5ECF6\", \"showlakes\": true, \"showland\": true, \"subunitcolor\": \"white\"}, \"hoverlabel\": {\"align\": \"left\"}, \"hovermode\": \"closest\", \"mapbox\": {\"style\": \"light\"}, \"paper_bgcolor\": \"white\", \"plot_bgcolor\": \"#E5ECF6\", \"polar\": {\"angularaxis\": {\"gridcolor\": \"white\", \"linecolor\": \"white\", \"ticks\": \"\"}, \"bgcolor\": \"#E5ECF6\", \"radialaxis\": {\"gridcolor\": \"white\", \"linecolor\": \"white\", \"ticks\": \"\"}}, \"scene\": {\"xaxis\": {\"backgroundcolor\": \"#E5ECF6\", \"gridcolor\": \"white\", \"gridwidth\": 2, \"linecolor\": \"white\", \"showbackground\": true, \"ticks\": \"\", \"zerolinecolor\": \"white\"}, \"yaxis\": {\"backgroundcolor\": \"#E5ECF6\", \"gridcolor\": \"white\", \"gridwidth\": 2, \"linecolor\": \"white\", \"showbackground\": true, \"ticks\": \"\", \"zerolinecolor\": \"white\"}, \"zaxis\": {\"backgroundcolor\": \"#E5ECF6\", \"gridcolor\": \"white\", \"gridwidth\": 2, \"linecolor\": \"white\", \"showbackground\": true, \"ticks\": \"\", \"zerolinecolor\": \"white\"}}, \"shapedefaults\": {\"line\": {\"color\": \"#2a3f5f\"}}, \"ternary\": {\"aaxis\": {\"gridcolor\": \"white\", \"linecolor\": \"white\", \"ticks\": \"\"}, \"baxis\": {\"gridcolor\": \"white\", \"linecolor\": \"white\", \"ticks\": \"\"}, \"bgcolor\": \"#E5ECF6\", \"caxis\": {\"gridcolor\": \"white\", \"linecolor\": \"white\", \"ticks\": \"\"}}, \"title\": {\"x\": 0.05}, \"xaxis\": {\"automargin\": true, \"gridcolor\": \"white\", \"linecolor\": \"white\", \"ticks\": \"\", \"title\": {\"standoff\": 15}, \"zerolinecolor\": \"white\", \"zerolinewidth\": 2}, \"yaxis\": {\"automargin\": true, \"gridcolor\": \"white\", \"linecolor\": \"white\", \"ticks\": \"\", \"title\": {\"standoff\": 15}, \"zerolinecolor\": \"white\", \"zerolinewidth\": 2}}}, \"title\": {\"text\": \"Parallel Categories Analysis\"}},                        {\"responsive\": true}                    ).then(function(){\n",
       "                            \n",
       "var gd = document.getElementById('2ddca271-9471-45dd-bf8c-d1ac37f13960');\n",
       "var x = new MutationObserver(function (mutations, observer) {{\n",
       "        var display = window.getComputedStyle(gd).display;\n",
       "        if (!display || display === 'none') {{\n",
       "            console.log([gd, 'removed!']);\n",
       "            Plotly.purge(gd);\n",
       "            observer.disconnect();\n",
       "        }}\n",
       "}});\n",
       "\n",
       "// Listen for the removal of the full notebook cells\n",
       "var notebookContainer = gd.closest('#notebook-container');\n",
       "if (notebookContainer) {{\n",
       "    x.observe(notebookContainer, {childList: true});\n",
       "}}\n",
       "\n",
       "// Listen for the clearing of the current output cell\n",
       "var outputEl = gd.closest('.output');\n",
       "if (outputEl) {{\n",
       "    x.observe(outputEl, {childList: true});\n",
       "}}\n",
       "\n",
       "                        })                };                });            </script>        </div>"
      ]
     },
     "metadata": {},
     "output_type": "display_data"
    }
   ],
   "source": [
    "parallel_categories()"
   ]
  },
  {
   "cell_type": "code",
   "execution_count": 145,
   "metadata": {},
   "outputs": [
    {
     "data": {
      "application/vnd.plotly.v1+json": {
       "config": {
        "plotlyServerURL": "https://plot.ly"
       },
       "data": [
        {
         "dimensions": [
          {
           "label": "sale_price_sqr_foot",
           "values": [
            903.9932576720645,
            788.8448175872469,
            779.810842264425,
            689.5558168113664,
            687.0875745178323,
            676.5065775293257,
            675.3502120510033,
            665.964041578323,
            662.0136128276529,
            650.1244791945729
           ]
          },
          {
           "label": "housing_units",
           "values": [
            377427.5,
            380348,
            375967.25,
            378401,
            382295,
            378401,
            378401,
            378401,
            378401,
            375805
           ]
          },
          {
           "label": "gross_rent",
           "values": [
            2555.1666666666665,
            3414,
            2155.25,
            2817.285714285714,
            3959,
            2817.285714285714,
            2817.285714285714,
            2817.285714285714,
            2817.285714285714,
            2099
           ]
          }
         ],
         "domain": {
          "x": [
           0,
           1
          ],
          "y": [
           0,
           1
          ]
         },
         "line": {
          "color": [
           903.9932576720645,
           788.8448175872469,
           779.810842264425,
           689.5558168113664,
           687.0875745178323,
           676.5065775293257,
           675.3502120510033,
           665.964041578323,
           662.0136128276529,
           650.1244791945729
          ],
          "coloraxis": "coloraxis"
         },
         "name": "",
         "type": "parcoords"
        }
       ],
       "layout": {
        "autosize": true,
        "coloraxis": {
         "colorbar": {
          "title": {
           "text": "sale_price_sqr_foot"
          }
         },
         "colorscale": [
          [
           0,
           "#0d0887"
          ],
          [
           0.1111111111111111,
           "#46039f"
          ],
          [
           0.2222222222222222,
           "#7201a8"
          ],
          [
           0.3333333333333333,
           "#9c179e"
          ],
          [
           0.4444444444444444,
           "#bd3786"
          ],
          [
           0.5555555555555556,
           "#d8576b"
          ],
          [
           0.6666666666666666,
           "#ed7953"
          ],
          [
           0.7777777777777778,
           "#fb9f3a"
          ],
          [
           0.8888888888888888,
           "#fdca26"
          ],
          [
           1,
           "#f0f921"
          ]
         ]
        },
        "legend": {
         "tracegroupgap": 0
        },
        "template": {
         "data": {
          "bar": [
           {
            "error_x": {
             "color": "#2a3f5f"
            },
            "error_y": {
             "color": "#2a3f5f"
            },
            "marker": {
             "line": {
              "color": "#E5ECF6",
              "width": 0.5
             }
            },
            "type": "bar"
           }
          ],
          "barpolar": [
           {
            "marker": {
             "line": {
              "color": "#E5ECF6",
              "width": 0.5
             }
            },
            "type": "barpolar"
           }
          ],
          "carpet": [
           {
            "aaxis": {
             "endlinecolor": "#2a3f5f",
             "gridcolor": "white",
             "linecolor": "white",
             "minorgridcolor": "white",
             "startlinecolor": "#2a3f5f"
            },
            "baxis": {
             "endlinecolor": "#2a3f5f",
             "gridcolor": "white",
             "linecolor": "white",
             "minorgridcolor": "white",
             "startlinecolor": "#2a3f5f"
            },
            "type": "carpet"
           }
          ],
          "choropleth": [
           {
            "colorbar": {
             "outlinewidth": 0,
             "ticks": ""
            },
            "type": "choropleth"
           }
          ],
          "contour": [
           {
            "colorbar": {
             "outlinewidth": 0,
             "ticks": ""
            },
            "colorscale": [
             [
              0,
              "#0d0887"
             ],
             [
              0.1111111111111111,
              "#46039f"
             ],
             [
              0.2222222222222222,
              "#7201a8"
             ],
             [
              0.3333333333333333,
              "#9c179e"
             ],
             [
              0.4444444444444444,
              "#bd3786"
             ],
             [
              0.5555555555555556,
              "#d8576b"
             ],
             [
              0.6666666666666666,
              "#ed7953"
             ],
             [
              0.7777777777777778,
              "#fb9f3a"
             ],
             [
              0.8888888888888888,
              "#fdca26"
             ],
             [
              1,
              "#f0f921"
             ]
            ],
            "type": "contour"
           }
          ],
          "contourcarpet": [
           {
            "colorbar": {
             "outlinewidth": 0,
             "ticks": ""
            },
            "type": "contourcarpet"
           }
          ],
          "heatmap": [
           {
            "colorbar": {
             "outlinewidth": 0,
             "ticks": ""
            },
            "colorscale": [
             [
              0,
              "#0d0887"
             ],
             [
              0.1111111111111111,
              "#46039f"
             ],
             [
              0.2222222222222222,
              "#7201a8"
             ],
             [
              0.3333333333333333,
              "#9c179e"
             ],
             [
              0.4444444444444444,
              "#bd3786"
             ],
             [
              0.5555555555555556,
              "#d8576b"
             ],
             [
              0.6666666666666666,
              "#ed7953"
             ],
             [
              0.7777777777777778,
              "#fb9f3a"
             ],
             [
              0.8888888888888888,
              "#fdca26"
             ],
             [
              1,
              "#f0f921"
             ]
            ],
            "type": "heatmap"
           }
          ],
          "heatmapgl": [
           {
            "colorbar": {
             "outlinewidth": 0,
             "ticks": ""
            },
            "colorscale": [
             [
              0,
              "#0d0887"
             ],
             [
              0.1111111111111111,
              "#46039f"
             ],
             [
              0.2222222222222222,
              "#7201a8"
             ],
             [
              0.3333333333333333,
              "#9c179e"
             ],
             [
              0.4444444444444444,
              "#bd3786"
             ],
             [
              0.5555555555555556,
              "#d8576b"
             ],
             [
              0.6666666666666666,
              "#ed7953"
             ],
             [
              0.7777777777777778,
              "#fb9f3a"
             ],
             [
              0.8888888888888888,
              "#fdca26"
             ],
             [
              1,
              "#f0f921"
             ]
            ],
            "type": "heatmapgl"
           }
          ],
          "histogram": [
           {
            "marker": {
             "colorbar": {
              "outlinewidth": 0,
              "ticks": ""
             }
            },
            "type": "histogram"
           }
          ],
          "histogram2d": [
           {
            "colorbar": {
             "outlinewidth": 0,
             "ticks": ""
            },
            "colorscale": [
             [
              0,
              "#0d0887"
             ],
             [
              0.1111111111111111,
              "#46039f"
             ],
             [
              0.2222222222222222,
              "#7201a8"
             ],
             [
              0.3333333333333333,
              "#9c179e"
             ],
             [
              0.4444444444444444,
              "#bd3786"
             ],
             [
              0.5555555555555556,
              "#d8576b"
             ],
             [
              0.6666666666666666,
              "#ed7953"
             ],
             [
              0.7777777777777778,
              "#fb9f3a"
             ],
             [
              0.8888888888888888,
              "#fdca26"
             ],
             [
              1,
              "#f0f921"
             ]
            ],
            "type": "histogram2d"
           }
          ],
          "histogram2dcontour": [
           {
            "colorbar": {
             "outlinewidth": 0,
             "ticks": ""
            },
            "colorscale": [
             [
              0,
              "#0d0887"
             ],
             [
              0.1111111111111111,
              "#46039f"
             ],
             [
              0.2222222222222222,
              "#7201a8"
             ],
             [
              0.3333333333333333,
              "#9c179e"
             ],
             [
              0.4444444444444444,
              "#bd3786"
             ],
             [
              0.5555555555555556,
              "#d8576b"
             ],
             [
              0.6666666666666666,
              "#ed7953"
             ],
             [
              0.7777777777777778,
              "#fb9f3a"
             ],
             [
              0.8888888888888888,
              "#fdca26"
             ],
             [
              1,
              "#f0f921"
             ]
            ],
            "type": "histogram2dcontour"
           }
          ],
          "mesh3d": [
           {
            "colorbar": {
             "outlinewidth": 0,
             "ticks": ""
            },
            "type": "mesh3d"
           }
          ],
          "parcoords": [
           {
            "line": {
             "colorbar": {
              "outlinewidth": 0,
              "ticks": ""
             }
            },
            "type": "parcoords"
           }
          ],
          "pie": [
           {
            "automargin": true,
            "type": "pie"
           }
          ],
          "scatter": [
           {
            "marker": {
             "colorbar": {
              "outlinewidth": 0,
              "ticks": ""
             }
            },
            "type": "scatter"
           }
          ],
          "scatter3d": [
           {
            "line": {
             "colorbar": {
              "outlinewidth": 0,
              "ticks": ""
             }
            },
            "marker": {
             "colorbar": {
              "outlinewidth": 0,
              "ticks": ""
             }
            },
            "type": "scatter3d"
           }
          ],
          "scattercarpet": [
           {
            "marker": {
             "colorbar": {
              "outlinewidth": 0,
              "ticks": ""
             }
            },
            "type": "scattercarpet"
           }
          ],
          "scattergeo": [
           {
            "marker": {
             "colorbar": {
              "outlinewidth": 0,
              "ticks": ""
             }
            },
            "type": "scattergeo"
           }
          ],
          "scattergl": [
           {
            "marker": {
             "colorbar": {
              "outlinewidth": 0,
              "ticks": ""
             }
            },
            "type": "scattergl"
           }
          ],
          "scattermapbox": [
           {
            "marker": {
             "colorbar": {
              "outlinewidth": 0,
              "ticks": ""
             }
            },
            "type": "scattermapbox"
           }
          ],
          "scatterpolar": [
           {
            "marker": {
             "colorbar": {
              "outlinewidth": 0,
              "ticks": ""
             }
            },
            "type": "scatterpolar"
           }
          ],
          "scatterpolargl": [
           {
            "marker": {
             "colorbar": {
              "outlinewidth": 0,
              "ticks": ""
             }
            },
            "type": "scatterpolargl"
           }
          ],
          "scatterternary": [
           {
            "marker": {
             "colorbar": {
              "outlinewidth": 0,
              "ticks": ""
             }
            },
            "type": "scatterternary"
           }
          ],
          "surface": [
           {
            "colorbar": {
             "outlinewidth": 0,
             "ticks": ""
            },
            "colorscale": [
             [
              0,
              "#0d0887"
             ],
             [
              0.1111111111111111,
              "#46039f"
             ],
             [
              0.2222222222222222,
              "#7201a8"
             ],
             [
              0.3333333333333333,
              "#9c179e"
             ],
             [
              0.4444444444444444,
              "#bd3786"
             ],
             [
              0.5555555555555556,
              "#d8576b"
             ],
             [
              0.6666666666666666,
              "#ed7953"
             ],
             [
              0.7777777777777778,
              "#fb9f3a"
             ],
             [
              0.8888888888888888,
              "#fdca26"
             ],
             [
              1,
              "#f0f921"
             ]
            ],
            "type": "surface"
           }
          ],
          "table": [
           {
            "cells": {
             "fill": {
              "color": "#EBF0F8"
             },
             "line": {
              "color": "white"
             }
            },
            "header": {
             "fill": {
              "color": "#C8D4E3"
             },
             "line": {
              "color": "white"
             }
            },
            "type": "table"
           }
          ]
         },
         "layout": {
          "annotationdefaults": {
           "arrowcolor": "#2a3f5f",
           "arrowhead": 0,
           "arrowwidth": 1
          },
          "autotypenumbers": "strict",
          "coloraxis": {
           "colorbar": {
            "outlinewidth": 0,
            "ticks": ""
           }
          },
          "colorscale": {
           "diverging": [
            [
             0,
             "#8e0152"
            ],
            [
             0.1,
             "#c51b7d"
            ],
            [
             0.2,
             "#de77ae"
            ],
            [
             0.3,
             "#f1b6da"
            ],
            [
             0.4,
             "#fde0ef"
            ],
            [
             0.5,
             "#f7f7f7"
            ],
            [
             0.6,
             "#e6f5d0"
            ],
            [
             0.7,
             "#b8e186"
            ],
            [
             0.8,
             "#7fbc41"
            ],
            [
             0.9,
             "#4d9221"
            ],
            [
             1,
             "#276419"
            ]
           ],
           "sequential": [
            [
             0,
             "#0d0887"
            ],
            [
             0.1111111111111111,
             "#46039f"
            ],
            [
             0.2222222222222222,
             "#7201a8"
            ],
            [
             0.3333333333333333,
             "#9c179e"
            ],
            [
             0.4444444444444444,
             "#bd3786"
            ],
            [
             0.5555555555555556,
             "#d8576b"
            ],
            [
             0.6666666666666666,
             "#ed7953"
            ],
            [
             0.7777777777777778,
             "#fb9f3a"
            ],
            [
             0.8888888888888888,
             "#fdca26"
            ],
            [
             1,
             "#f0f921"
            ]
           ],
           "sequentialminus": [
            [
             0,
             "#0d0887"
            ],
            [
             0.1111111111111111,
             "#46039f"
            ],
            [
             0.2222222222222222,
             "#7201a8"
            ],
            [
             0.3333333333333333,
             "#9c179e"
            ],
            [
             0.4444444444444444,
             "#bd3786"
            ],
            [
             0.5555555555555556,
             "#d8576b"
            ],
            [
             0.6666666666666666,
             "#ed7953"
            ],
            [
             0.7777777777777778,
             "#fb9f3a"
            ],
            [
             0.8888888888888888,
             "#fdca26"
            ],
            [
             1,
             "#f0f921"
            ]
           ]
          },
          "colorway": [
           "#636efa",
           "#EF553B",
           "#00cc96",
           "#ab63fa",
           "#FFA15A",
           "#19d3f3",
           "#FF6692",
           "#B6E880",
           "#FF97FF",
           "#FECB52"
          ],
          "font": {
           "color": "#2a3f5f"
          },
          "geo": {
           "bgcolor": "white",
           "lakecolor": "white",
           "landcolor": "#E5ECF6",
           "showlakes": true,
           "showland": true,
           "subunitcolor": "white"
          },
          "hoverlabel": {
           "align": "left"
          },
          "hovermode": "closest",
          "mapbox": {
           "style": "light"
          },
          "paper_bgcolor": "white",
          "plot_bgcolor": "#E5ECF6",
          "polar": {
           "angularaxis": {
            "gridcolor": "white",
            "linecolor": "white",
            "ticks": ""
           },
           "bgcolor": "#E5ECF6",
           "radialaxis": {
            "gridcolor": "white",
            "linecolor": "white",
            "ticks": ""
           }
          },
          "scene": {
           "xaxis": {
            "backgroundcolor": "#E5ECF6",
            "gridcolor": "white",
            "gridwidth": 2,
            "linecolor": "white",
            "showbackground": true,
            "ticks": "",
            "zerolinecolor": "white"
           },
           "yaxis": {
            "backgroundcolor": "#E5ECF6",
            "gridcolor": "white",
            "gridwidth": 2,
            "linecolor": "white",
            "showbackground": true,
            "ticks": "",
            "zerolinecolor": "white"
           },
           "zaxis": {
            "backgroundcolor": "#E5ECF6",
            "gridcolor": "white",
            "gridwidth": 2,
            "linecolor": "white",
            "showbackground": true,
            "ticks": "",
            "zerolinecolor": "white"
           }
          },
          "shapedefaults": {
           "line": {
            "color": "#2a3f5f"
           }
          },
          "ternary": {
           "aaxis": {
            "gridcolor": "white",
            "linecolor": "white",
            "ticks": ""
           },
           "baxis": {
            "gridcolor": "white",
            "linecolor": "white",
            "ticks": ""
           },
           "bgcolor": "#E5ECF6",
           "caxis": {
            "gridcolor": "white",
            "linecolor": "white",
            "ticks": ""
           }
          },
          "title": {
           "x": 0.05
          },
          "xaxis": {
           "automargin": true,
           "gridcolor": "white",
           "linecolor": "white",
           "ticks": "",
           "title": {
            "standoff": 15
           },
           "zerolinecolor": "white",
           "zerolinewidth": 2
          },
          "yaxis": {
           "automargin": true,
           "gridcolor": "white",
           "linecolor": "white",
           "ticks": "",
           "title": {
            "standoff": 15
           },
           "zerolinecolor": "white",
           "zerolinewidth": 2
          }
         }
        },
        "title": {
         "text": "Parallel Coordinates Analysis"
        }
       }
      },
      "image/png": "[encoded data removed]",
      "text/html": [
       "<div>                            <div id=\"d5546410-7b94-48b6-b78a-dd82838fb1f5\" class=\"plotly-graph-div\" style=\"height:525px; width:100%;\"></div>            <script type=\"text/javascript\">                require([\"plotly\"], function(Plotly) {                    window.PLOTLYENV=window.PLOTLYENV || {};                                    if (document.getElementById(\"d5546410-7b94-48b6-b78a-dd82838fb1f5\")) {                    Plotly.newPlot(                        \"d5546410-7b94-48b6-b78a-dd82838fb1f5\",                        [{\"dimensions\": [{\"label\": \"sale_price_sqr_foot\", \"values\": [903.9932576720645, 788.8448175872469, 779.810842264425, 689.5558168113664, 687.0875745178323, 676.5065775293257, 675.3502120510033, 665.964041578323, 662.0136128276529, 650.1244791945729]}, {\"label\": \"housing_units\", \"values\": [377427.5, 380348.0, 375967.25, 378401.0, 382295.0, 378401.0, 378401.0, 378401.0, 378401.0, 375805.0]}, {\"label\": \"gross_rent\", \"values\": [2555.1666666666665, 3414.0, 2155.25, 2817.285714285714, 3959.0, 2817.285714285714, 2817.285714285714, 2817.285714285714, 2817.285714285714, 2099.0]}], \"domain\": {\"x\": [0.0, 1.0], \"y\": [0.0, 1.0]}, \"line\": {\"color\": [903.9932576720645, 788.8448175872469, 779.810842264425, 689.5558168113664, 687.0875745178323, 676.5065775293257, 675.3502120510033, 665.964041578323, 662.0136128276529, 650.1244791945729], \"coloraxis\": \"coloraxis\"}, \"name\": \"\", \"type\": \"parcoords\"}],                        {\"coloraxis\": {\"colorbar\": {\"title\": {\"text\": \"sale_price_sqr_foot\"}}, \"colorscale\": [[0.0, \"#0d0887\"], [0.1111111111111111, \"#46039f\"], [0.2222222222222222, \"#7201a8\"], [0.3333333333333333, \"#9c179e\"], [0.4444444444444444, \"#bd3786\"], [0.5555555555555556, \"#d8576b\"], [0.6666666666666666, \"#ed7953\"], [0.7777777777777778, \"#fb9f3a\"], [0.8888888888888888, \"#fdca26\"], [1.0, \"#f0f921\"]]}, \"legend\": {\"tracegroupgap\": 0}, \"template\": {\"data\": {\"bar\": [{\"error_x\": {\"color\": \"#2a3f5f\"}, \"error_y\": {\"color\": \"#2a3f5f\"}, \"marker\": {\"line\": {\"color\": \"#E5ECF6\", \"width\": 0.5}}, \"type\": \"bar\"}], \"barpolar\": [{\"marker\": {\"line\": {\"color\": \"#E5ECF6\", \"width\": 0.5}}, \"type\": \"barpolar\"}], \"carpet\": [{\"aaxis\": {\"endlinecolor\": \"#2a3f5f\", \"gridcolor\": \"white\", \"linecolor\": \"white\", \"minorgridcolor\": \"white\", \"startlinecolor\": \"#2a3f5f\"}, \"baxis\": {\"endlinecolor\": \"#2a3f5f\", \"gridcolor\": \"white\", \"linecolor\": \"white\", \"minorgridcolor\": \"white\", \"startlinecolor\": \"#2a3f5f\"}, \"type\": \"carpet\"}], \"choropleth\": [{\"colorbar\": {\"outlinewidth\": 0, \"ticks\": \"\"}, \"type\": \"choropleth\"}], \"contour\": [{\"colorbar\": {\"outlinewidth\": 0, \"ticks\": \"\"}, \"colorscale\": [[0.0, \"#0d0887\"], [0.1111111111111111, \"#46039f\"], [0.2222222222222222, \"#7201a8\"], [0.3333333333333333, \"#9c179e\"], [0.4444444444444444, \"#bd3786\"], [0.5555555555555556, \"#d8576b\"], [0.6666666666666666, \"#ed7953\"], [0.7777777777777778, \"#fb9f3a\"], [0.8888888888888888, \"#fdca26\"], [1.0, \"#f0f921\"]], \"type\": \"contour\"}], \"contourcarpet\": [{\"colorbar\": {\"outlinewidth\": 0, \"ticks\": \"\"}, \"type\": \"contourcarpet\"}], \"heatmap\": [{\"colorbar\": {\"outlinewidth\": 0, \"ticks\": \"\"}, \"colorscale\": [[0.0, \"#0d0887\"], [0.1111111111111111, \"#46039f\"], [0.2222222222222222, \"#7201a8\"], [0.3333333333333333, \"#9c179e\"], [0.4444444444444444, \"#bd3786\"], [0.5555555555555556, \"#d8576b\"], [0.6666666666666666, \"#ed7953\"], [0.7777777777777778, \"#fb9f3a\"], [0.8888888888888888, \"#fdca26\"], [1.0, \"#f0f921\"]], \"type\": \"heatmap\"}], \"heatmapgl\": [{\"colorbar\": {\"outlinewidth\": 0, \"ticks\": \"\"}, \"colorscale\": [[0.0, \"#0d0887\"], [0.1111111111111111, \"#46039f\"], [0.2222222222222222, \"#7201a8\"], [0.3333333333333333, \"#9c179e\"], [0.4444444444444444, \"#bd3786\"], [0.5555555555555556, \"#d8576b\"], [0.6666666666666666, \"#ed7953\"], [0.7777777777777778, \"#fb9f3a\"], [0.8888888888888888, \"#fdca26\"], [1.0, \"#f0f921\"]], \"type\": \"heatmapgl\"}], \"histogram\": [{\"marker\": {\"colorbar\": {\"outlinewidth\": 0, \"ticks\": \"\"}}, \"type\": \"histogram\"}], \"histogram2d\": [{\"colorbar\": {\"outlinewidth\": 0, \"ticks\": \"\"}, \"colorscale\": [[0.0, \"#0d0887\"], [0.1111111111111111, \"#46039f\"], [0.2222222222222222, \"#7201a8\"], [0.3333333333333333, \"#9c179e\"], [0.4444444444444444, \"#bd3786\"], [0.5555555555555556, \"#d8576b\"], [0.6666666666666666, \"#ed7953\"], [0.7777777777777778, \"#fb9f3a\"], [0.8888888888888888, \"#fdca26\"], [1.0, \"#f0f921\"]], \"type\": \"histogram2d\"}], \"histogram2dcontour\": [{\"colorbar\": {\"outlinewidth\": 0, \"ticks\": \"\"}, \"colorscale\": [[0.0, \"#0d0887\"], [0.1111111111111111, \"#46039f\"], [0.2222222222222222, \"#7201a8\"], [0.3333333333333333, \"#9c179e\"], [0.4444444444444444, \"#bd3786\"], [0.5555555555555556, \"#d8576b\"], [0.6666666666666666, \"#ed7953\"], [0.7777777777777778, \"#fb9f3a\"], [0.8888888888888888, \"#fdca26\"], [1.0, \"#f0f921\"]], \"type\": \"histogram2dcontour\"}], \"mesh3d\": [{\"colorbar\": {\"outlinewidth\": 0, \"ticks\": \"\"}, \"type\": \"mesh3d\"}], \"parcoords\": [{\"line\": {\"colorbar\": {\"outlinewidth\": 0, \"ticks\": \"\"}}, \"type\": \"parcoords\"}], \"pie\": [{\"automargin\": true, \"type\": \"pie\"}], \"scatter\": [{\"marker\": {\"colorbar\": {\"outlinewidth\": 0, \"ticks\": \"\"}}, \"type\": \"scatter\"}], \"scatter3d\": [{\"line\": {\"colorbar\": {\"outlinewidth\": 0, \"ticks\": \"\"}}, \"marker\": {\"colorbar\": {\"outlinewidth\": 0, \"ticks\": \"\"}}, \"type\": \"scatter3d\"}], \"scattercarpet\": [{\"marker\": {\"colorbar\": {\"outlinewidth\": 0, \"ticks\": \"\"}}, \"type\": \"scattercarpet\"}], \"scattergeo\": [{\"marker\": {\"colorbar\": {\"outlinewidth\": 0, \"ticks\": \"\"}}, \"type\": \"scattergeo\"}], \"scattergl\": [{\"marker\": {\"colorbar\": {\"outlinewidth\": 0, \"ticks\": \"\"}}, \"type\": \"scattergl\"}], \"scattermapbox\": [{\"marker\": {\"colorbar\": {\"outlinewidth\": 0, \"ticks\": \"\"}}, \"type\": \"scattermapbox\"}], \"scatterpolar\": [{\"marker\": {\"colorbar\": {\"outlinewidth\": 0, \"ticks\": \"\"}}, \"type\": \"scatterpolar\"}], \"scatterpolargl\": [{\"marker\": {\"colorbar\": {\"outlinewidth\": 0, \"ticks\": \"\"}}, \"type\": \"scatterpolargl\"}], \"scatterternary\": [{\"marker\": {\"colorbar\": {\"outlinewidth\": 0, \"ticks\": \"\"}}, \"type\": \"scatterternary\"}], \"surface\": [{\"colorbar\": {\"outlinewidth\": 0, \"ticks\": \"\"}, \"colorscale\": [[0.0, \"#0d0887\"], [0.1111111111111111, \"#46039f\"], [0.2222222222222222, \"#7201a8\"], [0.3333333333333333, \"#9c179e\"], [0.4444444444444444, \"#bd3786\"], [0.5555555555555556, \"#d8576b\"], [0.6666666666666666, \"#ed7953\"], [0.7777777777777778, \"#fb9f3a\"], [0.8888888888888888, \"#fdca26\"], [1.0, \"#f0f921\"]], \"type\": \"surface\"}], \"table\": [{\"cells\": {\"fill\": {\"color\": \"#EBF0F8\"}, \"line\": {\"color\": \"white\"}}, \"header\": {\"fill\": {\"color\": \"#C8D4E3\"}, \"line\": {\"color\": \"white\"}}, \"type\": \"table\"}]}, \"layout\": {\"annotationdefaults\": {\"arrowcolor\": \"#2a3f5f\", \"arrowhead\": 0, \"arrowwidth\": 1}, \"autotypenumbers\": \"strict\", \"coloraxis\": {\"colorbar\": {\"outlinewidth\": 0, \"ticks\": \"\"}}, \"colorscale\": {\"diverging\": [[0, \"#8e0152\"], [0.1, \"#c51b7d\"], [0.2, \"#de77ae\"], [0.3, \"#f1b6da\"], [0.4, \"#fde0ef\"], [0.5, \"#f7f7f7\"], [0.6, \"#e6f5d0\"], [0.7, \"#b8e186\"], [0.8, \"#7fbc41\"], [0.9, \"#4d9221\"], [1, \"#276419\"]], \"sequential\": [[0.0, \"#0d0887\"], [0.1111111111111111, \"#46039f\"], [0.2222222222222222, \"#7201a8\"], [0.3333333333333333, \"#9c179e\"], [0.4444444444444444, \"#bd3786\"], [0.5555555555555556, \"#d8576b\"], [0.6666666666666666, \"#ed7953\"], [0.7777777777777778, \"#fb9f3a\"], [0.8888888888888888, \"#fdca26\"], [1.0, \"#f0f921\"]], \"sequentialminus\": [[0.0, \"#0d0887\"], [0.1111111111111111, \"#46039f\"], [0.2222222222222222, \"#7201a8\"], [0.3333333333333333, \"#9c179e\"], [0.4444444444444444, \"#bd3786\"], [0.5555555555555556, \"#d8576b\"], [0.6666666666666666, \"#ed7953\"], [0.7777777777777778, \"#fb9f3a\"], [0.8888888888888888, \"#fdca26\"], [1.0, \"#f0f921\"]]}, \"colorway\": [\"#636efa\", \"#EF553B\", \"#00cc96\", \"#ab63fa\", \"#FFA15A\", \"#19d3f3\", \"#FF6692\", \"#B6E880\", \"#FF97FF\", \"#FECB52\"], \"font\": {\"color\": \"#2a3f5f\"}, \"geo\": {\"bgcolor\": \"white\", \"lakecolor\": \"white\", \"landcolor\": \"#E5ECF6\", \"showlakes\": true, \"showland\": true, \"subunitcolor\": \"white\"}, \"hoverlabel\": {\"align\": \"left\"}, \"hovermode\": \"closest\", \"mapbox\": {\"style\": \"light\"}, \"paper_bgcolor\": \"white\", \"plot_bgcolor\": \"#E5ECF6\", \"polar\": {\"angularaxis\": {\"gridcolor\": \"white\", \"linecolor\": \"white\", \"ticks\": \"\"}, \"bgcolor\": \"#E5ECF6\", \"radialaxis\": {\"gridcolor\": \"white\", \"linecolor\": \"white\", \"ticks\": \"\"}}, \"scene\": {\"xaxis\": {\"backgroundcolor\": \"#E5ECF6\", \"gridcolor\": \"white\", \"gridwidth\": 2, \"linecolor\": \"white\", \"showbackground\": true, \"ticks\": \"\", \"zerolinecolor\": \"white\"}, \"yaxis\": {\"backgroundcolor\": \"#E5ECF6\", \"gridcolor\": \"white\", \"gridwidth\": 2, \"linecolor\": \"white\", \"showbackground\": true, \"ticks\": \"\", \"zerolinecolor\": \"white\"}, \"zaxis\": {\"backgroundcolor\": \"#E5ECF6\", \"gridcolor\": \"white\", \"gridwidth\": 2, \"linecolor\": \"white\", \"showbackground\": true, \"ticks\": \"\", \"zerolinecolor\": \"white\"}}, \"shapedefaults\": {\"line\": {\"color\": \"#2a3f5f\"}}, \"ternary\": {\"aaxis\": {\"gridcolor\": \"white\", \"linecolor\": \"white\", \"ticks\": \"\"}, \"baxis\": {\"gridcolor\": \"white\", \"linecolor\": \"white\", \"ticks\": \"\"}, \"bgcolor\": \"#E5ECF6\", \"caxis\": {\"gridcolor\": \"white\", \"linecolor\": \"white\", \"ticks\": \"\"}}, \"title\": {\"x\": 0.05}, \"xaxis\": {\"automargin\": true, \"gridcolor\": \"white\", \"linecolor\": \"white\", \"ticks\": \"\", \"title\": {\"standoff\": 15}, \"zerolinecolor\": \"white\", \"zerolinewidth\": 2}, \"yaxis\": {\"automargin\": true, \"gridcolor\": \"white\", \"linecolor\": \"white\", \"ticks\": \"\", \"title\": {\"standoff\": 15}, \"zerolinecolor\": \"white\", \"zerolinewidth\": 2}}}, \"title\": {\"text\": \"Parallel Coordinates Analysis\"}},                        {\"responsive\": true}                    ).then(function(){\n",
       "                            \n",
       "var gd = document.getElementById('d5546410-7b94-48b6-b78a-dd82838fb1f5');\n",
       "var x = new MutationObserver(function (mutations, observer) {{\n",
       "        var display = window.getComputedStyle(gd).display;\n",
       "        if (!display || display === 'none') {{\n",
       "            console.log([gd, 'removed!']);\n",
       "            Plotly.purge(gd);\n",
       "            observer.disconnect();\n",
       "        }}\n",
       "}});\n",
       "\n",
       "// Listen for the removal of the full notebook cells\n",
       "var notebookContainer = gd.closest('#notebook-container');\n",
       "if (notebookContainer) {{\n",
       "    x.observe(notebookContainer, {childList: true});\n",
       "}}\n",
       "\n",
       "// Listen for the clearing of the current output cell\n",
       "var outputEl = gd.closest('.output');\n",
       "if (outputEl) {{\n",
       "    x.observe(outputEl, {childList: true});\n",
       "}}\n",
       "\n",
       "                        })                };                });            </script>        </div>"
      ]
     },
     "metadata": {},
     "output_type": "display_data"
    }
   ],
   "source": [
    "parallel_coordinates()"
   ]
  },
  {
   "cell_type": "code",
   "execution_count": 215,
   "metadata": {},
   "outputs": [
    {
     "name": "stdout",
     "output_type": "stream",
     "text": [
      "Index(['neighborhood', 'year', 'sale_price_sqr_foot', 'housing_units',\n",
      "       'gross_rent'],\n",
      "      dtype='object')\n",
      "Index(['neighborhood', 'year', 'sale_price_sqr_foot', 'housing_units',\n",
      "       'gross_rent'],\n",
      "      dtype='object')\n"
     ]
    },
    {
     "data": {
      "application/vnd.plotly.v1+json": {
       "config": {
        "plotlyServerURL": "https://plot.ly"
       },
       "data": [
        {
         "branchvalues": "total",
         "customdata": [
          [
           2817.285714285714
          ],
          [
           3414
          ],
          [
           2155.25
          ],
          [
           2817.285714285714
          ],
          [
           2817.285714285714
          ],
          [
           2817.285714285714
          ],
          [
           2099
          ],
          [
           2817.285714285714
          ],
          [
           2555.1666666666665
          ],
          [
           3959
          ],
          [
           2099
          ],
          [
           2155.25
          ],
          [
           2555.1666666666665
          ],
          [
           2817.285714285714
          ],
          [
           3414
          ],
          [
           3959
          ]
         ],
         "domain": {
          "x": [
           0,
           1
          ],
          "y": [
           0,
           1
          ]
         },
         "hovertemplate": "labels=%{label}<br>count=%{value}<br>parent=%{parent}<br>id=%{id}<br>gross_rent=%{color}<extra></extra>",
         "ids": [
          "2013.0/Cow Hollow",
          "2014.0/Merced Heights",
          "2011.75/Miraloma Park",
          "2013.0/Pacific Heights",
          "2013.0/Potrero Hill",
          "2013.0/Presidio Heights",
          "2011.6666666666667/South Beach",
          "2013.0/Telegraph Hill",
          "2012.5/Union Square District",
          "2015.0/Westwood Park",
          "2011.6666666666667",
          "2011.75",
          "2012.5",
          "2013.0",
          "2014.0",
          "2015.0"
         ],
         "labels": [
          "Cow Hollow",
          "Merced Heights",
          "Miraloma Park",
          "Pacific Heights",
          "Potrero Hill",
          "Presidio Heights",
          "South Beach",
          "Telegraph Hill",
          "Union Square District",
          "Westwood Park",
          "2011.6666666666667",
          "2011.75",
          "2012.5",
          "2013.0",
          "2014.0",
          "2015.0"
         ],
         "marker": {
          "coloraxis": "coloraxis",
          "colors": [
           2817.285714285714,
           3414,
           2155.25,
           2817.285714285714,
           2817.285714285714,
           2817.285714285714,
           2099,
           2817.285714285714,
           2555.1666666666665,
           3959,
           2099,
           2155.25,
           2555.1666666666665,
           2817.285714285714,
           3414,
           3959
          ]
         },
         "name": "",
         "parents": [
          "2013.0",
          "2014.0",
          "2011.75",
          "2013.0",
          "2013.0",
          "2013.0",
          "2011.6666666666667",
          "2013.0",
          "2012.5",
          "2015.0",
          "",
          "",
          "",
          "",
          "",
          ""
         ],
         "type": "sunburst",
         "values": [
          1,
          1,
          1,
          1,
          1,
          1,
          1,
          1,
          1,
          1,
          1,
          1,
          1,
          5,
          1,
          1
         ]
        }
       ],
       "layout": {
        "autosize": true,
        "coloraxis": {
         "cmid": 2826.884523809523,
         "colorbar": {
          "title": {
           "text": "gross_rent"
          }
         },
         "colorscale": [
          [
           0,
           "rgb(103,0,31)"
          ],
          [
           0.1,
           "rgb(178,24,43)"
          ],
          [
           0.2,
           "rgb(214,96,77)"
          ],
          [
           0.3,
           "rgb(244,165,130)"
          ],
          [
           0.4,
           "rgb(253,219,199)"
          ],
          [
           0.5,
           "rgb(247,247,247)"
          ],
          [
           0.6,
           "rgb(209,229,240)"
          ],
          [
           0.7,
           "rgb(146,197,222)"
          ],
          [
           0.8,
           "rgb(67,147,195)"
          ],
          [
           0.9,
           "rgb(33,102,172)"
          ],
          [
           1,
           "rgb(5,48,97)"
          ]
         ]
        },
        "legend": {
         "tracegroupgap": 0
        },
        "margin": {
         "t": 60
        },
        "template": {
         "data": {
          "bar": [
           {
            "error_x": {
             "color": "#2a3f5f"
            },
            "error_y": {
             "color": "#2a3f5f"
            },
            "marker": {
             "line": {
              "color": "#E5ECF6",
              "width": 0.5
             }
            },
            "type": "bar"
           }
          ],
          "barpolar": [
           {
            "marker": {
             "line": {
              "color": "#E5ECF6",
              "width": 0.5
             }
            },
            "type": "barpolar"
           }
          ],
          "carpet": [
           {
            "aaxis": {
             "endlinecolor": "#2a3f5f",
             "gridcolor": "white",
             "linecolor": "white",
             "minorgridcolor": "white",
             "startlinecolor": "#2a3f5f"
            },
            "baxis": {
             "endlinecolor": "#2a3f5f",
             "gridcolor": "white",
             "linecolor": "white",
             "minorgridcolor": "white",
             "startlinecolor": "#2a3f5f"
            },
            "type": "carpet"
           }
          ],
          "choropleth": [
           {
            "colorbar": {
             "outlinewidth": 0,
             "ticks": ""
            },
            "type": "choropleth"
           }
          ],
          "contour": [
           {
            "colorbar": {
             "outlinewidth": 0,
             "ticks": ""
            },
            "colorscale": [
             [
              0,
              "#0d0887"
             ],
             [
              0.1111111111111111,
              "#46039f"
             ],
             [
              0.2222222222222222,
              "#7201a8"
             ],
             [
              0.3333333333333333,
              "#9c179e"
             ],
             [
              0.4444444444444444,
              "#bd3786"
             ],
             [
              0.5555555555555556,
              "#d8576b"
             ],
             [
              0.6666666666666666,
              "#ed7953"
             ],
             [
              0.7777777777777778,
              "#fb9f3a"
             ],
             [
              0.8888888888888888,
              "#fdca26"
             ],
             [
              1,
              "#f0f921"
             ]
            ],
            "type": "contour"
           }
          ],
          "contourcarpet": [
           {
            "colorbar": {
             "outlinewidth": 0,
             "ticks": ""
            },
            "type": "contourcarpet"
           }
          ],
          "heatmap": [
           {
            "colorbar": {
             "outlinewidth": 0,
             "ticks": ""
            },
            "colorscale": [
             [
              0,
              "#0d0887"
             ],
             [
              0.1111111111111111,
              "#46039f"
             ],
             [
              0.2222222222222222,
              "#7201a8"
             ],
             [
              0.3333333333333333,
              "#9c179e"
             ],
             [
              0.4444444444444444,
              "#bd3786"
             ],
             [
              0.5555555555555556,
              "#d8576b"
             ],
             [
              0.6666666666666666,
              "#ed7953"
             ],
             [
              0.7777777777777778,
              "#fb9f3a"
             ],
             [
              0.8888888888888888,
              "#fdca26"
             ],
             [
              1,
              "#f0f921"
             ]
            ],
            "type": "heatmap"
           }
          ],
          "heatmapgl": [
           {
            "colorbar": {
             "outlinewidth": 0,
             "ticks": ""
            },
            "colorscale": [
             [
              0,
              "#0d0887"
             ],
             [
              0.1111111111111111,
              "#46039f"
             ],
             [
              0.2222222222222222,
              "#7201a8"
             ],
             [
              0.3333333333333333,
              "#9c179e"
             ],
             [
              0.4444444444444444,
              "#bd3786"
             ],
             [
              0.5555555555555556,
              "#d8576b"
             ],
             [
              0.6666666666666666,
              "#ed7953"
             ],
             [
              0.7777777777777778,
              "#fb9f3a"
             ],
             [
              0.8888888888888888,
              "#fdca26"
             ],
             [
              1,
              "#f0f921"
             ]
            ],
            "type": "heatmapgl"
           }
          ],
          "histogram": [
           {
            "marker": {
             "colorbar": {
              "outlinewidth": 0,
              "ticks": ""
             }
            },
            "type": "histogram"
           }
          ],
          "histogram2d": [
           {
            "colorbar": {
             "outlinewidth": 0,
             "ticks": ""
            },
            "colorscale": [
             [
              0,
              "#0d0887"
             ],
             [
              0.1111111111111111,
              "#46039f"
             ],
             [
              0.2222222222222222,
              "#7201a8"
             ],
             [
              0.3333333333333333,
              "#9c179e"
             ],
             [
              0.4444444444444444,
              "#bd3786"
             ],
             [
              0.5555555555555556,
              "#d8576b"
             ],
             [
              0.6666666666666666,
              "#ed7953"
             ],
             [
              0.7777777777777778,
              "#fb9f3a"
             ],
             [
              0.8888888888888888,
              "#fdca26"
             ],
             [
              1,
              "#f0f921"
             ]
            ],
            "type": "histogram2d"
           }
          ],
          "histogram2dcontour": [
           {
            "colorbar": {
             "outlinewidth": 0,
             "ticks": ""
            },
            "colorscale": [
             [
              0,
              "#0d0887"
             ],
             [
              0.1111111111111111,
              "#46039f"
             ],
             [
              0.2222222222222222,
              "#7201a8"
             ],
             [
              0.3333333333333333,
              "#9c179e"
             ],
             [
              0.4444444444444444,
              "#bd3786"
             ],
             [
              0.5555555555555556,
              "#d8576b"
             ],
             [
              0.6666666666666666,
              "#ed7953"
             ],
             [
              0.7777777777777778,
              "#fb9f3a"
             ],
             [
              0.8888888888888888,
              "#fdca26"
             ],
             [
              1,
              "#f0f921"
             ]
            ],
            "type": "histogram2dcontour"
           }
          ],
          "mesh3d": [
           {
            "colorbar": {
             "outlinewidth": 0,
             "ticks": ""
            },
            "type": "mesh3d"
           }
          ],
          "parcoords": [
           {
            "line": {
             "colorbar": {
              "outlinewidth": 0,
              "ticks": ""
             }
            },
            "type": "parcoords"
           }
          ],
          "pie": [
           {
            "automargin": true,
            "type": "pie"
           }
          ],
          "scatter": [
           {
            "marker": {
             "colorbar": {
              "outlinewidth": 0,
              "ticks": ""
             }
            },
            "type": "scatter"
           }
          ],
          "scatter3d": [
           {
            "line": {
             "colorbar": {
              "outlinewidth": 0,
              "ticks": ""
             }
            },
            "marker": {
             "colorbar": {
              "outlinewidth": 0,
              "ticks": ""
             }
            },
            "type": "scatter3d"
           }
          ],
          "scattercarpet": [
           {
            "marker": {
             "colorbar": {
              "outlinewidth": 0,
              "ticks": ""
             }
            },
            "type": "scattercarpet"
           }
          ],
          "scattergeo": [
           {
            "marker": {
             "colorbar": {
              "outlinewidth": 0,
              "ticks": ""
             }
            },
            "type": "scattergeo"
           }
          ],
          "scattergl": [
           {
            "marker": {
             "colorbar": {
              "outlinewidth": 0,
              "ticks": ""
             }
            },
            "type": "scattergl"
           }
          ],
          "scattermapbox": [
           {
            "marker": {
             "colorbar": {
              "outlinewidth": 0,
              "ticks": ""
             }
            },
            "type": "scattermapbox"
           }
          ],
          "scatterpolar": [
           {
            "marker": {
             "colorbar": {
              "outlinewidth": 0,
              "ticks": ""
             }
            },
            "type": "scatterpolar"
           }
          ],
          "scatterpolargl": [
           {
            "marker": {
             "colorbar": {
              "outlinewidth": 0,
              "ticks": ""
             }
            },
            "type": "scatterpolargl"
           }
          ],
          "scatterternary": [
           {
            "marker": {
             "colorbar": {
              "outlinewidth": 0,
              "ticks": ""
             }
            },
            "type": "scatterternary"
           }
          ],
          "surface": [
           {
            "colorbar": {
             "outlinewidth": 0,
             "ticks": ""
            },
            "colorscale": [
             [
              0,
              "#0d0887"
             ],
             [
              0.1111111111111111,
              "#46039f"
             ],
             [
              0.2222222222222222,
              "#7201a8"
             ],
             [
              0.3333333333333333,
              "#9c179e"
             ],
             [
              0.4444444444444444,
              "#bd3786"
             ],
             [
              0.5555555555555556,
              "#d8576b"
             ],
             [
              0.6666666666666666,
              "#ed7953"
             ],
             [
              0.7777777777777778,
              "#fb9f3a"
             ],
             [
              0.8888888888888888,
              "#fdca26"
             ],
             [
              1,
              "#f0f921"
             ]
            ],
            "type": "surface"
           }
          ],
          "table": [
           {
            "cells": {
             "fill": {
              "color": "#EBF0F8"
             },
             "line": {
              "color": "white"
             }
            },
            "header": {
             "fill": {
              "color": "#C8D4E3"
             },
             "line": {
              "color": "white"
             }
            },
            "type": "table"
           }
          ]
         },
         "layout": {
          "annotationdefaults": {
           "arrowcolor": "#2a3f5f",
           "arrowhead": 0,
           "arrowwidth": 1
          },
          "autotypenumbers": "strict",
          "coloraxis": {
           "colorbar": {
            "outlinewidth": 0,
            "ticks": ""
           }
          },
          "colorscale": {
           "diverging": [
            [
             0,
             "#8e0152"
            ],
            [
             0.1,
             "#c51b7d"
            ],
            [
             0.2,
             "#de77ae"
            ],
            [
             0.3,
             "#f1b6da"
            ],
            [
             0.4,
             "#fde0ef"
            ],
            [
             0.5,
             "#f7f7f7"
            ],
            [
             0.6,
             "#e6f5d0"
            ],
            [
             0.7,
             "#b8e186"
            ],
            [
             0.8,
             "#7fbc41"
            ],
            [
             0.9,
             "#4d9221"
            ],
            [
             1,
             "#276419"
            ]
           ],
           "sequential": [
            [
             0,
             "#0d0887"
            ],
            [
             0.1111111111111111,
             "#46039f"
            ],
            [
             0.2222222222222222,
             "#7201a8"
            ],
            [
             0.3333333333333333,
             "#9c179e"
            ],
            [
             0.4444444444444444,
             "#bd3786"
            ],
            [
             0.5555555555555556,
             "#d8576b"
            ],
            [
             0.6666666666666666,
             "#ed7953"
            ],
            [
             0.7777777777777778,
             "#fb9f3a"
            ],
            [
             0.8888888888888888,
             "#fdca26"
            ],
            [
             1,
             "#f0f921"
            ]
           ],
           "sequentialminus": [
            [
             0,
             "#0d0887"
            ],
            [
             0.1111111111111111,
             "#46039f"
            ],
            [
             0.2222222222222222,
             "#7201a8"
            ],
            [
             0.3333333333333333,
             "#9c179e"
            ],
            [
             0.4444444444444444,
             "#bd3786"
            ],
            [
             0.5555555555555556,
             "#d8576b"
            ],
            [
             0.6666666666666666,
             "#ed7953"
            ],
            [
             0.7777777777777778,
             "#fb9f3a"
            ],
            [
             0.8888888888888888,
             "#fdca26"
            ],
            [
             1,
             "#f0f921"
            ]
           ]
          },
          "colorway": [
           "#636efa",
           "#EF553B",
           "#00cc96",
           "#ab63fa",
           "#FFA15A",
           "#19d3f3",
           "#FF6692",
           "#B6E880",
           "#FF97FF",
           "#FECB52"
          ],
          "font": {
           "color": "#2a3f5f"
          },
          "geo": {
           "bgcolor": "white",
           "lakecolor": "white",
           "landcolor": "#E5ECF6",
           "showlakes": true,
           "showland": true,
           "subunitcolor": "white"
          },
          "hoverlabel": {
           "align": "left"
          },
          "hovermode": "closest",
          "mapbox": {
           "style": "light"
          },
          "paper_bgcolor": "white",
          "plot_bgcolor": "#E5ECF6",
          "polar": {
           "angularaxis": {
            "gridcolor": "white",
            "linecolor": "white",
            "ticks": ""
           },
           "bgcolor": "#E5ECF6",
           "radialaxis": {
            "gridcolor": "white",
            "linecolor": "white",
            "ticks": ""
           }
          },
          "scene": {
           "xaxis": {
            "backgroundcolor": "#E5ECF6",
            "gridcolor": "white",
            "gridwidth": 2,
            "linecolor": "white",
            "showbackground": true,
            "ticks": "",
            "zerolinecolor": "white"
           },
           "yaxis": {
            "backgroundcolor": "#E5ECF6",
            "gridcolor": "white",
            "gridwidth": 2,
            "linecolor": "white",
            "showbackground": true,
            "ticks": "",
            "zerolinecolor": "white"
           },
           "zaxis": {
            "backgroundcolor": "#E5ECF6",
            "gridcolor": "white",
            "gridwidth": 2,
            "linecolor": "white",
            "showbackground": true,
            "ticks": "",
            "zerolinecolor": "white"
           }
          },
          "shapedefaults": {
           "line": {
            "color": "#2a3f5f"
           }
          },
          "ternary": {
           "aaxis": {
            "gridcolor": "white",
            "linecolor": "white",
            "ticks": ""
           },
           "baxis": {
            "gridcolor": "white",
            "linecolor": "white",
            "ticks": ""
           },
           "bgcolor": "#E5ECF6",
           "caxis": {
            "gridcolor": "white",
            "linecolor": "white",
            "ticks": ""
           }
          },
          "title": {
           "x": 0.05
          },
          "xaxis": {
           "automargin": true,
           "gridcolor": "white",
           "linecolor": "white",
           "ticks": "",
           "title": {
            "standoff": 15
           },
           "zerolinecolor": "white",
           "zerolinewidth": 2
          },
          "yaxis": {
           "automargin": true,
           "gridcolor": "white",
           "linecolor": "white",
           "ticks": "",
           "title": {
            "standoff": 15
           },
           "zerolinecolor": "white",
           "zerolinewidth": 2
          }
         }
        }
       }
      },
      "image/png": "[encoded data removed]",
      "text/html": [
       "<div>                            <div id=\"2f0b30d5-9dec-40a4-a93b-b4eb9335fbf3\" class=\"plotly-graph-div\" style=\"height:525px; width:100%;\"></div>            <script type=\"text/javascript\">                require([\"plotly\"], function(Plotly) {                    window.PLOTLYENV=window.PLOTLYENV || {};                                    if (document.getElementById(\"2f0b30d5-9dec-40a4-a93b-b4eb9335fbf3\")) {                    Plotly.newPlot(                        \"2f0b30d5-9dec-40a4-a93b-b4eb9335fbf3\",                        [{\"branchvalues\": \"total\", \"customdata\": [[2817.285714285714], [3414.0], [2155.25], [2817.285714285714], [2817.285714285714], [2817.285714285714], [2099.0], [2817.285714285714], [2555.1666666666665], [3959.0], [2099.0], [2155.25], [2555.1666666666665], [2817.285714285714], [3414.0], [3959.0]], \"domain\": {\"x\": [0.0, 1.0], \"y\": [0.0, 1.0]}, \"hovertemplate\": \"labels=%{label}<br>count=%{value}<br>parent=%{parent}<br>id=%{id}<br>gross_rent=%{color}<extra></extra>\", \"ids\": [\"2013.0/Cow Hollow\", \"2014.0/Merced Heights\", \"2011.75/Miraloma Park\", \"2013.0/Pacific Heights\", \"2013.0/Potrero Hill\", \"2013.0/Presidio Heights\", \"2011.6666666666667/South Beach\", \"2013.0/Telegraph Hill\", \"2012.5/Union Square District\", \"2015.0/Westwood Park\", \"2011.6666666666667\", \"2011.75\", \"2012.5\", \"2013.0\", \"2014.0\", \"2015.0\"], \"labels\": [\"Cow Hollow\", \"Merced Heights\", \"Miraloma Park\", \"Pacific Heights\", \"Potrero Hill\", \"Presidio Heights\", \"South Beach\", \"Telegraph Hill\", \"Union Square District\", \"Westwood Park\", \"2011.6666666666667\", \"2011.75\", \"2012.5\", \"2013.0\", \"2014.0\", \"2015.0\"], \"marker\": {\"coloraxis\": \"coloraxis\", \"colors\": [2817.285714285714, 3414.0, 2155.25, 2817.285714285714, 2817.285714285714, 2817.285714285714, 2099.0, 2817.285714285714, 2555.1666666666665, 3959.0, 2099.0, 2155.25, 2555.1666666666665, 2817.285714285714, 3414.0, 3959.0]}, \"name\": \"\", \"parents\": [\"2013.0\", \"2014.0\", \"2011.75\", \"2013.0\", \"2013.0\", \"2013.0\", \"2011.6666666666667\", \"2013.0\", \"2012.5\", \"2015.0\", \"\", \"\", \"\", \"\", \"\", \"\"], \"type\": \"sunburst\", \"values\": [1, 1, 1, 1, 1, 1, 1, 1, 1, 1, 1, 1, 1, 5, 1, 1]}],                        {\"coloraxis\": {\"cmid\": 2826.884523809523, \"colorbar\": {\"title\": {\"text\": \"gross_rent\"}}, \"colorscale\": [[0.0, \"rgb(103,0,31)\"], [0.1, \"rgb(178,24,43)\"], [0.2, \"rgb(214,96,77)\"], [0.3, \"rgb(244,165,130)\"], [0.4, \"rgb(253,219,199)\"], [0.5, \"rgb(247,247,247)\"], [0.6, \"rgb(209,229,240)\"], [0.7, \"rgb(146,197,222)\"], [0.8, \"rgb(67,147,195)\"], [0.9, \"rgb(33,102,172)\"], [1.0, \"rgb(5,48,97)\"]]}, \"legend\": {\"tracegroupgap\": 0}, \"margin\": {\"t\": 60}, \"template\": {\"data\": {\"bar\": [{\"error_x\": {\"color\": \"#2a3f5f\"}, \"error_y\": {\"color\": \"#2a3f5f\"}, \"marker\": {\"line\": {\"color\": \"#E5ECF6\", \"width\": 0.5}}, \"type\": \"bar\"}], \"barpolar\": [{\"marker\": {\"line\": {\"color\": \"#E5ECF6\", \"width\": 0.5}}, \"type\": \"barpolar\"}], \"carpet\": [{\"aaxis\": {\"endlinecolor\": \"#2a3f5f\", \"gridcolor\": \"white\", \"linecolor\": \"white\", \"minorgridcolor\": \"white\", \"startlinecolor\": \"#2a3f5f\"}, \"baxis\": {\"endlinecolor\": \"#2a3f5f\", \"gridcolor\": \"white\", \"linecolor\": \"white\", \"minorgridcolor\": \"white\", \"startlinecolor\": \"#2a3f5f\"}, \"type\": \"carpet\"}], \"choropleth\": [{\"colorbar\": {\"outlinewidth\": 0, \"ticks\": \"\"}, \"type\": \"choropleth\"}], \"contour\": [{\"colorbar\": {\"outlinewidth\": 0, \"ticks\": \"\"}, \"colorscale\": [[0.0, \"#0d0887\"], [0.1111111111111111, \"#46039f\"], [0.2222222222222222, \"#7201a8\"], [0.3333333333333333, \"#9c179e\"], [0.4444444444444444, \"#bd3786\"], [0.5555555555555556, \"#d8576b\"], [0.6666666666666666, \"#ed7953\"], [0.7777777777777778, \"#fb9f3a\"], [0.8888888888888888, \"#fdca26\"], [1.0, \"#f0f921\"]], \"type\": \"contour\"}], \"contourcarpet\": [{\"colorbar\": {\"outlinewidth\": 0, \"ticks\": \"\"}, \"type\": \"contourcarpet\"}], \"heatmap\": [{\"colorbar\": {\"outlinewidth\": 0, \"ticks\": \"\"}, \"colorscale\": [[0.0, \"#0d0887\"], [0.1111111111111111, \"#46039f\"], [0.2222222222222222, \"#7201a8\"], [0.3333333333333333, \"#9c179e\"], [0.4444444444444444, \"#bd3786\"], [0.5555555555555556, \"#d8576b\"], [0.6666666666666666, \"#ed7953\"], [0.7777777777777778, \"#fb9f3a\"], [0.8888888888888888, \"#fdca26\"], [1.0, \"#f0f921\"]], \"type\": \"heatmap\"}], \"heatmapgl\": [{\"colorbar\": {\"outlinewidth\": 0, \"ticks\": \"\"}, \"colorscale\": [[0.0, \"#0d0887\"], [0.1111111111111111, \"#46039f\"], [0.2222222222222222, \"#7201a8\"], [0.3333333333333333, \"#9c179e\"], [0.4444444444444444, \"#bd3786\"], [0.5555555555555556, \"#d8576b\"], [0.6666666666666666, \"#ed7953\"], [0.7777777777777778, \"#fb9f3a\"], [0.8888888888888888, \"#fdca26\"], [1.0, \"#f0f921\"]], \"type\": \"heatmapgl\"}], \"histogram\": [{\"marker\": {\"colorbar\": {\"outlinewidth\": 0, \"ticks\": \"\"}}, \"type\": \"histogram\"}], \"histogram2d\": [{\"colorbar\": {\"outlinewidth\": 0, \"ticks\": \"\"}, \"colorscale\": [[0.0, \"#0d0887\"], [0.1111111111111111, \"#46039f\"], [0.2222222222222222, \"#7201a8\"], [0.3333333333333333, \"#9c179e\"], [0.4444444444444444, \"#bd3786\"], [0.5555555555555556, \"#d8576b\"], [0.6666666666666666, \"#ed7953\"], [0.7777777777777778, \"#fb9f3a\"], [0.8888888888888888, \"#fdca26\"], [1.0, \"#f0f921\"]], \"type\": \"histogram2d\"}], \"histogram2dcontour\": [{\"colorbar\": {\"outlinewidth\": 0, \"ticks\": \"\"}, \"colorscale\": [[0.0, \"#0d0887\"], [0.1111111111111111, \"#46039f\"], [0.2222222222222222, \"#7201a8\"], [0.3333333333333333, \"#9c179e\"], [0.4444444444444444, \"#bd3786\"], [0.5555555555555556, \"#d8576b\"], [0.6666666666666666, \"#ed7953\"], [0.7777777777777778, \"#fb9f3a\"], [0.8888888888888888, \"#fdca26\"], [1.0, \"#f0f921\"]], \"type\": \"histogram2dcontour\"}], \"mesh3d\": [{\"colorbar\": {\"outlinewidth\": 0, \"ticks\": \"\"}, \"type\": \"mesh3d\"}], \"parcoords\": [{\"line\": {\"colorbar\": {\"outlinewidth\": 0, \"ticks\": \"\"}}, \"type\": \"parcoords\"}], \"pie\": [{\"automargin\": true, \"type\": \"pie\"}], \"scatter\": [{\"marker\": {\"colorbar\": {\"outlinewidth\": 0, \"ticks\": \"\"}}, \"type\": \"scatter\"}], \"scatter3d\": [{\"line\": {\"colorbar\": {\"outlinewidth\": 0, \"ticks\": \"\"}}, \"marker\": {\"colorbar\": {\"outlinewidth\": 0, \"ticks\": \"\"}}, \"type\": \"scatter3d\"}], \"scattercarpet\": [{\"marker\": {\"colorbar\": {\"outlinewidth\": 0, \"ticks\": \"\"}}, \"type\": \"scattercarpet\"}], \"scattergeo\": [{\"marker\": {\"colorbar\": {\"outlinewidth\": 0, \"ticks\": \"\"}}, \"type\": \"scattergeo\"}], \"scattergl\": [{\"marker\": {\"colorbar\": {\"outlinewidth\": 0, \"ticks\": \"\"}}, \"type\": \"scattergl\"}], \"scattermapbox\": [{\"marker\": {\"colorbar\": {\"outlinewidth\": 0, \"ticks\": \"\"}}, \"type\": \"scattermapbox\"}], \"scatterpolar\": [{\"marker\": {\"colorbar\": {\"outlinewidth\": 0, \"ticks\": \"\"}}, \"type\": \"scatterpolar\"}], \"scatterpolargl\": [{\"marker\": {\"colorbar\": {\"outlinewidth\": 0, \"ticks\": \"\"}}, \"type\": \"scatterpolargl\"}], \"scatterternary\": [{\"marker\": {\"colorbar\": {\"outlinewidth\": 0, \"ticks\": \"\"}}, \"type\": \"scatterternary\"}], \"surface\": [{\"colorbar\": {\"outlinewidth\": 0, \"ticks\": \"\"}, \"colorscale\": [[0.0, \"#0d0887\"], [0.1111111111111111, \"#46039f\"], [0.2222222222222222, \"#7201a8\"], [0.3333333333333333, \"#9c179e\"], [0.4444444444444444, \"#bd3786\"], [0.5555555555555556, \"#d8576b\"], [0.6666666666666666, \"#ed7953\"], [0.7777777777777778, \"#fb9f3a\"], [0.8888888888888888, \"#fdca26\"], [1.0, \"#f0f921\"]], \"type\": \"surface\"}], \"table\": [{\"cells\": {\"fill\": {\"color\": \"#EBF0F8\"}, \"line\": {\"color\": \"white\"}}, \"header\": {\"fill\": {\"color\": \"#C8D4E3\"}, \"line\": {\"color\": \"white\"}}, \"type\": \"table\"}]}, \"layout\": {\"annotationdefaults\": {\"arrowcolor\": \"#2a3f5f\", \"arrowhead\": 0, \"arrowwidth\": 1}, \"autotypenumbers\": \"strict\", \"coloraxis\": {\"colorbar\": {\"outlinewidth\": 0, \"ticks\": \"\"}}, \"colorscale\": {\"diverging\": [[0, \"#8e0152\"], [0.1, \"#c51b7d\"], [0.2, \"#de77ae\"], [0.3, \"#f1b6da\"], [0.4, \"#fde0ef\"], [0.5, \"#f7f7f7\"], [0.6, \"#e6f5d0\"], [0.7, \"#b8e186\"], [0.8, \"#7fbc41\"], [0.9, \"#4d9221\"], [1, \"#276419\"]], \"sequential\": [[0.0, \"#0d0887\"], [0.1111111111111111, \"#46039f\"], [0.2222222222222222, \"#7201a8\"], [0.3333333333333333, \"#9c179e\"], [0.4444444444444444, \"#bd3786\"], [0.5555555555555556, \"#d8576b\"], [0.6666666666666666, \"#ed7953\"], [0.7777777777777778, \"#fb9f3a\"], [0.8888888888888888, \"#fdca26\"], [1.0, \"#f0f921\"]], \"sequentialminus\": [[0.0, \"#0d0887\"], [0.1111111111111111, \"#46039f\"], [0.2222222222222222, \"#7201a8\"], [0.3333333333333333, \"#9c179e\"], [0.4444444444444444, \"#bd3786\"], [0.5555555555555556, \"#d8576b\"], [0.6666666666666666, \"#ed7953\"], [0.7777777777777778, \"#fb9f3a\"], [0.8888888888888888, \"#fdca26\"], [1.0, \"#f0f921\"]]}, \"colorway\": [\"#636efa\", \"#EF553B\", \"#00cc96\", \"#ab63fa\", \"#FFA15A\", \"#19d3f3\", \"#FF6692\", \"#B6E880\", \"#FF97FF\", \"#FECB52\"], \"font\": {\"color\": \"#2a3f5f\"}, \"geo\": {\"bgcolor\": \"white\", \"lakecolor\": \"white\", \"landcolor\": \"#E5ECF6\", \"showlakes\": true, \"showland\": true, \"subunitcolor\": \"white\"}, \"hoverlabel\": {\"align\": \"left\"}, \"hovermode\": \"closest\", \"mapbox\": {\"style\": \"light\"}, \"paper_bgcolor\": \"white\", \"plot_bgcolor\": \"#E5ECF6\", \"polar\": {\"angularaxis\": {\"gridcolor\": \"white\", \"linecolor\": \"white\", \"ticks\": \"\"}, \"bgcolor\": \"#E5ECF6\", \"radialaxis\": {\"gridcolor\": \"white\", \"linecolor\": \"white\", \"ticks\": \"\"}}, \"scene\": {\"xaxis\": {\"backgroundcolor\": \"#E5ECF6\", \"gridcolor\": \"white\", \"gridwidth\": 2, \"linecolor\": \"white\", \"showbackground\": true, \"ticks\": \"\", \"zerolinecolor\": \"white\"}, \"yaxis\": {\"backgroundcolor\": \"#E5ECF6\", \"gridcolor\": \"white\", \"gridwidth\": 2, \"linecolor\": \"white\", \"showbackground\": true, \"ticks\": \"\", \"zerolinecolor\": \"white\"}, \"zaxis\": {\"backgroundcolor\": \"#E5ECF6\", \"gridcolor\": \"white\", \"gridwidth\": 2, \"linecolor\": \"white\", \"showbackground\": true, \"ticks\": \"\", \"zerolinecolor\": \"white\"}}, \"shapedefaults\": {\"line\": {\"color\": \"#2a3f5f\"}}, \"ternary\": {\"aaxis\": {\"gridcolor\": \"white\", \"linecolor\": \"white\", \"ticks\": \"\"}, \"baxis\": {\"gridcolor\": \"white\", \"linecolor\": \"white\", \"ticks\": \"\"}, \"bgcolor\": \"#E5ECF6\", \"caxis\": {\"gridcolor\": \"white\", \"linecolor\": \"white\", \"ticks\": \"\"}}, \"title\": {\"x\": 0.05}, \"xaxis\": {\"automargin\": true, \"gridcolor\": \"white\", \"linecolor\": \"white\", \"ticks\": \"\", \"title\": {\"standoff\": 15}, \"zerolinecolor\": \"white\", \"zerolinewidth\": 2}, \"yaxis\": {\"automargin\": true, \"gridcolor\": \"white\", \"linecolor\": \"white\", \"ticks\": \"\", \"title\": {\"standoff\": 15}, \"zerolinecolor\": \"white\", \"zerolinewidth\": 2}}}},                        {\"responsive\": true}                    ).then(function(){\n",
       "                            \n",
       "var gd = document.getElementById('2f0b30d5-9dec-40a4-a93b-b4eb9335fbf3');\n",
       "var x = new MutationObserver(function (mutations, observer) {{\n",
       "        var display = window.getComputedStyle(gd).display;\n",
       "        if (!display || display === 'none') {{\n",
       "            console.log([gd, 'removed!']);\n",
       "            Plotly.purge(gd);\n",
       "            observer.disconnect();\n",
       "        }}\n",
       "}});\n",
       "\n",
       "// Listen for the removal of the full notebook cells\n",
       "var notebookContainer = gd.closest('#notebook-container');\n",
       "if (notebookContainer) {{\n",
       "    x.observe(notebookContainer, {childList: true});\n",
       "}}\n",
       "\n",
       "// Listen for the clearing of the current output cell\n",
       "var outputEl = gd.closest('.output');\n",
       "if (outputEl) {{\n",
       "    x.observe(outputEl, {childList: true});\n",
       "}}\n",
       "\n",
       "                        })                };                });            </script>        </div>"
      ]
     },
     "metadata": {},
     "output_type": "display_data"
    }
   ],
   "source": [
    "sunburst()"
   ]
  },
  {
   "cell_type": "code",
   "execution_count": null,
   "metadata": {},
   "outputs": [],
   "source": []
  },
  {
   "cell_type": "code",
   "execution_count": null,
   "metadata": {},
   "outputs": [],
   "source": []
  },
  {
   "cell_type": "code",
   "execution_count": null,
   "metadata": {},
   "outputs": [],
   "source": []
  },
  {
   "cell_type": "code",
   "execution_count": null,
   "metadata": {},
   "outputs": [],
   "source": []
  },
  {
   "cell_type": "code",
   "execution_count": null,
   "metadata": {},
   "outputs": [],
   "source": []
  }
 ],
 "metadata": {
  "file_extension": ".py",
  "kernelspec": {
   "display_name": "Python [conda env:pyvizenv] *",
   "language": "python",
   "name": "conda-env-pyvizenv-py"
  },
  "language_info": {
   "codemirror_mode": {
    "name": "ipython",
    "version": 3
   },
   "file_extension": ".py",
   "mimetype": "text/x-python",
   "name": "python",
   "nbconvert_exporter": "python",
   "pygments_lexer": "ipython3",
   "version": "3.7.9"
  },
  "mimetype": "text/x-python",
  "name": "python",
  "npconvert_exporter": "python",
  "pygments_lexer": "ipython3",
  "version": 3
 },
 "nbformat": 4,
 "nbformat_minor": 4
}
